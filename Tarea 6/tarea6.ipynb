{
  "cells": [
    {
      "cell_type": "markdown",
      "metadata": {
        "id": "W1DcDH8FpKhd"
      },
      "source": [
        "# Miguel Angel Ruiz Ortiz\n",
        "## Procesamiento de Lenguaje Natural\n",
        "## Tarea 6: Hierarchical Attention"
      ]
    },
    {
      "cell_type": "code",
      "execution_count": 1,
      "metadata": {
        "colab": {
          "base_uri": "https://localhost:8080/"
        },
        "id": "dTFXvmUzhRai",
        "outputId": "6f71f245-1b50-45fe-ea96-80c413dd4272"
      },
      "outputs": [
        {
          "name": "stdout",
          "output_type": "stream",
          "text": [
            "Mounted at /content/drive\n"
          ]
        }
      ],
      "source": [
        "from google.colab import drive\n",
        "drive.mount(\"/content/drive\")"
      ]
    },
    {
      "cell_type": "code",
      "execution_count": 2,
      "metadata": {
        "id": "k8pi5J-lpGyA"
      },
      "outputs": [],
      "source": [
        "from pathlib import Path\n",
        "import os\n",
        "import shutil\n",
        "import json\n",
        "import time\n",
        "\n",
        "import numpy as np\n",
        "import pandas as pd\n",
        "from sklearn.metrics import accuracy_score, classification_report, confusion_matrix\n",
        "\n",
        "import matplotlib.pyplot as plt\n",
        "import seaborn as sns\n",
        "\n",
        "from nltk.tokenize import TweetTokenizer\n",
        "from bs4 import BeautifulSoup\n",
        "\n",
        "from torch.utils.data import DataLoader, TensorDataset\n",
        "import torch\n",
        "import torch.nn as nn\n",
        "import torch.nn.functional as F\n",
        "import torch.optim as optim\n",
        "from torch.nn.utils.rnn import pad_sequence"
      ]
    },
    {
      "cell_type": "markdown",
      "metadata": {
        "id": "3rSO6gIk0PEr"
      },
      "source": [
        "# 1) Lectura de corpus y preprocesamiento"
      ]
    },
    {
      "cell_type": "code",
      "execution_count": 3,
      "metadata": {
        "id": "zhcQARlghKpg"
      },
      "outputs": [],
      "source": [
        "base_path = Path(\"/content/drive/My Drive/Academic Stuff/NLP (CIMAT)\")\n",
        "\n",
        "# carpetas con tweets en xml\n",
        "train_path = base_path / \"corpus\" / \"2025AuthorProfiling\" / \"es_train\"\n",
        "val_path = base_path / \"corpus\" / \"2025AuthorProfiling\" / \"es_val\"\n",
        "\n",
        "# archivos de ground truth\n",
        "train_truth_path = train_path / \"truth.txt\"\n",
        "val_truth_path = val_path / \"truth.txt\"\n",
        "\n",
        "# archivos json con todos los tweets por autor\n",
        "all_train_tweets_path = base_path / \"corpus\" / \"2025AuthorProfiling\" / \"train_tweets.json\"\n",
        "all_val_tweets_path = base_path / \"corpus\" / \"2025AuthorProfiling\" / \"val_tweets.json\"\n",
        "\n",
        "# archivo json con mapeo {word -> word_id}\n",
        "word2id_path = base_path / \"models-tarea-6\" / \"word2id.json\"\n",
        "\n",
        "# carpeta para guardar mejor modelo entrenado\n",
        "savedir = base_path / \"models-tarea-6\"\n",
        "os.makedirs(savedir, exist_ok = True)"
      ]
    },
    {
      "cell_type": "code",
      "execution_count": 4,
      "metadata": {
        "colab": {
          "base_uri": "https://localhost:8080/",
          "height": 481
        },
        "id": "P_UztvMWoy4m",
        "outputId": "8096d031-41b0-4482-fef1-3cd4814519c5"
      },
      "outputs": [
        {
          "name": "stderr",
          "output_type": "stream",
          "text": [
            "<ipython-input-4-456d9087dc1b>:1: ParserWarning: Falling back to the 'python' engine because the 'c' engine does not support regex separators (separators > 1 char and different from '\\s+' are interpreted as regex); you can avoid this warning by specifying engine='python'.\n",
            "  df_train = pd.read_csv(train_truth_path, sep=\":::\", names=[\"author\", \"gender\", \"nationality\"])\n"
          ]
        },
        {
          "data": {
            "application/vnd.google.colaboratory.intrinsic+json": {
              "summary": "{\n  \"name\": \"df_train\",\n  \"rows\": 3360,\n  \"fields\": [\n    {\n      \"column\": \"author\",\n      \"properties\": {\n        \"dtype\": \"string\",\n        \"num_unique_values\": 3360,\n        \"samples\": [\n          \"3c379ef51acc19b0d097a43594913b72\",\n          \"75da48044f63feeee7ab950b6a9e4f0c\",\n          \"187fc66d82c9c9a0d36cce529c26ff0f\"\n        ],\n        \"semantic_type\": \"\",\n        \"description\": \"\"\n      }\n    },\n    {\n      \"column\": \"gender\",\n      \"properties\": {\n        \"dtype\": \"category\",\n        \"num_unique_values\": 2,\n        \"samples\": [\n          \"male\",\n          \"female\"\n        ],\n        \"semantic_type\": \"\",\n        \"description\": \"\"\n      }\n    },\n    {\n      \"column\": \"nationality\",\n      \"properties\": {\n        \"dtype\": \"category\",\n        \"num_unique_values\": 7,\n        \"samples\": [\n          \"colombia\",\n          \"mexico\"\n        ],\n        \"semantic_type\": \"\",\n        \"description\": \"\"\n      }\n    }\n  ]\n}",
              "type": "dataframe",
              "variable_name": "df_train"
            },
            "text/html": [
              "\n",
              "  <div id=\"df-3b298201-0fef-4a45-a650-e596b7ab1756\" class=\"colab-df-container\">\n",
              "    <div>\n",
              "<style scoped>\n",
              "    .dataframe tbody tr th:only-of-type {\n",
              "        vertical-align: middle;\n",
              "    }\n",
              "\n",
              "    .dataframe tbody tr th {\n",
              "        vertical-align: top;\n",
              "    }\n",
              "\n",
              "    .dataframe thead th {\n",
              "        text-align: right;\n",
              "    }\n",
              "</style>\n",
              "<table border=\"1\" class=\"dataframe\">\n",
              "  <thead>\n",
              "    <tr style=\"text-align: right;\">\n",
              "      <th></th>\n",
              "      <th>author</th>\n",
              "      <th>gender</th>\n",
              "      <th>nationality</th>\n",
              "    </tr>\n",
              "  </thead>\n",
              "  <tbody>\n",
              "    <tr>\n",
              "      <th>0</th>\n",
              "      <td>b06932f4e940fb4a8da35acce4f044c</td>\n",
              "      <td>female</td>\n",
              "      <td>colombia</td>\n",
              "    </tr>\n",
              "    <tr>\n",
              "      <th>1</th>\n",
              "      <td>41c28ef7d52cc22e8011800eb9324e2</td>\n",
              "      <td>male</td>\n",
              "      <td>mexico</td>\n",
              "    </tr>\n",
              "    <tr>\n",
              "      <th>2</th>\n",
              "      <td>726dc5856c5ed9a10dd8e9f2a5b5ecdd</td>\n",
              "      <td>female</td>\n",
              "      <td>argentina</td>\n",
              "    </tr>\n",
              "    <tr>\n",
              "      <th>3</th>\n",
              "      <td>e518e6b3e3770fe3456eda031398c459</td>\n",
              "      <td>female</td>\n",
              "      <td>spain</td>\n",
              "    </tr>\n",
              "    <tr>\n",
              "      <th>4</th>\n",
              "      <td>b1daafa3cda99bdacb966afa76859f58</td>\n",
              "      <td>female</td>\n",
              "      <td>colombia</td>\n",
              "    </tr>\n",
              "    <tr>\n",
              "      <th>...</th>\n",
              "      <td>...</td>\n",
              "      <td>...</td>\n",
              "      <td>...</td>\n",
              "    </tr>\n",
              "    <tr>\n",
              "      <th>3355</th>\n",
              "      <td>4c269442e8eda784f72247df01ea979d</td>\n",
              "      <td>male</td>\n",
              "      <td>argentina</td>\n",
              "    </tr>\n",
              "    <tr>\n",
              "      <th>3356</th>\n",
              "      <td>eeba5c9661c4e9fd1c1aad4db24b14cb</td>\n",
              "      <td>male</td>\n",
              "      <td>spain</td>\n",
              "    </tr>\n",
              "    <tr>\n",
              "      <th>3357</th>\n",
              "      <td>21898041fd29473e7c23c0731b0c93a8</td>\n",
              "      <td>female</td>\n",
              "      <td>venezuela</td>\n",
              "    </tr>\n",
              "    <tr>\n",
              "      <th>3358</th>\n",
              "      <td>49e77eeb8a03fb06983ad69db9e6ca6b</td>\n",
              "      <td>male</td>\n",
              "      <td>peru</td>\n",
              "    </tr>\n",
              "    <tr>\n",
              "      <th>3359</th>\n",
              "      <td>d93f884dd0356633fe243892336460ad</td>\n",
              "      <td>female</td>\n",
              "      <td>colombia</td>\n",
              "    </tr>\n",
              "  </tbody>\n",
              "</table>\n",
              "<p>3360 rows × 3 columns</p>\n",
              "</div>\n",
              "    <div class=\"colab-df-buttons\">\n",
              "\n",
              "  <div class=\"colab-df-container\">\n",
              "    <button class=\"colab-df-convert\" onclick=\"convertToInteractive('df-3b298201-0fef-4a45-a650-e596b7ab1756')\"\n",
              "            title=\"Convert this dataframe to an interactive table.\"\n",
              "            style=\"display:none;\">\n",
              "\n",
              "  <svg xmlns=\"http://www.w3.org/2000/svg\" height=\"24px\" viewBox=\"0 -960 960 960\">\n",
              "    <path d=\"M120-120v-720h720v720H120Zm60-500h600v-160H180v160Zm220 220h160v-160H400v160Zm0 220h160v-160H400v160ZM180-400h160v-160H180v160Zm440 0h160v-160H620v160ZM180-180h160v-160H180v160Zm440 0h160v-160H620v160Z\"/>\n",
              "  </svg>\n",
              "    </button>\n",
              "\n",
              "  <style>\n",
              "    .colab-df-container {\n",
              "      display:flex;\n",
              "      gap: 12px;\n",
              "    }\n",
              "\n",
              "    .colab-df-convert {\n",
              "      background-color: #E8F0FE;\n",
              "      border: none;\n",
              "      border-radius: 50%;\n",
              "      cursor: pointer;\n",
              "      display: none;\n",
              "      fill: #1967D2;\n",
              "      height: 32px;\n",
              "      padding: 0 0 0 0;\n",
              "      width: 32px;\n",
              "    }\n",
              "\n",
              "    .colab-df-convert:hover {\n",
              "      background-color: #E2EBFA;\n",
              "      box-shadow: 0px 1px 2px rgba(60, 64, 67, 0.3), 0px 1px 3px 1px rgba(60, 64, 67, 0.15);\n",
              "      fill: #174EA6;\n",
              "    }\n",
              "\n",
              "    .colab-df-buttons div {\n",
              "      margin-bottom: 4px;\n",
              "    }\n",
              "\n",
              "    [theme=dark] .colab-df-convert {\n",
              "      background-color: #3B4455;\n",
              "      fill: #D2E3FC;\n",
              "    }\n",
              "\n",
              "    [theme=dark] .colab-df-convert:hover {\n",
              "      background-color: #434B5C;\n",
              "      box-shadow: 0px 1px 3px 1px rgba(0, 0, 0, 0.15);\n",
              "      filter: drop-shadow(0px 1px 2px rgba(0, 0, 0, 0.3));\n",
              "      fill: #FFFFFF;\n",
              "    }\n",
              "  </style>\n",
              "\n",
              "    <script>\n",
              "      const buttonEl =\n",
              "        document.querySelector('#df-3b298201-0fef-4a45-a650-e596b7ab1756 button.colab-df-convert');\n",
              "      buttonEl.style.display =\n",
              "        google.colab.kernel.accessAllowed ? 'block' : 'none';\n",
              "\n",
              "      async function convertToInteractive(key) {\n",
              "        const element = document.querySelector('#df-3b298201-0fef-4a45-a650-e596b7ab1756');\n",
              "        const dataTable =\n",
              "          await google.colab.kernel.invokeFunction('convertToInteractive',\n",
              "                                                    [key], {});\n",
              "        if (!dataTable) return;\n",
              "\n",
              "        const docLinkHtml = 'Like what you see? Visit the ' +\n",
              "          '<a target=\"_blank\" href=https://colab.research.google.com/notebooks/data_table.ipynb>data table notebook</a>'\n",
              "          + ' to learn more about interactive tables.';\n",
              "        element.innerHTML = '';\n",
              "        dataTable['output_type'] = 'display_data';\n",
              "        await google.colab.output.renderOutput(dataTable, element);\n",
              "        const docLink = document.createElement('div');\n",
              "        docLink.innerHTML = docLinkHtml;\n",
              "        element.appendChild(docLink);\n",
              "      }\n",
              "    </script>\n",
              "  </div>\n",
              "\n",
              "\n",
              "<div id=\"df-6100005b-0ec1-4090-a0a3-d97467e411db\">\n",
              "  <button class=\"colab-df-quickchart\" onclick=\"quickchart('df-6100005b-0ec1-4090-a0a3-d97467e411db')\"\n",
              "            title=\"Suggest charts\"\n",
              "            style=\"display:none;\">\n",
              "\n",
              "<svg xmlns=\"http://www.w3.org/2000/svg\" height=\"24px\"viewBox=\"0 0 24 24\"\n",
              "     width=\"24px\">\n",
              "    <g>\n",
              "        <path d=\"M19 3H5c-1.1 0-2 .9-2 2v14c0 1.1.9 2 2 2h14c1.1 0 2-.9 2-2V5c0-1.1-.9-2-2-2zM9 17H7v-7h2v7zm4 0h-2V7h2v10zm4 0h-2v-4h2v4z\"/>\n",
              "    </g>\n",
              "</svg>\n",
              "  </button>\n",
              "\n",
              "<style>\n",
              "  .colab-df-quickchart {\n",
              "      --bg-color: #E8F0FE;\n",
              "      --fill-color: #1967D2;\n",
              "      --hover-bg-color: #E2EBFA;\n",
              "      --hover-fill-color: #174EA6;\n",
              "      --disabled-fill-color: #AAA;\n",
              "      --disabled-bg-color: #DDD;\n",
              "  }\n",
              "\n",
              "  [theme=dark] .colab-df-quickchart {\n",
              "      --bg-color: #3B4455;\n",
              "      --fill-color: #D2E3FC;\n",
              "      --hover-bg-color: #434B5C;\n",
              "      --hover-fill-color: #FFFFFF;\n",
              "      --disabled-bg-color: #3B4455;\n",
              "      --disabled-fill-color: #666;\n",
              "  }\n",
              "\n",
              "  .colab-df-quickchart {\n",
              "    background-color: var(--bg-color);\n",
              "    border: none;\n",
              "    border-radius: 50%;\n",
              "    cursor: pointer;\n",
              "    display: none;\n",
              "    fill: var(--fill-color);\n",
              "    height: 32px;\n",
              "    padding: 0;\n",
              "    width: 32px;\n",
              "  }\n",
              "\n",
              "  .colab-df-quickchart:hover {\n",
              "    background-color: var(--hover-bg-color);\n",
              "    box-shadow: 0 1px 2px rgba(60, 64, 67, 0.3), 0 1px 3px 1px rgba(60, 64, 67, 0.15);\n",
              "    fill: var(--button-hover-fill-color);\n",
              "  }\n",
              "\n",
              "  .colab-df-quickchart-complete:disabled,\n",
              "  .colab-df-quickchart-complete:disabled:hover {\n",
              "    background-color: var(--disabled-bg-color);\n",
              "    fill: var(--disabled-fill-color);\n",
              "    box-shadow: none;\n",
              "  }\n",
              "\n",
              "  .colab-df-spinner {\n",
              "    border: 2px solid var(--fill-color);\n",
              "    border-color: transparent;\n",
              "    border-bottom-color: var(--fill-color);\n",
              "    animation:\n",
              "      spin 1s steps(1) infinite;\n",
              "  }\n",
              "\n",
              "  @keyframes spin {\n",
              "    0% {\n",
              "      border-color: transparent;\n",
              "      border-bottom-color: var(--fill-color);\n",
              "      border-left-color: var(--fill-color);\n",
              "    }\n",
              "    20% {\n",
              "      border-color: transparent;\n",
              "      border-left-color: var(--fill-color);\n",
              "      border-top-color: var(--fill-color);\n",
              "    }\n",
              "    30% {\n",
              "      border-color: transparent;\n",
              "      border-left-color: var(--fill-color);\n",
              "      border-top-color: var(--fill-color);\n",
              "      border-right-color: var(--fill-color);\n",
              "    }\n",
              "    40% {\n",
              "      border-color: transparent;\n",
              "      border-right-color: var(--fill-color);\n",
              "      border-top-color: var(--fill-color);\n",
              "    }\n",
              "    60% {\n",
              "      border-color: transparent;\n",
              "      border-right-color: var(--fill-color);\n",
              "    }\n",
              "    80% {\n",
              "      border-color: transparent;\n",
              "      border-right-color: var(--fill-color);\n",
              "      border-bottom-color: var(--fill-color);\n",
              "    }\n",
              "    90% {\n",
              "      border-color: transparent;\n",
              "      border-bottom-color: var(--fill-color);\n",
              "    }\n",
              "  }\n",
              "</style>\n",
              "\n",
              "  <script>\n",
              "    async function quickchart(key) {\n",
              "      const quickchartButtonEl =\n",
              "        document.querySelector('#' + key + ' button');\n",
              "      quickchartButtonEl.disabled = true;  // To prevent multiple clicks.\n",
              "      quickchartButtonEl.classList.add('colab-df-spinner');\n",
              "      try {\n",
              "        const charts = await google.colab.kernel.invokeFunction(\n",
              "            'suggestCharts', [key], {});\n",
              "      } catch (error) {\n",
              "        console.error('Error during call to suggestCharts:', error);\n",
              "      }\n",
              "      quickchartButtonEl.classList.remove('colab-df-spinner');\n",
              "      quickchartButtonEl.classList.add('colab-df-quickchart-complete');\n",
              "    }\n",
              "    (() => {\n",
              "      let quickchartButtonEl =\n",
              "        document.querySelector('#df-6100005b-0ec1-4090-a0a3-d97467e411db button');\n",
              "      quickchartButtonEl.style.display =\n",
              "        google.colab.kernel.accessAllowed ? 'block' : 'none';\n",
              "    })();\n",
              "  </script>\n",
              "</div>\n",
              "\n",
              "  <div id=\"id_6451ab2d-f10a-4bf6-8592-a9b78813d87b\">\n",
              "    <style>\n",
              "      .colab-df-generate {\n",
              "        background-color: #E8F0FE;\n",
              "        border: none;\n",
              "        border-radius: 50%;\n",
              "        cursor: pointer;\n",
              "        display: none;\n",
              "        fill: #1967D2;\n",
              "        height: 32px;\n",
              "        padding: 0 0 0 0;\n",
              "        width: 32px;\n",
              "      }\n",
              "\n",
              "      .colab-df-generate:hover {\n",
              "        background-color: #E2EBFA;\n",
              "        box-shadow: 0px 1px 2px rgba(60, 64, 67, 0.3), 0px 1px 3px 1px rgba(60, 64, 67, 0.15);\n",
              "        fill: #174EA6;\n",
              "      }\n",
              "\n",
              "      [theme=dark] .colab-df-generate {\n",
              "        background-color: #3B4455;\n",
              "        fill: #D2E3FC;\n",
              "      }\n",
              "\n",
              "      [theme=dark] .colab-df-generate:hover {\n",
              "        background-color: #434B5C;\n",
              "        box-shadow: 0px 1px 3px 1px rgba(0, 0, 0, 0.15);\n",
              "        filter: drop-shadow(0px 1px 2px rgba(0, 0, 0, 0.3));\n",
              "        fill: #FFFFFF;\n",
              "      }\n",
              "    </style>\n",
              "    <button class=\"colab-df-generate\" onclick=\"generateWithVariable('df_train')\"\n",
              "            title=\"Generate code using this dataframe.\"\n",
              "            style=\"display:none;\">\n",
              "\n",
              "  <svg xmlns=\"http://www.w3.org/2000/svg\" height=\"24px\"viewBox=\"0 0 24 24\"\n",
              "       width=\"24px\">\n",
              "    <path d=\"M7,19H8.4L18.45,9,17,7.55,7,17.6ZM5,21V16.75L18.45,3.32a2,2,0,0,1,2.83,0l1.4,1.43a1.91,1.91,0,0,1,.58,1.4,1.91,1.91,0,0,1-.58,1.4L9.25,21ZM18.45,9,17,7.55Zm-12,3A5.31,5.31,0,0,0,4.9,8.1,5.31,5.31,0,0,0,1,6.5,5.31,5.31,0,0,0,4.9,4.9,5.31,5.31,0,0,0,6.5,1,5.31,5.31,0,0,0,8.1,4.9,5.31,5.31,0,0,0,12,6.5,5.46,5.46,0,0,0,6.5,12Z\"/>\n",
              "  </svg>\n",
              "    </button>\n",
              "    <script>\n",
              "      (() => {\n",
              "      const buttonEl =\n",
              "        document.querySelector('#id_6451ab2d-f10a-4bf6-8592-a9b78813d87b button.colab-df-generate');\n",
              "      buttonEl.style.display =\n",
              "        google.colab.kernel.accessAllowed ? 'block' : 'none';\n",
              "\n",
              "      buttonEl.onclick = () => {\n",
              "        google.colab.notebook.generateWithVariable('df_train');\n",
              "      }\n",
              "      })();\n",
              "    </script>\n",
              "  </div>\n",
              "\n",
              "    </div>\n",
              "  </div>\n"
            ],
            "text/plain": [
              "                                author  gender nationality\n",
              "0      b06932f4e940fb4a8da35acce4f044c  female    colombia\n",
              "1      41c28ef7d52cc22e8011800eb9324e2    male      mexico\n",
              "2     726dc5856c5ed9a10dd8e9f2a5b5ecdd  female   argentina\n",
              "3     e518e6b3e3770fe3456eda031398c459  female       spain\n",
              "4     b1daafa3cda99bdacb966afa76859f58  female    colombia\n",
              "...                                ...     ...         ...\n",
              "3355  4c269442e8eda784f72247df01ea979d    male   argentina\n",
              "3356  eeba5c9661c4e9fd1c1aad4db24b14cb    male       spain\n",
              "3357  21898041fd29473e7c23c0731b0c93a8  female   venezuela\n",
              "3358  49e77eeb8a03fb06983ad69db9e6ca6b    male        peru\n",
              "3359  d93f884dd0356633fe243892336460ad  female    colombia\n",
              "\n",
              "[3360 rows x 3 columns]"
            ]
          },
          "execution_count": 4,
          "metadata": {},
          "output_type": "execute_result"
        }
      ],
      "source": [
        "df_train = pd.read_csv(train_truth_path, sep=\":::\", names=[\"author\", \"gender\", \"nationality\"])\n",
        "df_train"
      ]
    },
    {
      "cell_type": "code",
      "execution_count": 5,
      "metadata": {
        "colab": {
          "base_uri": "https://localhost:8080/",
          "height": 481
        },
        "id": "5gcxPUzwquTw",
        "outputId": "53a410e1-2819-485b-de10-bfabb04f31bf"
      },
      "outputs": [
        {
          "name": "stderr",
          "output_type": "stream",
          "text": [
            "<ipython-input-5-563586c5289a>:1: ParserWarning: Falling back to the 'python' engine because the 'c' engine does not support regex separators (separators > 1 char and different from '\\s+' are interpreted as regex); you can avoid this warning by specifying engine='python'.\n",
            "  df_val = pd.read_csv(val_truth_path, sep=\":::\", names=[\"author\", \"gender\", \"nationality\"])\n"
          ]
        },
        {
          "data": {
            "application/vnd.google.colaboratory.intrinsic+json": {
              "summary": "{\n  \"name\": \"df_val\",\n  \"rows\": 840,\n  \"fields\": [\n    {\n      \"column\": \"author\",\n      \"properties\": {\n        \"dtype\": \"string\",\n        \"num_unique_values\": 840,\n        \"samples\": [\n          \"527725c89a25d1141e043e43b0d8fd6b\",\n          \"85f1a7ba7aafb4b601add01c58160194\",\n          \"7b113fd797147160fa8ea9c1f3704bda\"\n        ],\n        \"semantic_type\": \"\",\n        \"description\": \"\"\n      }\n    },\n    {\n      \"column\": \"gender\",\n      \"properties\": {\n        \"dtype\": \"category\",\n        \"num_unique_values\": 2,\n        \"samples\": [\n          \"male\",\n          \"female\"\n        ],\n        \"semantic_type\": \"\",\n        \"description\": \"\"\n      }\n    },\n    {\n      \"column\": \"nationality\",\n      \"properties\": {\n        \"dtype\": \"category\",\n        \"num_unique_values\": 7,\n        \"samples\": [\n          \"peru\",\n          \"argentina\"\n        ],\n        \"semantic_type\": \"\",\n        \"description\": \"\"\n      }\n    }\n  ]\n}",
              "type": "dataframe",
              "variable_name": "df_val"
            },
            "text/html": [
              "\n",
              "  <div id=\"df-7de67f9b-85c0-4ad2-9734-7a00d4a0108a\" class=\"colab-df-container\">\n",
              "    <div>\n",
              "<style scoped>\n",
              "    .dataframe tbody tr th:only-of-type {\n",
              "        vertical-align: middle;\n",
              "    }\n",
              "\n",
              "    .dataframe tbody tr th {\n",
              "        vertical-align: top;\n",
              "    }\n",
              "\n",
              "    .dataframe thead th {\n",
              "        text-align: right;\n",
              "    }\n",
              "</style>\n",
              "<table border=\"1\" class=\"dataframe\">\n",
              "  <thead>\n",
              "    <tr style=\"text-align: right;\">\n",
              "      <th></th>\n",
              "      <th>author</th>\n",
              "      <th>gender</th>\n",
              "      <th>nationality</th>\n",
              "    </tr>\n",
              "  </thead>\n",
              "  <tbody>\n",
              "    <tr>\n",
              "      <th>0</th>\n",
              "      <td>2ba09ca56ce61c793805d3e0703b9f7f</td>\n",
              "      <td>female</td>\n",
              "      <td>peru</td>\n",
              "    </tr>\n",
              "    <tr>\n",
              "      <th>1</th>\n",
              "      <td>bb7bf5ed6c22e2d067d254ac433ef1a</td>\n",
              "      <td>male</td>\n",
              "      <td>peru</td>\n",
              "    </tr>\n",
              "    <tr>\n",
              "      <th>2</th>\n",
              "      <td>cc1c443a2953e18652c92b6697d5fba2</td>\n",
              "      <td>male</td>\n",
              "      <td>argentina</td>\n",
              "    </tr>\n",
              "    <tr>\n",
              "      <th>3</th>\n",
              "      <td>a5636a28515fb5d13aacd8eed8c2ef1f</td>\n",
              "      <td>male</td>\n",
              "      <td>venezuela</td>\n",
              "    </tr>\n",
              "    <tr>\n",
              "      <th>4</th>\n",
              "      <td>645d5e7d497b5a985841832a9d8ae0dd</td>\n",
              "      <td>female</td>\n",
              "      <td>spain</td>\n",
              "    </tr>\n",
              "    <tr>\n",
              "      <th>...</th>\n",
              "      <td>...</td>\n",
              "      <td>...</td>\n",
              "      <td>...</td>\n",
              "    </tr>\n",
              "    <tr>\n",
              "      <th>835</th>\n",
              "      <td>1d7947aada81d0ac315550b4ff9c41ed</td>\n",
              "      <td>male</td>\n",
              "      <td>colombia</td>\n",
              "    </tr>\n",
              "    <tr>\n",
              "      <th>836</th>\n",
              "      <td>d9028ea9164a22bde5ec3dec8665adae</td>\n",
              "      <td>female</td>\n",
              "      <td>chile</td>\n",
              "    </tr>\n",
              "    <tr>\n",
              "      <th>837</th>\n",
              "      <td>33f4e8f49a628d46aa8ccc3645c1980b</td>\n",
              "      <td>female</td>\n",
              "      <td>peru</td>\n",
              "    </tr>\n",
              "    <tr>\n",
              "      <th>838</th>\n",
              "      <td>420946a3fd8b4e1ea953fa0f47b2983f</td>\n",
              "      <td>male</td>\n",
              "      <td>argentina</td>\n",
              "    </tr>\n",
              "    <tr>\n",
              "      <th>839</th>\n",
              "      <td>6b81e745d7df80eeffeee169b6393033</td>\n",
              "      <td>male</td>\n",
              "      <td>colombia</td>\n",
              "    </tr>\n",
              "  </tbody>\n",
              "</table>\n",
              "<p>840 rows × 3 columns</p>\n",
              "</div>\n",
              "    <div class=\"colab-df-buttons\">\n",
              "\n",
              "  <div class=\"colab-df-container\">\n",
              "    <button class=\"colab-df-convert\" onclick=\"convertToInteractive('df-7de67f9b-85c0-4ad2-9734-7a00d4a0108a')\"\n",
              "            title=\"Convert this dataframe to an interactive table.\"\n",
              "            style=\"display:none;\">\n",
              "\n",
              "  <svg xmlns=\"http://www.w3.org/2000/svg\" height=\"24px\" viewBox=\"0 -960 960 960\">\n",
              "    <path d=\"M120-120v-720h720v720H120Zm60-500h600v-160H180v160Zm220 220h160v-160H400v160Zm0 220h160v-160H400v160ZM180-400h160v-160H180v160Zm440 0h160v-160H620v160ZM180-180h160v-160H180v160Zm440 0h160v-160H620v160Z\"/>\n",
              "  </svg>\n",
              "    </button>\n",
              "\n",
              "  <style>\n",
              "    .colab-df-container {\n",
              "      display:flex;\n",
              "      gap: 12px;\n",
              "    }\n",
              "\n",
              "    .colab-df-convert {\n",
              "      background-color: #E8F0FE;\n",
              "      border: none;\n",
              "      border-radius: 50%;\n",
              "      cursor: pointer;\n",
              "      display: none;\n",
              "      fill: #1967D2;\n",
              "      height: 32px;\n",
              "      padding: 0 0 0 0;\n",
              "      width: 32px;\n",
              "    }\n",
              "\n",
              "    .colab-df-convert:hover {\n",
              "      background-color: #E2EBFA;\n",
              "      box-shadow: 0px 1px 2px rgba(60, 64, 67, 0.3), 0px 1px 3px 1px rgba(60, 64, 67, 0.15);\n",
              "      fill: #174EA6;\n",
              "    }\n",
              "\n",
              "    .colab-df-buttons div {\n",
              "      margin-bottom: 4px;\n",
              "    }\n",
              "\n",
              "    [theme=dark] .colab-df-convert {\n",
              "      background-color: #3B4455;\n",
              "      fill: #D2E3FC;\n",
              "    }\n",
              "\n",
              "    [theme=dark] .colab-df-convert:hover {\n",
              "      background-color: #434B5C;\n",
              "      box-shadow: 0px 1px 3px 1px rgba(0, 0, 0, 0.15);\n",
              "      filter: drop-shadow(0px 1px 2px rgba(0, 0, 0, 0.3));\n",
              "      fill: #FFFFFF;\n",
              "    }\n",
              "  </style>\n",
              "\n",
              "    <script>\n",
              "      const buttonEl =\n",
              "        document.querySelector('#df-7de67f9b-85c0-4ad2-9734-7a00d4a0108a button.colab-df-convert');\n",
              "      buttonEl.style.display =\n",
              "        google.colab.kernel.accessAllowed ? 'block' : 'none';\n",
              "\n",
              "      async function convertToInteractive(key) {\n",
              "        const element = document.querySelector('#df-7de67f9b-85c0-4ad2-9734-7a00d4a0108a');\n",
              "        const dataTable =\n",
              "          await google.colab.kernel.invokeFunction('convertToInteractive',\n",
              "                                                    [key], {});\n",
              "        if (!dataTable) return;\n",
              "\n",
              "        const docLinkHtml = 'Like what you see? Visit the ' +\n",
              "          '<a target=\"_blank\" href=https://colab.research.google.com/notebooks/data_table.ipynb>data table notebook</a>'\n",
              "          + ' to learn more about interactive tables.';\n",
              "        element.innerHTML = '';\n",
              "        dataTable['output_type'] = 'display_data';\n",
              "        await google.colab.output.renderOutput(dataTable, element);\n",
              "        const docLink = document.createElement('div');\n",
              "        docLink.innerHTML = docLinkHtml;\n",
              "        element.appendChild(docLink);\n",
              "      }\n",
              "    </script>\n",
              "  </div>\n",
              "\n",
              "\n",
              "<div id=\"df-2c0bdff2-57f3-468f-b84b-cf237558dd0c\">\n",
              "  <button class=\"colab-df-quickchart\" onclick=\"quickchart('df-2c0bdff2-57f3-468f-b84b-cf237558dd0c')\"\n",
              "            title=\"Suggest charts\"\n",
              "            style=\"display:none;\">\n",
              "\n",
              "<svg xmlns=\"http://www.w3.org/2000/svg\" height=\"24px\"viewBox=\"0 0 24 24\"\n",
              "     width=\"24px\">\n",
              "    <g>\n",
              "        <path d=\"M19 3H5c-1.1 0-2 .9-2 2v14c0 1.1.9 2 2 2h14c1.1 0 2-.9 2-2V5c0-1.1-.9-2-2-2zM9 17H7v-7h2v7zm4 0h-2V7h2v10zm4 0h-2v-4h2v4z\"/>\n",
              "    </g>\n",
              "</svg>\n",
              "  </button>\n",
              "\n",
              "<style>\n",
              "  .colab-df-quickchart {\n",
              "      --bg-color: #E8F0FE;\n",
              "      --fill-color: #1967D2;\n",
              "      --hover-bg-color: #E2EBFA;\n",
              "      --hover-fill-color: #174EA6;\n",
              "      --disabled-fill-color: #AAA;\n",
              "      --disabled-bg-color: #DDD;\n",
              "  }\n",
              "\n",
              "  [theme=dark] .colab-df-quickchart {\n",
              "      --bg-color: #3B4455;\n",
              "      --fill-color: #D2E3FC;\n",
              "      --hover-bg-color: #434B5C;\n",
              "      --hover-fill-color: #FFFFFF;\n",
              "      --disabled-bg-color: #3B4455;\n",
              "      --disabled-fill-color: #666;\n",
              "  }\n",
              "\n",
              "  .colab-df-quickchart {\n",
              "    background-color: var(--bg-color);\n",
              "    border: none;\n",
              "    border-radius: 50%;\n",
              "    cursor: pointer;\n",
              "    display: none;\n",
              "    fill: var(--fill-color);\n",
              "    height: 32px;\n",
              "    padding: 0;\n",
              "    width: 32px;\n",
              "  }\n",
              "\n",
              "  .colab-df-quickchart:hover {\n",
              "    background-color: var(--hover-bg-color);\n",
              "    box-shadow: 0 1px 2px rgba(60, 64, 67, 0.3), 0 1px 3px 1px rgba(60, 64, 67, 0.15);\n",
              "    fill: var(--button-hover-fill-color);\n",
              "  }\n",
              "\n",
              "  .colab-df-quickchart-complete:disabled,\n",
              "  .colab-df-quickchart-complete:disabled:hover {\n",
              "    background-color: var(--disabled-bg-color);\n",
              "    fill: var(--disabled-fill-color);\n",
              "    box-shadow: none;\n",
              "  }\n",
              "\n",
              "  .colab-df-spinner {\n",
              "    border: 2px solid var(--fill-color);\n",
              "    border-color: transparent;\n",
              "    border-bottom-color: var(--fill-color);\n",
              "    animation:\n",
              "      spin 1s steps(1) infinite;\n",
              "  }\n",
              "\n",
              "  @keyframes spin {\n",
              "    0% {\n",
              "      border-color: transparent;\n",
              "      border-bottom-color: var(--fill-color);\n",
              "      border-left-color: var(--fill-color);\n",
              "    }\n",
              "    20% {\n",
              "      border-color: transparent;\n",
              "      border-left-color: var(--fill-color);\n",
              "      border-top-color: var(--fill-color);\n",
              "    }\n",
              "    30% {\n",
              "      border-color: transparent;\n",
              "      border-left-color: var(--fill-color);\n",
              "      border-top-color: var(--fill-color);\n",
              "      border-right-color: var(--fill-color);\n",
              "    }\n",
              "    40% {\n",
              "      border-color: transparent;\n",
              "      border-right-color: var(--fill-color);\n",
              "      border-top-color: var(--fill-color);\n",
              "    }\n",
              "    60% {\n",
              "      border-color: transparent;\n",
              "      border-right-color: var(--fill-color);\n",
              "    }\n",
              "    80% {\n",
              "      border-color: transparent;\n",
              "      border-right-color: var(--fill-color);\n",
              "      border-bottom-color: var(--fill-color);\n",
              "    }\n",
              "    90% {\n",
              "      border-color: transparent;\n",
              "      border-bottom-color: var(--fill-color);\n",
              "    }\n",
              "  }\n",
              "</style>\n",
              "\n",
              "  <script>\n",
              "    async function quickchart(key) {\n",
              "      const quickchartButtonEl =\n",
              "        document.querySelector('#' + key + ' button');\n",
              "      quickchartButtonEl.disabled = true;  // To prevent multiple clicks.\n",
              "      quickchartButtonEl.classList.add('colab-df-spinner');\n",
              "      try {\n",
              "        const charts = await google.colab.kernel.invokeFunction(\n",
              "            'suggestCharts', [key], {});\n",
              "      } catch (error) {\n",
              "        console.error('Error during call to suggestCharts:', error);\n",
              "      }\n",
              "      quickchartButtonEl.classList.remove('colab-df-spinner');\n",
              "      quickchartButtonEl.classList.add('colab-df-quickchart-complete');\n",
              "    }\n",
              "    (() => {\n",
              "      let quickchartButtonEl =\n",
              "        document.querySelector('#df-2c0bdff2-57f3-468f-b84b-cf237558dd0c button');\n",
              "      quickchartButtonEl.style.display =\n",
              "        google.colab.kernel.accessAllowed ? 'block' : 'none';\n",
              "    })();\n",
              "  </script>\n",
              "</div>\n",
              "\n",
              "  <div id=\"id_493abbd0-1459-4b2a-ba5a-f78f4e56e0d7\">\n",
              "    <style>\n",
              "      .colab-df-generate {\n",
              "        background-color: #E8F0FE;\n",
              "        border: none;\n",
              "        border-radius: 50%;\n",
              "        cursor: pointer;\n",
              "        display: none;\n",
              "        fill: #1967D2;\n",
              "        height: 32px;\n",
              "        padding: 0 0 0 0;\n",
              "        width: 32px;\n",
              "      }\n",
              "\n",
              "      .colab-df-generate:hover {\n",
              "        background-color: #E2EBFA;\n",
              "        box-shadow: 0px 1px 2px rgba(60, 64, 67, 0.3), 0px 1px 3px 1px rgba(60, 64, 67, 0.15);\n",
              "        fill: #174EA6;\n",
              "      }\n",
              "\n",
              "      [theme=dark] .colab-df-generate {\n",
              "        background-color: #3B4455;\n",
              "        fill: #D2E3FC;\n",
              "      }\n",
              "\n",
              "      [theme=dark] .colab-df-generate:hover {\n",
              "        background-color: #434B5C;\n",
              "        box-shadow: 0px 1px 3px 1px rgba(0, 0, 0, 0.15);\n",
              "        filter: drop-shadow(0px 1px 2px rgba(0, 0, 0, 0.3));\n",
              "        fill: #FFFFFF;\n",
              "      }\n",
              "    </style>\n",
              "    <button class=\"colab-df-generate\" onclick=\"generateWithVariable('df_val')\"\n",
              "            title=\"Generate code using this dataframe.\"\n",
              "            style=\"display:none;\">\n",
              "\n",
              "  <svg xmlns=\"http://www.w3.org/2000/svg\" height=\"24px\"viewBox=\"0 0 24 24\"\n",
              "       width=\"24px\">\n",
              "    <path d=\"M7,19H8.4L18.45,9,17,7.55,7,17.6ZM5,21V16.75L18.45,3.32a2,2,0,0,1,2.83,0l1.4,1.43a1.91,1.91,0,0,1,.58,1.4,1.91,1.91,0,0,1-.58,1.4L9.25,21ZM18.45,9,17,7.55Zm-12,3A5.31,5.31,0,0,0,4.9,8.1,5.31,5.31,0,0,0,1,6.5,5.31,5.31,0,0,0,4.9,4.9,5.31,5.31,0,0,0,6.5,1,5.31,5.31,0,0,0,8.1,4.9,5.31,5.31,0,0,0,12,6.5,5.46,5.46,0,0,0,6.5,12Z\"/>\n",
              "  </svg>\n",
              "    </button>\n",
              "    <script>\n",
              "      (() => {\n",
              "      const buttonEl =\n",
              "        document.querySelector('#id_493abbd0-1459-4b2a-ba5a-f78f4e56e0d7 button.colab-df-generate');\n",
              "      buttonEl.style.display =\n",
              "        google.colab.kernel.accessAllowed ? 'block' : 'none';\n",
              "\n",
              "      buttonEl.onclick = () => {\n",
              "        google.colab.notebook.generateWithVariable('df_val');\n",
              "      }\n",
              "      })();\n",
              "    </script>\n",
              "  </div>\n",
              "\n",
              "    </div>\n",
              "  </div>\n"
            ],
            "text/plain": [
              "                               author  gender nationality\n",
              "0    2ba09ca56ce61c793805d3e0703b9f7f  female        peru\n",
              "1     bb7bf5ed6c22e2d067d254ac433ef1a    male        peru\n",
              "2    cc1c443a2953e18652c92b6697d5fba2    male   argentina\n",
              "3    a5636a28515fb5d13aacd8eed8c2ef1f    male   venezuela\n",
              "4    645d5e7d497b5a985841832a9d8ae0dd  female       spain\n",
              "..                                ...     ...         ...\n",
              "835  1d7947aada81d0ac315550b4ff9c41ed    male    colombia\n",
              "836  d9028ea9164a22bde5ec3dec8665adae  female       chile\n",
              "837  33f4e8f49a628d46aa8ccc3645c1980b  female        peru\n",
              "838  420946a3fd8b4e1ea953fa0f47b2983f    male   argentina\n",
              "839  6b81e745d7df80eeffeee169b6393033    male    colombia\n",
              "\n",
              "[840 rows x 3 columns]"
            ]
          },
          "execution_count": 5,
          "metadata": {},
          "output_type": "execute_result"
        }
      ],
      "source": [
        "df_val = pd.read_csv(val_truth_path, sep=\":::\", names=[\"author\", \"gender\", \"nationality\"])\n",
        "df_val"
      ]
    },
    {
      "cell_type": "markdown",
      "metadata": {
        "id": "U4SqyRK6A8Rs"
      },
      "source": [
        "Leemos el dataset de entrenamiento y validación en un diccionario {autor: lista de tweets}, con la ayuda de BeautifulSoup para un fácil manejo de los archivos XML en los que se encuentran los tweets de cada autor. Sólo se realiza una vez la lectura de los archivos XML, y después se escribe cada diccionario en un archivo json para fácil lectura (y más rápida) en diferentes sesiones de trabajo."
      ]
    },
    {
      "cell_type": "code",
      "execution_count": 6,
      "metadata": {
        "id": "h6WAKPPvzjNR"
      },
      "outputs": [],
      "source": [
        "if all_train_tweets_path.exists() :\n",
        "    with open(all_train_tweets_path, \"r\", encoding=\"utf-8\") as file:\n",
        "        train_tweets = json.load(file)\n",
        "else:\n",
        "    train_tweets = {}\n",
        "\n",
        "    for author in df_train[\"author\"]:\n",
        "        with open(train_path / f\"{author}.xml\", \"r\") as file:\n",
        "            soup = BeautifulSoup(file.read(), \"xml\")\n",
        "\n",
        "        train_tweets[author] = [doc.get_text() for doc in soup.find_all(\"document\")]\n",
        "\n",
        "    # writing in json dictionary {author: list of tweets}\n",
        "    with open(all_train_tweets_path, \"w\", encoding=\"utf-8\") as file:\n",
        "        json.dump(train_tweets, file, ensure_ascii=False)\n",
        "\n",
        "if all_val_tweets_path.exists() :\n",
        "    with open(all_val_tweets_path, \"r\", encoding=\"utf-8\") as file:\n",
        "        val_tweets = json.load(file)\n",
        "else:\n",
        "    val_tweets = {}\n",
        "\n",
        "    for author in df_val[\"author\"]:\n",
        "        with open(val_path / f\"{author}.xml\", \"r\") as file:\n",
        "            soup = BeautifulSoup(file.read(), \"xml\")\n",
        "\n",
        "        val_tweets[author] = [doc.get_text() for doc in soup.find_all(\"document\")]\n",
        "\n",
        "    # writing in json dictionary {author: list of tweets}\n",
        "    with open(all_val_tweets_path, \"w\", encoding=\"utf-8\") as file:\n",
        "        json.dump(val_tweets, file, ensure_ascii=False)"
      ]
    },
    {
      "cell_type": "markdown",
      "metadata": {
        "id": "2WV9lyk4A3RV"
      },
      "source": [
        "Ejemplos de cómo se realizó la lectura del dataset:"
      ]
    },
    {
      "cell_type": "code",
      "execution_count": 7,
      "metadata": {
        "colab": {
          "base_uri": "https://localhost:8080/"
        },
        "id": "l_4xFJjZzM7h",
        "outputId": "ec894019-1e1e-4465-acea-804716917db0"
      },
      "outputs": [
        {
          "data": {
            "text/plain": [
              "['@T_EntrevinoS ,,#vinosporcopas #vinosdiferentes De Lebrija, Solo, 100% Palomino, óptimo https://t.co/aAnDmghKNI',\n",
              " '#hortaleza tardes de #invierno https://t.co/J4chUv0idc',\n",
              " '@T_EntrevinoS Semonlon 2012 haute-medoc estupendo https://t.co/Dj43vPXo1F',\n",
              " '@T_EntrevinoS Mejillones de roca al curry verde espectaculares https://t.co/YhSTxisOme',\n",
              " '#EconomiaARV un lumbreras dice que las cifras no mienten..y la otra que el gasto social ha subido. A sueldo de quién están? Periobasurismo']"
            ]
          },
          "execution_count": 7,
          "metadata": {},
          "output_type": "execute_result"
        }
      ],
      "source": [
        "train_tweets[\"eeba5c9661c4e9fd1c1aad4db24b14cb\"][:5]"
      ]
    },
    {
      "cell_type": "code",
      "execution_count": 8,
      "metadata": {
        "colab": {
          "base_uri": "https://localhost:8080/"
        },
        "id": "FtComoFmzyqI",
        "outputId": "38176aa7-ab64-4b9c-8353-53940d99f531"
      },
      "outputs": [
        {
          "data": {
            "text/plain": [
              "['Con toda el martes en Ibagué. Vamos Mechita! 💪👹🅰😈',\n",
              " 'Y estábamos en casa, no podemos regalar puntos en el Pascual. Tenemos que mejorar mucho. Con toda vamos, sigo confiando en el equipo.',\n",
              " 'Será hasta el martes ante Tolima en Ibagué. #VamosAmérica',\n",
              " 'No me gustó el resultado, hubo actitud y lástima que anotamos.',\n",
              " 'Igual, teníamos que ganar. Entró bien Álvarez. Mucho por mejorar. Se notó la falta de un creativo. ¡UN 10 URGENTE!']"
            ]
          },
          "execution_count": 8,
          "metadata": {},
          "output_type": "execute_result"
        }
      ],
      "source": [
        "val_tweets[\"6b81e745d7df80eeffeee169b6393033\"][:5]"
      ]
    },
    {
      "cell_type": "markdown",
      "metadata": {
        "id": "I5kYP0HVxX8-"
      },
      "source": [
        "Cargamos los embeddings iniciales:"
      ]
    },
    {
      "cell_type": "code",
      "execution_count": 9,
      "metadata": {
        "id": "BZdhUz4rv3rE"
      },
      "outputs": [],
      "source": [
        "embeddings_path = base_path / \"embeddings\" / \"word2vec_col.txt\"\n",
        "\n",
        "with open(embeddings_path, \"r\") as file:\n",
        "    lines_embeddings_file = file.readlines()"
      ]
    },
    {
      "cell_type": "code",
      "execution_count": 10,
      "metadata": {
        "id": "s0Ny7gyq2vIF"
      },
      "outputs": [],
      "source": [
        "num_words, embedding_dim = map(int, lines_embeddings_file[0].split())\n",
        "word2embedding = {\n",
        "    line_splitted[0]: np.array(list(map(float, line_splitted[1:])))\n",
        "    for line_splitted in map(str.split, lines_embeddings_file[1:])\n",
        "}"
      ]
    },
    {
      "cell_type": "code",
      "execution_count": 11,
      "metadata": {
        "colab": {
          "base_uri": "https://localhost:8080/"
        },
        "id": "eRhE3yhl21J0",
        "outputId": "cd49fef4-14e9-4f60-f422-785a9022dd39"
      },
      "outputs": [
        {
          "name": "stdout",
          "output_type": "stream",
          "text": [
            "Número de palabras con embedding: 973265\n",
            "Dimensión de los embeddings: 100\n"
          ]
        }
      ],
      "source": [
        "print(\"Número de palabras con embedding:\", num_words)\n",
        "print(\"Dimensión de los embeddings:\", embedding_dim)"
      ]
    },
    {
      "cell_type": "markdown",
      "metadata": {
        "id": "89BR-OEOyn4F"
      },
      "source": [
        "Tokenizamos y utilizamos la misma estructura del diccionario {autor: lista de tweets tokenizados}"
      ]
    },
    {
      "cell_type": "code",
      "execution_count": 12,
      "metadata": {
        "id": "_xI86DVwyo7t"
      },
      "outputs": [],
      "source": [
        "tokenizer = TweetTokenizer(preserve_case=False, reduce_len=True, strip_handles=True)\n",
        "\n",
        "train_corpus_tk = {author: [tokenizer.tokenize(tweet) for tweet in train_tweets[author]] for author in train_tweets}\n",
        "val_corpus_tk = {author: [tokenizer.tokenize(tweet) for tweet in val_tweets[author]] for author in val_tweets}"
      ]
    },
    {
      "cell_type": "markdown",
      "metadata": {
        "id": "l4zIdvak-JBt"
      },
      "source": [
        "A continuación veremos la cantidad de palabras en el conjunto de entrenamiento y cuántas de ellas tienen un embedding preentrenado:"
      ]
    },
    {
      "cell_type": "code",
      "execution_count": 13,
      "metadata": {
        "colab": {
          "base_uri": "https://localhost:8080/"
        },
        "id": "9a6Njy7P4wK_",
        "outputId": "d9572917-603c-499e-e449-c611153a2119"
      },
      "outputs": [
        {
          "name": "stdout",
          "output_type": "stream",
          "text": [
            "Número de palabras en el conjunto de entrenamiento: 307251\n"
          ]
        }
      ],
      "source": [
        "train_words = set()\n",
        "for author in train_corpus_tk:\n",
        "    for tweet in train_corpus_tk[author]:\n",
        "        train_words.update(tweet)\n",
        "\n",
        "print(\"Número de palabras en el conjunto de entrenamiento:\",  len(train_words))"
      ]
    },
    {
      "cell_type": "code",
      "execution_count": 14,
      "metadata": {
        "colab": {
          "base_uri": "https://localhost:8080/"
        },
        "id": "TW8DYKuB5MUF",
        "outputId": "8e7f120a-96ce-4501-8515-4296dff44a31"
      },
      "outputs": [
        {
          "name": "stdout",
          "output_type": "stream",
          "text": [
            "Número de palabras en el conjunto de entrenamiento que también tienen un embedding: 115841\n"
          ]
        }
      ],
      "source": [
        "embedddings_words = set(word2embedding.keys())\n",
        "\n",
        "print(\"Número de palabras en el conjunto de entrenamiento que también tienen un embedding:\", len(train_words.intersection(embedddings_words)))"
      ]
    },
    {
      "cell_type": "markdown",
      "metadata": {
        "id": "vN6GjgDvBmQR"
      },
      "source": [
        "Definimos el vocabulario como la intersección de las palabras en el conjunto de entrenamiento y las palabras con embedding preentrenado."
      ]
    },
    {
      "cell_type": "code",
      "execution_count": 15,
      "metadata": {
        "id": "saBnJQaoewJK"
      },
      "outputs": [],
      "source": [
        "vocab = train_words.intersection(embedddings_words)\n",
        "embeddings = { word: word2embedding[word] for word in vocab }\n",
        "vocab_len = len(vocab)"
      ]
    },
    {
      "cell_type": "markdown",
      "metadata": {
        "id": "SW1SmcKhH70n"
      },
      "source": [
        "Los signos de puntuación no se consideran para el vocabulario:"
      ]
    },
    {
      "cell_type": "code",
      "execution_count": 16,
      "metadata": {
        "colab": {
          "base_uri": "https://localhost:8080/"
        },
        "id": "9RHLeGNOe4BE",
        "outputId": "0de590cc-a519-4770-f27b-f4b417e2cd53"
      },
      "outputs": [
        {
          "data": {
            "text/plain": [
              "set()"
            ]
          },
          "execution_count": 16,
          "metadata": {},
          "output_type": "execute_result"
        }
      ],
      "source": [
        "vocab.intersection({\"¡\", \"!\", '\"', \"$\", \"%\", \"&\", \"'\", \"(\", \")\", \"*\", \"+\", \",\", \"-\", \".\", \":\", \";\", \"¿\", \"?\", \"@\", \"[\", \"]\", \"_\", \"`\", \"{\", \"}\", \"«\", \"»\", \"…\"})"
      ]
    },
    {
      "cell_type": "markdown",
      "metadata": {
        "id": "toTDAoCZBty1"
      },
      "source": [
        "Guardamos el mapeo {palabra: id de palabra} en un archivo json."
      ]
    },
    {
      "cell_type": "code",
      "execution_count": 17,
      "metadata": {
        "id": "3j5hCKFWfMRB"
      },
      "outputs": [],
      "source": [
        "# mapping {word -> word id}\n",
        "if word2id_path.exists():\n",
        "    with open(word2id_path, \"r\", encoding=\"utf-8\") as file:\n",
        "        word2id = json.load(file)\n",
        "else:\n",
        "    # shifted ids to let 0 represent the \"pad token\"\n",
        "    word2id = { word: idx+1 for idx, word in enumerate(vocab) }\n",
        "\n",
        "    with open(word2id_path, \"w\", encoding=\"utf-8\") as file:\n",
        "        json.dump(word2id, file, ensure_ascii=False)"
      ]
    },
    {
      "cell_type": "code",
      "execution_count": 18,
      "metadata": {
        "id": "c96t3ipzg0BG"
      },
      "outputs": [],
      "source": [
        "id2word = { word2id[word]: word for word in word2id }"
      ]
    },
    {
      "cell_type": "markdown",
      "metadata": {
        "id": "i3Mt3JsypVvv"
      },
      "source": [
        "Con el mapeo ``{ palabra: id }``, obtenemos la matriz de embeddings preentrenados asociada a nuestro vocabulario. La primera fila la llenamos de 0's, pues el token 0 representa un \"token de padding\"."
      ]
    },
    {
      "cell_type": "code",
      "execution_count": 19,
      "metadata": {
        "id": "7cMv4C4rplRj"
      },
      "outputs": [],
      "source": [
        "embeddings_w = np.array([np.zeros(embedding_dim)]+[embeddings[id2word[i+1]] for i in range(vocab_len)])"
      ]
    },
    {
      "cell_type": "code",
      "execution_count": 20,
      "metadata": {
        "colab": {
          "base_uri": "https://localhost:8080/"
        },
        "id": "yJPWZFSTpxiX",
        "outputId": "550067c9-0f60-43df-ccd8-ef043325415d"
      },
      "outputs": [
        {
          "data": {
            "text/plain": [
              "(115842, 100)"
            ]
          },
          "execution_count": 20,
          "metadata": {},
          "output_type": "execute_result"
        }
      ],
      "source": [
        "embeddings_w.shape"
      ]
    },
    {
      "cell_type": "markdown",
      "metadata": {
        "id": "_rPtkqwUsYOV"
      },
      "source": [
        "Filtramos los tokens fuera del vocabulario, y cada token lo representamos con su correspondiente id. Al filtrar, algunos tweets se quedan sin tokens, i.e., son \"tweets vacíos\":"
      ]
    },
    {
      "cell_type": "code",
      "execution_count": 21,
      "metadata": {
        "id": "Bon2lW25s0N9"
      },
      "outputs": [],
      "source": [
        "def tokenized_tweet_with_ids(tweet: list[str], word2id: dict[str, int]) -> list[int]:\n",
        "    return [word2id[word] for word in tweet if word in word2id]"
      ]
    },
    {
      "cell_type": "code",
      "execution_count": 22,
      "metadata": {
        "colab": {
          "base_uri": "https://localhost:8080/"
        },
        "id": "yuhHjOew2aNl",
        "outputId": "9d44cb29-9e98-4437-99ca-ed19b275abe6"
      },
      "outputs": [
        {
          "name": "stdout",
          "output_type": "stream",
          "text": [
            "Autor 1: 1 tweets vacíos. 1.00% de tweets\n",
            "Autor 6: 1 tweets vacíos. 1.00% de tweets\n",
            "Autor 12: 1 tweets vacíos. 1.00% de tweets\n",
            "Autor 13: 1 tweets vacíos. 1.00% de tweets\n",
            "Autor 34: 1 tweets vacíos. 1.00% de tweets\n",
            "Autor 36: 1 tweets vacíos. 1.00% de tweets\n",
            "Autor 38: 1 tweets vacíos. 1.00% de tweets\n",
            "Autor 43: 1 tweets vacíos. 1.00% de tweets\n",
            "Autor 44: 1 tweets vacíos. 1.00% de tweets\n",
            "Autor 48: 3 tweets vacíos. 3.00% de tweets\n",
            "Autor 62: 1 tweets vacíos. 1.00% de tweets\n",
            "Autor 63: 1 tweets vacíos. 1.00% de tweets\n",
            "Autor 64: 1 tweets vacíos. 1.00% de tweets\n",
            "Autor 65: 1 tweets vacíos. 1.00% de tweets\n",
            "Autor 66: 4 tweets vacíos. 4.00% de tweets\n",
            "Autor 72: 1 tweets vacíos. 1.00% de tweets\n",
            "Autor 73: 2 tweets vacíos. 2.00% de tweets\n",
            "Autor 78: 1 tweets vacíos. 1.00% de tweets\n",
            "Autor 80: 1 tweets vacíos. 1.00% de tweets\n",
            "Autor 81: 1 tweets vacíos. 1.00% de tweets\n",
            "Autor 85: 1 tweets vacíos. 1.00% de tweets\n",
            "Autor 87: 1 tweets vacíos. 1.00% de tweets\n",
            "Autor 90: 1 tweets vacíos. 1.00% de tweets\n",
            "Autor 94: 1 tweets vacíos. 1.00% de tweets\n",
            "Autor 95: 2 tweets vacíos. 2.00% de tweets\n",
            "Autor 99: 4 tweets vacíos. 4.00% de tweets\n",
            "Autor 106: 1 tweets vacíos. 1.00% de tweets\n",
            "Autor 108: 3 tweets vacíos. 3.00% de tweets\n",
            "Autor 109: 1 tweets vacíos. 1.00% de tweets\n",
            "Autor 111: 4 tweets vacíos. 4.00% de tweets\n",
            "Autor 114: 1 tweets vacíos. 1.00% de tweets\n",
            "Autor 116: 2 tweets vacíos. 2.00% de tweets\n",
            "Autor 120: 9 tweets vacíos. 9.00% de tweets\n",
            "Autor 121: 1 tweets vacíos. 1.00% de tweets\n",
            "Autor 122: 3 tweets vacíos. 3.00% de tweets\n",
            "Autor 126: 5 tweets vacíos. 5.00% de tweets\n",
            "Autor 130: 1 tweets vacíos. 1.00% de tweets\n",
            "Autor 144: 1 tweets vacíos. 1.00% de tweets\n",
            "Autor 149: 1 tweets vacíos. 1.00% de tweets\n",
            "Autor 152: 1 tweets vacíos. 1.00% de tweets\n",
            "Autor 156: 1 tweets vacíos. 1.00% de tweets\n",
            "Autor 161: 7 tweets vacíos. 7.00% de tweets\n",
            "Autor 162: 8 tweets vacíos. 8.00% de tweets\n",
            "Autor 163: 1 tweets vacíos. 1.00% de tweets\n",
            "Autor 176: 1 tweets vacíos. 1.00% de tweets\n",
            "Autor 179: 2 tweets vacíos. 2.00% de tweets\n",
            "Autor 181: 21 tweets vacíos. 21.00% de tweets\n",
            "Autor 190: 1 tweets vacíos. 1.00% de tweets\n",
            "Autor 194: 3 tweets vacíos. 3.00% de tweets\n",
            "Autor 199: 2 tweets vacíos. 2.00% de tweets\n",
            "Autor 200: 1 tweets vacíos. 1.00% de tweets\n",
            "Autor 202: 3 tweets vacíos. 3.00% de tweets\n",
            "Autor 203: 2 tweets vacíos. 2.00% de tweets\n",
            "Autor 209: 1 tweets vacíos. 1.00% de tweets\n",
            "Autor 212: 1 tweets vacíos. 1.00% de tweets\n",
            "Autor 214: 5 tweets vacíos. 5.00% de tweets\n",
            "Autor 216: 24 tweets vacíos. 24.00% de tweets\n",
            "Autor 217: 1 tweets vacíos. 1.00% de tweets\n",
            "Autor 226: 1 tweets vacíos. 1.00% de tweets\n",
            "Autor 231: 1 tweets vacíos. 1.00% de tweets\n",
            "Autor 235: 2 tweets vacíos. 2.00% de tweets\n",
            "Autor 238: 1 tweets vacíos. 1.00% de tweets\n",
            "Autor 242: 1 tweets vacíos. 1.00% de tweets\n",
            "Autor 245: 4 tweets vacíos. 4.00% de tweets\n",
            "Autor 246: 1 tweets vacíos. 1.00% de tweets\n",
            "Autor 248: 2 tweets vacíos. 2.00% de tweets\n",
            "Autor 253: 7 tweets vacíos. 7.00% de tweets\n",
            "Autor 255: 1 tweets vacíos. 1.00% de tweets\n",
            "Autor 260: 1 tweets vacíos. 1.00% de tweets\n",
            "Autor 264: 1 tweets vacíos. 1.00% de tweets\n",
            "Autor 269: 1 tweets vacíos. 1.00% de tweets\n",
            "Autor 270: 1 tweets vacíos. 1.00% de tweets\n",
            "Autor 271: 1 tweets vacíos. 1.00% de tweets\n",
            "Autor 272: 1 tweets vacíos. 1.00% de tweets\n",
            "Autor 275: 10 tweets vacíos. 10.00% de tweets\n",
            "Autor 277: 1 tweets vacíos. 1.00% de tweets\n",
            "Autor 278: 9 tweets vacíos. 9.00% de tweets\n",
            "Autor 280: 1 tweets vacíos. 1.00% de tweets\n",
            "Autor 287: 2 tweets vacíos. 2.00% de tweets\n",
            "Autor 288: 1 tweets vacíos. 1.00% de tweets\n",
            "Autor 290: 1 tweets vacíos. 1.00% de tweets\n",
            "Autor 300: 1 tweets vacíos. 1.00% de tweets\n",
            "Autor 304: 1 tweets vacíos. 1.00% de tweets\n",
            "Autor 305: 1 tweets vacíos. 1.00% de tweets\n",
            "Autor 307: 1 tweets vacíos. 1.00% de tweets\n",
            "Autor 315: 8 tweets vacíos. 8.00% de tweets\n",
            "Autor 320: 5 tweets vacíos. 5.00% de tweets\n",
            "Autor 322: 1 tweets vacíos. 1.00% de tweets\n",
            "Autor 324: 1 tweets vacíos. 1.00% de tweets\n",
            "Autor 330: 2 tweets vacíos. 2.00% de tweets\n",
            "Autor 331: 3 tweets vacíos. 3.00% de tweets\n",
            "Autor 335: 5 tweets vacíos. 5.00% de tweets\n",
            "Autor 338: 1 tweets vacíos. 1.00% de tweets\n",
            "Autor 339: 1 tweets vacíos. 1.00% de tweets\n",
            "Autor 340: 2 tweets vacíos. 2.00% de tweets\n",
            "Autor 353: 35 tweets vacíos. 35.00% de tweets\n",
            "Autor 354: 1 tweets vacíos. 1.00% de tweets\n",
            "Autor 356: 1 tweets vacíos. 1.00% de tweets\n",
            "Autor 357: 3 tweets vacíos. 3.00% de tweets\n",
            "Autor 358: 6 tweets vacíos. 6.00% de tweets\n",
            "Autor 377: 14 tweets vacíos. 14.00% de tweets\n",
            "Autor 380: 1 tweets vacíos. 1.00% de tweets\n",
            "Autor 384: 8 tweets vacíos. 8.00% de tweets\n",
            "Autor 391: 1 tweets vacíos. 1.00% de tweets\n",
            "Autor 398: 1 tweets vacíos. 1.00% de tweets\n",
            "Autor 402: 1 tweets vacíos. 1.00% de tweets\n",
            "Autor 404: 86 tweets vacíos. 86.00% de tweets\n",
            "Autor 405: 1 tweets vacíos. 1.00% de tweets\n",
            "Autor 417: 2 tweets vacíos. 2.00% de tweets\n",
            "Autor 419: 1 tweets vacíos. 1.00% de tweets\n",
            "Autor 428: 2 tweets vacíos. 2.00% de tweets\n",
            "Autor 432: 1 tweets vacíos. 1.00% de tweets\n",
            "Autor 441: 1 tweets vacíos. 1.00% de tweets\n",
            "Autor 449: 18 tweets vacíos. 18.00% de tweets\n",
            "Autor 453: 1 tweets vacíos. 1.00% de tweets\n",
            "Autor 460: 1 tweets vacíos. 1.00% de tweets\n",
            "Autor 461: 1 tweets vacíos. 1.00% de tweets\n",
            "Autor 474: 5 tweets vacíos. 5.00% de tweets\n",
            "Autor 476: 1 tweets vacíos. 1.00% de tweets\n",
            "Autor 477: 1 tweets vacíos. 1.00% de tweets\n",
            "Autor 481: 46 tweets vacíos. 46.00% de tweets\n",
            "Autor 485: 7 tweets vacíos. 7.00% de tweets\n",
            "Autor 491: 2 tweets vacíos. 2.00% de tweets\n",
            "Autor 499: 3 tweets vacíos. 3.00% de tweets\n",
            "Autor 506: 1 tweets vacíos. 1.00% de tweets\n",
            "Autor 507: 2 tweets vacíos. 2.00% de tweets\n",
            "Autor 514: 3 tweets vacíos. 3.00% de tweets\n",
            "Autor 517: 3 tweets vacíos. 3.00% de tweets\n",
            "Autor 521: 1 tweets vacíos. 1.00% de tweets\n",
            "Autor 523: 2 tweets vacíos. 2.00% de tweets\n",
            "Autor 524: 2 tweets vacíos. 2.00% de tweets\n",
            "Autor 527: 1 tweets vacíos. 1.00% de tweets\n",
            "Autor 530: 1 tweets vacíos. 1.00% de tweets\n",
            "Autor 533: 1 tweets vacíos. 1.00% de tweets\n",
            "Autor 534: 2 tweets vacíos. 2.00% de tweets\n",
            "Autor 537: 1 tweets vacíos. 1.00% de tweets\n",
            "Autor 552: 1 tweets vacíos. 1.00% de tweets\n",
            "Autor 554: 1 tweets vacíos. 1.00% de tweets\n",
            "Autor 559: 1 tweets vacíos. 1.00% de tweets\n",
            "Autor 560: 1 tweets vacíos. 1.00% de tweets\n",
            "Autor 580: 1 tweets vacíos. 1.00% de tweets\n",
            "Autor 583: 1 tweets vacíos. 1.00% de tweets\n",
            "Autor 584: 1 tweets vacíos. 1.00% de tweets\n",
            "Autor 588: 1 tweets vacíos. 1.00% de tweets\n",
            "Autor 589: 6 tweets vacíos. 6.00% de tweets\n",
            "Autor 594: 1 tweets vacíos. 1.00% de tweets\n",
            "Autor 597: 1 tweets vacíos. 1.00% de tweets\n",
            "Autor 598: 4 tweets vacíos. 4.00% de tweets\n",
            "Autor 599: 2 tweets vacíos. 2.00% de tweets\n",
            "Autor 601: 1 tweets vacíos. 1.00% de tweets\n",
            "Autor 602: 3 tweets vacíos. 3.00% de tweets\n",
            "Autor 604: 5 tweets vacíos. 5.00% de tweets\n",
            "Autor 610: 1 tweets vacíos. 1.00% de tweets\n",
            "Autor 611: 2 tweets vacíos. 2.00% de tweets\n",
            "Autor 616: 3 tweets vacíos. 3.00% de tweets\n",
            "Autor 620: 1 tweets vacíos. 1.00% de tweets\n",
            "Autor 621: 3 tweets vacíos. 3.00% de tweets\n",
            "Autor 622: 1 tweets vacíos. 1.00% de tweets\n",
            "Autor 626: 2 tweets vacíos. 2.00% de tweets\n",
            "Autor 627: 5 tweets vacíos. 5.00% de tweets\n",
            "Autor 631: 1 tweets vacíos. 1.00% de tweets\n",
            "Autor 632: 1 tweets vacíos. 1.00% de tweets\n",
            "Autor 633: 8 tweets vacíos. 8.00% de tweets\n",
            "Autor 634: 1 tweets vacíos. 1.00% de tweets\n",
            "Autor 636: 1 tweets vacíos. 1.00% de tweets\n",
            "Autor 638: 2 tweets vacíos. 2.00% de tweets\n",
            "Autor 642: 1 tweets vacíos. 1.00% de tweets\n",
            "Autor 646: 2 tweets vacíos. 2.00% de tweets\n",
            "Autor 650: 3 tweets vacíos. 3.00% de tweets\n",
            "Autor 655: 1 tweets vacíos. 1.00% de tweets\n",
            "Autor 659: 1 tweets vacíos. 1.00% de tweets\n",
            "Autor 661: 6 tweets vacíos. 6.00% de tweets\n",
            "Autor 664: 2 tweets vacíos. 2.00% de tweets\n",
            "Autor 665: 1 tweets vacíos. 1.00% de tweets\n",
            "Autor 669: 21 tweets vacíos. 21.00% de tweets\n",
            "Autor 671: 1 tweets vacíos. 1.00% de tweets\n",
            "Autor 672: 4 tweets vacíos. 4.00% de tweets\n",
            "Autor 673: 1 tweets vacíos. 1.00% de tweets\n",
            "Autor 675: 6 tweets vacíos. 6.00% de tweets\n",
            "Autor 678: 5 tweets vacíos. 5.00% de tweets\n",
            "Autor 684: 1 tweets vacíos. 1.00% de tweets\n",
            "Autor 685: 2 tweets vacíos. 2.00% de tweets\n",
            "Autor 686: 2 tweets vacíos. 2.00% de tweets\n",
            "Autor 689: 4 tweets vacíos. 4.00% de tweets\n",
            "Autor 691: 2 tweets vacíos. 2.00% de tweets\n",
            "Autor 697: 5 tweets vacíos. 5.00% de tweets\n",
            "Autor 699: 2 tweets vacíos. 2.00% de tweets\n",
            "Autor 700: 2 tweets vacíos. 2.00% de tweets\n",
            "Autor 702: 2 tweets vacíos. 2.00% de tweets\n",
            "Autor 705: 1 tweets vacíos. 1.00% de tweets\n",
            "Autor 707: 1 tweets vacíos. 1.00% de tweets\n",
            "Autor 709: 1 tweets vacíos. 1.00% de tweets\n",
            "Autor 713: 1 tweets vacíos. 1.00% de tweets\n",
            "Autor 714: 1 tweets vacíos. 1.00% de tweets\n",
            "Autor 720: 1 tweets vacíos. 1.00% de tweets\n",
            "Autor 721: 2 tweets vacíos. 2.00% de tweets\n",
            "Autor 722: 1 tweets vacíos. 1.00% de tweets\n",
            "Autor 726: 1 tweets vacíos. 1.00% de tweets\n",
            "Autor 730: 1 tweets vacíos. 1.00% de tweets\n",
            "Autor 733: 1 tweets vacíos. 1.00% de tweets\n",
            "Autor 735: 3 tweets vacíos. 3.00% de tweets\n",
            "Autor 740: 1 tweets vacíos. 1.00% de tweets\n",
            "Autor 747: 1 tweets vacíos. 1.00% de tweets\n",
            "Autor 748: 6 tweets vacíos. 6.00% de tweets\n",
            "Autor 749: 5 tweets vacíos. 5.00% de tweets\n",
            "Autor 750: 1 tweets vacíos. 1.00% de tweets\n",
            "Autor 752: 1 tweets vacíos. 1.00% de tweets\n",
            "Autor 758: 1 tweets vacíos. 1.00% de tweets\n",
            "Autor 760: 2 tweets vacíos. 2.00% de tweets\n",
            "Autor 761: 1 tweets vacíos. 1.00% de tweets\n",
            "Autor 765: 5 tweets vacíos. 5.00% de tweets\n",
            "Autor 766: 1 tweets vacíos. 1.00% de tweets\n",
            "Autor 767: 2 tweets vacíos. 2.00% de tweets\n",
            "Autor 768: 1 tweets vacíos. 1.00% de tweets\n",
            "Autor 771: 1 tweets vacíos. 1.00% de tweets\n",
            "Autor 772: 86 tweets vacíos. 86.00% de tweets\n",
            "Autor 775: 1 tweets vacíos. 1.00% de tweets\n",
            "Autor 778: 4 tweets vacíos. 4.00% de tweets\n",
            "Autor 780: 1 tweets vacíos. 1.00% de tweets\n",
            "Autor 783: 1 tweets vacíos. 1.00% de tweets\n",
            "Autor 792: 1 tweets vacíos. 1.00% de tweets\n",
            "Autor 795: 3 tweets vacíos. 3.00% de tweets\n",
            "Autor 798: 1 tweets vacíos. 1.00% de tweets\n",
            "Autor 803: 1 tweets vacíos. 1.00% de tweets\n",
            "Autor 804: 3 tweets vacíos. 3.00% de tweets\n",
            "Autor 806: 3 tweets vacíos. 3.00% de tweets\n",
            "Autor 808: 5 tweets vacíos. 5.00% de tweets\n",
            "Autor 810: 3 tweets vacíos. 3.00% de tweets\n",
            "Autor 815: 1 tweets vacíos. 1.00% de tweets\n",
            "Autor 830: 1 tweets vacíos. 1.00% de tweets\n",
            "Autor 842: 2 tweets vacíos. 2.00% de tweets\n",
            "Autor 848: 1 tweets vacíos. 1.00% de tweets\n",
            "Autor 852: 1 tweets vacíos. 1.00% de tweets\n",
            "Autor 855: 2 tweets vacíos. 2.00% de tweets\n",
            "Autor 856: 1 tweets vacíos. 1.00% de tweets\n",
            "Autor 857: 1 tweets vacíos. 1.00% de tweets\n",
            "Autor 858: 2 tweets vacíos. 2.00% de tweets\n",
            "Autor 865: 1 tweets vacíos. 1.00% de tweets\n",
            "Autor 871: 1 tweets vacíos. 1.00% de tweets\n",
            "Autor 880: 1 tweets vacíos. 1.00% de tweets\n",
            "Autor 882: 1 tweets vacíos. 1.00% de tweets\n",
            "Autor 884: 3 tweets vacíos. 3.00% de tweets\n",
            "Autor 887: 1 tweets vacíos. 1.00% de tweets\n",
            "Autor 889: 1 tweets vacíos. 1.00% de tweets\n",
            "Autor 897: 2 tweets vacíos. 2.00% de tweets\n",
            "Autor 901: 1 tweets vacíos. 1.00% de tweets\n",
            "Autor 903: 1 tweets vacíos. 1.00% de tweets\n",
            "Autor 910: 4 tweets vacíos. 4.00% de tweets\n",
            "Autor 913: 1 tweets vacíos. 1.00% de tweets\n",
            "Autor 915: 1 tweets vacíos. 1.00% de tweets\n",
            "Autor 916: 3 tweets vacíos. 3.00% de tweets\n",
            "Autor 928: 2 tweets vacíos. 2.00% de tweets\n",
            "Autor 929: 1 tweets vacíos. 1.00% de tweets\n",
            "Autor 934: 1 tweets vacíos. 1.00% de tweets\n",
            "Autor 937: 2 tweets vacíos. 2.00% de tweets\n",
            "Autor 938: 1 tweets vacíos. 1.00% de tweets\n",
            "Autor 941: 1 tweets vacíos. 1.00% de tweets\n",
            "Autor 944: 1 tweets vacíos. 1.00% de tweets\n",
            "Autor 949: 1 tweets vacíos. 1.00% de tweets\n",
            "Autor 951: 2 tweets vacíos. 2.00% de tweets\n",
            "Autor 956: 6 tweets vacíos. 6.00% de tweets\n",
            "Autor 958: 1 tweets vacíos. 1.00% de tweets\n",
            "Autor 960: 1 tweets vacíos. 1.00% de tweets\n",
            "Autor 964: 2 tweets vacíos. 2.00% de tweets\n",
            "Autor 965: 1 tweets vacíos. 1.00% de tweets\n",
            "Autor 976: 1 tweets vacíos. 1.00% de tweets\n",
            "Autor 977: 4 tweets vacíos. 4.00% de tweets\n",
            "Autor 984: 1 tweets vacíos. 1.00% de tweets\n",
            "Autor 986: 2 tweets vacíos. 2.00% de tweets\n",
            "Autor 990: 1 tweets vacíos. 1.00% de tweets\n",
            "Autor 992: 1 tweets vacíos. 1.00% de tweets\n",
            "Autor 997: 3 tweets vacíos. 3.00% de tweets\n",
            "Autor 1002: 1 tweets vacíos. 1.00% de tweets\n",
            "Autor 1005: 1 tweets vacíos. 1.00% de tweets\n",
            "Autor 1010: 1 tweets vacíos. 1.00% de tweets\n",
            "Autor 1018: 35 tweets vacíos. 35.00% de tweets\n",
            "Autor 1021: 1 tweets vacíos. 1.00% de tweets\n",
            "Autor 1023: 1 tweets vacíos. 1.00% de tweets\n",
            "Autor 1025: 1 tweets vacíos. 1.00% de tweets\n",
            "Autor 1026: 1 tweets vacíos. 1.00% de tweets\n",
            "Autor 1030: 1 tweets vacíos. 1.00% de tweets\n",
            "Autor 1039: 4 tweets vacíos. 4.00% de tweets\n",
            "Autor 1051: 1 tweets vacíos. 1.00% de tweets\n",
            "Autor 1053: 1 tweets vacíos. 1.00% de tweets\n",
            "Autor 1064: 1 tweets vacíos. 1.00% de tweets\n",
            "Autor 1066: 1 tweets vacíos. 1.00% de tweets\n",
            "Autor 1068: 1 tweets vacíos. 1.00% de tweets\n",
            "Autor 1077: 1 tweets vacíos. 1.00% de tweets\n",
            "Autor 1078: 2 tweets vacíos. 2.00% de tweets\n",
            "Autor 1082: 1 tweets vacíos. 1.00% de tweets\n",
            "Autor 1085: 6 tweets vacíos. 6.00% de tweets\n",
            "Autor 1088: 1 tweets vacíos. 1.00% de tweets\n",
            "Autor 1091: 7 tweets vacíos. 7.00% de tweets\n",
            "Autor 1094: 1 tweets vacíos. 1.00% de tweets\n",
            "Autor 1095: 2 tweets vacíos. 2.00% de tweets\n",
            "Autor 1096: 1 tweets vacíos. 1.00% de tweets\n",
            "Autor 1102: 1 tweets vacíos. 1.00% de tweets\n",
            "Autor 1104: 3 tweets vacíos. 3.00% de tweets\n",
            "Autor 1119: 1 tweets vacíos. 1.00% de tweets\n",
            "Autor 1126: 2 tweets vacíos. 2.00% de tweets\n",
            "Autor 1132: 1 tweets vacíos. 1.00% de tweets\n",
            "Autor 1134: 6 tweets vacíos. 6.00% de tweets\n",
            "Autor 1140: 1 tweets vacíos. 1.00% de tweets\n",
            "Autor 1144: 3 tweets vacíos. 3.00% de tweets\n",
            "Autor 1148: 1 tweets vacíos. 1.00% de tweets\n",
            "Autor 1171: 1 tweets vacíos. 1.00% de tweets\n",
            "Autor 1176: 1 tweets vacíos. 1.00% de tweets\n",
            "Autor 1180: 5 tweets vacíos. 5.00% de tweets\n",
            "Autor 1186: 5 tweets vacíos. 5.00% de tweets\n",
            "Autor 1187: 2 tweets vacíos. 2.00% de tweets\n",
            "Autor 1192: 2 tweets vacíos. 2.00% de tweets\n",
            "Autor 1195: 1 tweets vacíos. 1.00% de tweets\n",
            "Autor 1196: 6 tweets vacíos. 6.00% de tweets\n",
            "Autor 1198: 1 tweets vacíos. 1.00% de tweets\n",
            "Autor 1213: 1 tweets vacíos. 1.00% de tweets\n",
            "Autor 1214: 1 tweets vacíos. 1.00% de tweets\n",
            "Autor 1218: 2 tweets vacíos. 2.00% de tweets\n",
            "Autor 1221: 1 tweets vacíos. 1.00% de tweets\n",
            "Autor 1223: 21 tweets vacíos. 21.00% de tweets\n",
            "Autor 1225: 1 tweets vacíos. 1.00% de tweets\n",
            "Autor 1233: 1 tweets vacíos. 1.00% de tweets\n",
            "Autor 1239: 8 tweets vacíos. 8.00% de tweets\n",
            "Autor 1247: 1 tweets vacíos. 1.00% de tweets\n",
            "Autor 1251: 8 tweets vacíos. 8.00% de tweets\n",
            "Autor 1254: 1 tweets vacíos. 1.00% de tweets\n",
            "Autor 1257: 2 tweets vacíos. 2.00% de tweets\n",
            "Autor 1258: 1 tweets vacíos. 1.00% de tweets\n",
            "Autor 1262: 2 tweets vacíos. 2.00% de tweets\n",
            "Autor 1263: 2 tweets vacíos. 2.00% de tweets\n",
            "Autor 1265: 6 tweets vacíos. 6.00% de tweets\n",
            "Autor 1266: 25 tweets vacíos. 25.00% de tweets\n",
            "Autor 1269: 1 tweets vacíos. 1.00% de tweets\n",
            "Autor 1273: 1 tweets vacíos. 1.00% de tweets\n",
            "Autor 1282: 1 tweets vacíos. 1.00% de tweets\n",
            "Autor 1284: 2 tweets vacíos. 2.00% de tweets\n",
            "Autor 1299: 1 tweets vacíos. 1.00% de tweets\n",
            "Autor 1302: 1 tweets vacíos. 1.00% de tweets\n",
            "Autor 1304: 11 tweets vacíos. 11.00% de tweets\n",
            "Autor 1305: 1 tweets vacíos. 1.00% de tweets\n",
            "Autor 1314: 2 tweets vacíos. 2.00% de tweets\n",
            "Autor 1315: 1 tweets vacíos. 1.00% de tweets\n",
            "Autor 1329: 1 tweets vacíos. 1.00% de tweets\n",
            "Autor 1331: 1 tweets vacíos. 1.00% de tweets\n",
            "Autor 1332: 1 tweets vacíos. 1.00% de tweets\n",
            "Autor 1333: 21 tweets vacíos. 21.00% de tweets\n",
            "Autor 1338: 4 tweets vacíos. 4.00% de tweets\n",
            "Autor 1339: 3 tweets vacíos. 3.00% de tweets\n",
            "Autor 1341: 1 tweets vacíos. 1.00% de tweets\n",
            "Autor 1343: 1 tweets vacíos. 1.00% de tweets\n",
            "Autor 1349: 17 tweets vacíos. 17.00% de tweets\n",
            "Autor 1352: 1 tweets vacíos. 1.00% de tweets\n",
            "Autor 1354: 1 tweets vacíos. 1.00% de tweets\n",
            "Autor 1356: 2 tweets vacíos. 2.00% de tweets\n",
            "Autor 1357: 1 tweets vacíos. 1.00% de tweets\n",
            "Autor 1363: 5 tweets vacíos. 5.00% de tweets\n",
            "Autor 1374: 1 tweets vacíos. 1.00% de tweets\n",
            "Autor 1379: 1 tweets vacíos. 1.00% de tweets\n",
            "Autor 1382: 2 tweets vacíos. 2.00% de tweets\n",
            "Autor 1387: 1 tweets vacíos. 1.00% de tweets\n",
            "Autor 1388: 1 tweets vacíos. 1.00% de tweets\n",
            "Autor 1389: 1 tweets vacíos. 1.00% de tweets\n",
            "Autor 1390: 1 tweets vacíos. 1.00% de tweets\n",
            "Autor 1394: 1 tweets vacíos. 1.00% de tweets\n",
            "Autor 1396: 6 tweets vacíos. 6.00% de tweets\n",
            "Autor 1397: 1 tweets vacíos. 1.00% de tweets\n",
            "Autor 1403: 1 tweets vacíos. 1.00% de tweets\n",
            "Autor 1409: 1 tweets vacíos. 1.00% de tweets\n",
            "Autor 1410: 1 tweets vacíos. 1.00% de tweets\n",
            "Autor 1412: 1 tweets vacíos. 1.00% de tweets\n",
            "Autor 1417: 1 tweets vacíos. 1.00% de tweets\n",
            "Autor 1418: 1 tweets vacíos. 1.00% de tweets\n",
            "Autor 1422: 1 tweets vacíos. 1.00% de tweets\n",
            "Autor 1423: 1 tweets vacíos. 1.00% de tweets\n",
            "Autor 1424: 1 tweets vacíos. 1.00% de tweets\n",
            "Autor 1425: 1 tweets vacíos. 1.00% de tweets\n",
            "Autor 1428: 1 tweets vacíos. 1.00% de tweets\n",
            "Autor 1430: 1 tweets vacíos. 1.00% de tweets\n",
            "Autor 1434: 1 tweets vacíos. 1.00% de tweets\n",
            "Autor 1435: 1 tweets vacíos. 1.00% de tweets\n",
            "Autor 1436: 2 tweets vacíos. 2.00% de tweets\n",
            "Autor 1437: 1 tweets vacíos. 1.00% de tweets\n",
            "Autor 1438: 5 tweets vacíos. 5.00% de tweets\n",
            "Autor 1439: 1 tweets vacíos. 1.00% de tweets\n",
            "Autor 1440: 1 tweets vacíos. 1.00% de tweets\n",
            "Autor 1443: 1 tweets vacíos. 1.00% de tweets\n",
            "Autor 1445: 1 tweets vacíos. 1.00% de tweets\n",
            "Autor 1450: 1 tweets vacíos. 1.00% de tweets\n",
            "Autor 1452: 10 tweets vacíos. 10.00% de tweets\n",
            "Autor 1462: 2 tweets vacíos. 2.00% de tweets\n",
            "Autor 1464: 2 tweets vacíos. 2.00% de tweets\n",
            "Autor 1465: 4 tweets vacíos. 4.00% de tweets\n",
            "Autor 1466: 2 tweets vacíos. 2.00% de tweets\n",
            "Autor 1468: 1 tweets vacíos. 1.00% de tweets\n",
            "Autor 1469: 4 tweets vacíos. 4.00% de tweets\n",
            "Autor 1470: 16 tweets vacíos. 16.00% de tweets\n",
            "Autor 1472: 10 tweets vacíos. 10.00% de tweets\n",
            "Autor 1473: 2 tweets vacíos. 2.00% de tweets\n",
            "Autor 1475: 1 tweets vacíos. 1.00% de tweets\n",
            "Autor 1478: 5 tweets vacíos. 5.00% de tweets\n",
            "Autor 1483: 1 tweets vacíos. 1.00% de tweets\n",
            "Autor 1487: 1 tweets vacíos. 1.00% de tweets\n",
            "Autor 1499: 1 tweets vacíos. 1.00% de tweets\n",
            "Autor 1500: 5 tweets vacíos. 5.00% de tweets\n",
            "Autor 1503: 2 tweets vacíos. 2.00% de tweets\n",
            "Autor 1507: 2 tweets vacíos. 2.00% de tweets\n",
            "Autor 1508: 2 tweets vacíos. 2.00% de tweets\n",
            "Autor 1510: 1 tweets vacíos. 1.00% de tweets\n",
            "Autor 1511: 1 tweets vacíos. 1.00% de tweets\n",
            "Autor 1520: 3 tweets vacíos. 3.00% de tweets\n",
            "Autor 1526: 1 tweets vacíos. 1.00% de tweets\n",
            "Autor 1528: 1 tweets vacíos. 1.00% de tweets\n",
            "Autor 1533: 4 tweets vacíos. 4.00% de tweets\n",
            "Autor 1534: 1 tweets vacíos. 1.00% de tweets\n",
            "Autor 1538: 1 tweets vacíos. 1.00% de tweets\n",
            "Autor 1541: 9 tweets vacíos. 9.00% de tweets\n",
            "Autor 1545: 1 tweets vacíos. 1.00% de tweets\n",
            "Autor 1547: 1 tweets vacíos. 1.00% de tweets\n",
            "Autor 1548: 1 tweets vacíos. 1.00% de tweets\n",
            "Autor 1550: 1 tweets vacíos. 1.00% de tweets\n",
            "Autor 1560: 6 tweets vacíos. 6.00% de tweets\n",
            "Autor 1563: 8 tweets vacíos. 8.00% de tweets\n",
            "Autor 1584: 3 tweets vacíos. 3.00% de tweets\n",
            "Autor 1585: 1 tweets vacíos. 1.00% de tweets\n",
            "Autor 1595: 11 tweets vacíos. 11.00% de tweets\n",
            "Autor 1597: 1 tweets vacíos. 1.00% de tweets\n",
            "Autor 1602: 5 tweets vacíos. 5.00% de tweets\n",
            "Autor 1605: 1 tweets vacíos. 1.00% de tweets\n",
            "Autor 1608: 1 tweets vacíos. 1.00% de tweets\n",
            "Autor 1610: 1 tweets vacíos. 1.00% de tweets\n",
            "Autor 1612: 3 tweets vacíos. 3.00% de tweets\n",
            "Autor 1614: 1 tweets vacíos. 1.00% de tweets\n",
            "Autor 1620: 1 tweets vacíos. 1.00% de tweets\n",
            "Autor 1621: 1 tweets vacíos. 1.00% de tweets\n",
            "Autor 1624: 1 tweets vacíos. 1.00% de tweets\n",
            "Autor 1625: 4 tweets vacíos. 4.00% de tweets\n",
            "Autor 1637: 1 tweets vacíos. 1.00% de tweets\n",
            "Autor 1642: 1 tweets vacíos. 1.00% de tweets\n",
            "Autor 1643: 1 tweets vacíos. 1.00% de tweets\n",
            "Autor 1648: 2 tweets vacíos. 2.00% de tweets\n",
            "Autor 1650: 1 tweets vacíos. 1.00% de tweets\n",
            "Autor 1652: 1 tweets vacíos. 1.00% de tweets\n",
            "Autor 1658: 2 tweets vacíos. 2.00% de tweets\n",
            "Autor 1661: 3 tweets vacíos. 3.00% de tweets\n",
            "Autor 1666: 2 tweets vacíos. 2.00% de tweets\n",
            "Autor 1672: 1 tweets vacíos. 1.00% de tweets\n",
            "Autor 1677: 1 tweets vacíos. 1.00% de tweets\n",
            "Autor 1691: 1 tweets vacíos. 1.00% de tweets\n",
            "Autor 1694: 1 tweets vacíos. 1.00% de tweets\n",
            "Autor 1698: 3 tweets vacíos. 3.00% de tweets\n",
            "Autor 1701: 1 tweets vacíos. 1.00% de tweets\n",
            "Autor 1704: 1 tweets vacíos. 1.00% de tweets\n",
            "Autor 1706: 1 tweets vacíos. 1.00% de tweets\n",
            "Autor 1708: 1 tweets vacíos. 1.00% de tweets\n",
            "Autor 1714: 2 tweets vacíos. 2.00% de tweets\n",
            "Autor 1715: 2 tweets vacíos. 2.00% de tweets\n",
            "Autor 1717: 1 tweets vacíos. 1.00% de tweets\n",
            "Autor 1719: 1 tweets vacíos. 1.00% de tweets\n",
            "Autor 1720: 2 tweets vacíos. 2.00% de tweets\n",
            "Autor 1723: 1 tweets vacíos. 1.00% de tweets\n",
            "Autor 1730: 1 tweets vacíos. 1.00% de tweets\n",
            "Autor 1733: 4 tweets vacíos. 4.00% de tweets\n",
            "Autor 1745: 1 tweets vacíos. 1.00% de tweets\n",
            "Autor 1749: 1 tweets vacíos. 1.00% de tweets\n",
            "Autor 1752: 1 tweets vacíos. 1.00% de tweets\n",
            "Autor 1754: 4 tweets vacíos. 4.00% de tweets\n",
            "Autor 1759: 1 tweets vacíos. 1.00% de tweets\n",
            "Autor 1760: 2 tweets vacíos. 2.00% de tweets\n",
            "Autor 1761: 1 tweets vacíos. 1.00% de tweets\n",
            "Autor 1763: 7 tweets vacíos. 7.00% de tweets\n",
            "Autor 1766: 3 tweets vacíos. 3.00% de tweets\n",
            "Autor 1772: 1 tweets vacíos. 1.00% de tweets\n",
            "Autor 1773: 2 tweets vacíos. 2.00% de tweets\n",
            "Autor 1774: 1 tweets vacíos. 1.00% de tweets\n",
            "Autor 1778: 1 tweets vacíos. 1.00% de tweets\n",
            "Autor 1781: 1 tweets vacíos. 1.00% de tweets\n",
            "Autor 1784: 1 tweets vacíos. 1.00% de tweets\n",
            "Autor 1788: 3 tweets vacíos. 3.00% de tweets\n",
            "Autor 1789: 1 tweets vacíos. 1.00% de tweets\n",
            "Autor 1792: 14 tweets vacíos. 14.00% de tweets\n",
            "Autor 1794: 1 tweets vacíos. 1.00% de tweets\n",
            "Autor 1797: 5 tweets vacíos. 5.00% de tweets\n",
            "Autor 1798: 1 tweets vacíos. 1.00% de tweets\n",
            "Autor 1809: 4 tweets vacíos. 4.00% de tweets\n",
            "Autor 1812: 1 tweets vacíos. 1.00% de tweets\n",
            "Autor 1815: 1 tweets vacíos. 1.00% de tweets\n",
            "Autor 1816: 5 tweets vacíos. 5.00% de tweets\n",
            "Autor 1821: 1 tweets vacíos. 1.00% de tweets\n",
            "Autor 1827: 1 tweets vacíos. 1.00% de tweets\n",
            "Autor 1829: 6 tweets vacíos. 6.00% de tweets\n",
            "Autor 1838: 1 tweets vacíos. 1.00% de tweets\n",
            "Autor 1849: 1 tweets vacíos. 1.00% de tweets\n",
            "Autor 1850: 2 tweets vacíos. 2.00% de tweets\n",
            "Autor 1855: 1 tweets vacíos. 1.00% de tweets\n",
            "Autor 1858: 1 tweets vacíos. 1.00% de tweets\n",
            "Autor 1861: 1 tweets vacíos. 1.00% de tweets\n",
            "Autor 1864: 1 tweets vacíos. 1.00% de tweets\n",
            "Autor 1865: 1 tweets vacíos. 1.00% de tweets\n",
            "Autor 1870: 7 tweets vacíos. 7.00% de tweets\n",
            "Autor 1879: 1 tweets vacíos. 1.00% de tweets\n",
            "Autor 1884: 1 tweets vacíos. 1.00% de tweets\n",
            "Autor 1893: 1 tweets vacíos. 1.00% de tweets\n",
            "Autor 1894: 2 tweets vacíos. 2.00% de tweets\n",
            "Autor 1897: 1 tweets vacíos. 1.00% de tweets\n",
            "Autor 1899: 2 tweets vacíos. 2.00% de tweets\n",
            "Autor 1901: 1 tweets vacíos. 1.00% de tweets\n",
            "Autor 1902: 1 tweets vacíos. 1.00% de tweets\n",
            "Autor 1905: 3 tweets vacíos. 3.00% de tweets\n",
            "Autor 1906: 2 tweets vacíos. 2.00% de tweets\n",
            "Autor 1913: 1 tweets vacíos. 1.00% de tweets\n",
            "Autor 1915: 3 tweets vacíos. 3.00% de tweets\n",
            "Autor 1917: 2 tweets vacíos. 2.00% de tweets\n",
            "Autor 1920: 1 tweets vacíos. 1.00% de tweets\n",
            "Autor 1923: 2 tweets vacíos. 2.00% de tweets\n",
            "Autor 1926: 8 tweets vacíos. 8.00% de tweets\n",
            "Autor 1931: 1 tweets vacíos. 1.00% de tweets\n",
            "Autor 1936: 7 tweets vacíos. 7.00% de tweets\n",
            "Autor 1945: 1 tweets vacíos. 1.00% de tweets\n",
            "Autor 1946: 1 tweets vacíos. 1.00% de tweets\n",
            "Autor 1947: 1 tweets vacíos. 1.00% de tweets\n",
            "Autor 1949: 1 tweets vacíos. 1.00% de tweets\n",
            "Autor 1950: 3 tweets vacíos. 3.00% de tweets\n",
            "Autor 1960: 1 tweets vacíos. 1.00% de tweets\n",
            "Autor 1961: 7 tweets vacíos. 7.00% de tweets\n",
            "Autor 1964: 1 tweets vacíos. 1.00% de tweets\n",
            "Autor 1967: 2 tweets vacíos. 2.00% de tweets\n",
            "Autor 1969: 2 tweets vacíos. 2.00% de tweets\n",
            "Autor 1970: 1 tweets vacíos. 1.00% de tweets\n",
            "Autor 1974: 1 tweets vacíos. 1.00% de tweets\n",
            "Autor 1977: 5 tweets vacíos. 5.00% de tweets\n",
            "Autor 1981: 1 tweets vacíos. 1.00% de tweets\n",
            "Autor 1983: 1 tweets vacíos. 1.00% de tweets\n",
            "Autor 1992: 2 tweets vacíos. 2.00% de tweets\n",
            "Autor 1995: 2 tweets vacíos. 2.00% de tweets\n",
            "Autor 1997: 1 tweets vacíos. 1.00% de tweets\n",
            "Autor 2009: 1 tweets vacíos. 1.00% de tweets\n",
            "Autor 2012: 3 tweets vacíos. 3.00% de tweets\n",
            "Autor 2014: 2 tweets vacíos. 2.00% de tweets\n",
            "Autor 2018: 1 tweets vacíos. 1.00% de tweets\n",
            "Autor 2019: 2 tweets vacíos. 2.00% de tweets\n",
            "Autor 2020: 1 tweets vacíos. 1.00% de tweets\n",
            "Autor 2022: 5 tweets vacíos. 5.00% de tweets\n",
            "Autor 2025: 1 tweets vacíos. 1.00% de tweets\n",
            "Autor 2030: 2 tweets vacíos. 2.00% de tweets\n",
            "Autor 2036: 1 tweets vacíos. 1.00% de tweets\n",
            "Autor 2040: 1 tweets vacíos. 1.00% de tweets\n",
            "Autor 2043: 1 tweets vacíos. 1.00% de tweets\n",
            "Autor 2044: 2 tweets vacíos. 2.00% de tweets\n",
            "Autor 2047: 5 tweets vacíos. 5.00% de tweets\n",
            "Autor 2058: 1 tweets vacíos. 1.00% de tweets\n",
            "Autor 2059: 6 tweets vacíos. 6.00% de tweets\n",
            "Autor 2066: 2 tweets vacíos. 2.00% de tweets\n",
            "Autor 2067: 1 tweets vacíos. 1.00% de tweets\n",
            "Autor 2069: 3 tweets vacíos. 3.00% de tweets\n",
            "Autor 2070: 1 tweets vacíos. 1.00% de tweets\n",
            "Autor 2078: 2 tweets vacíos. 2.00% de tweets\n",
            "Autor 2080: 1 tweets vacíos. 1.00% de tweets\n",
            "Autor 2087: 2 tweets vacíos. 2.00% de tweets\n",
            "Autor 2090: 1 tweets vacíos. 1.00% de tweets\n",
            "Autor 2094: 1 tweets vacíos. 1.00% de tweets\n",
            "Autor 2102: 1 tweets vacíos. 1.00% de tweets\n",
            "Autor 2106: 3 tweets vacíos. 3.00% de tweets\n",
            "Autor 2107: 1 tweets vacíos. 1.00% de tweets\n",
            "Autor 2113: 1 tweets vacíos. 1.00% de tweets\n",
            "Autor 2117: 4 tweets vacíos. 4.00% de tweets\n",
            "Autor 2121: 1 tweets vacíos. 1.00% de tweets\n",
            "Autor 2125: 2 tweets vacíos. 2.00% de tweets\n",
            "Autor 2136: 2 tweets vacíos. 2.00% de tweets\n",
            "Autor 2142: 2 tweets vacíos. 2.00% de tweets\n",
            "Autor 2144: 1 tweets vacíos. 1.00% de tweets\n",
            "Autor 2146: 1 tweets vacíos. 1.00% de tweets\n",
            "Autor 2152: 1 tweets vacíos. 1.00% de tweets\n",
            "Autor 2153: 3 tweets vacíos. 3.00% de tweets\n",
            "Autor 2158: 11 tweets vacíos. 11.00% de tweets\n",
            "Autor 2162: 2 tweets vacíos. 2.00% de tweets\n",
            "Autor 2163: 2 tweets vacíos. 2.00% de tweets\n",
            "Autor 2173: 1 tweets vacíos. 1.00% de tweets\n",
            "Autor 2176: 1 tweets vacíos. 1.00% de tweets\n",
            "Autor 2178: 2 tweets vacíos. 2.00% de tweets\n",
            "Autor 2179: 6 tweets vacíos. 6.00% de tweets\n",
            "Autor 2180: 1 tweets vacíos. 1.00% de tweets\n",
            "Autor 2183: 2 tweets vacíos. 2.00% de tweets\n",
            "Autor 2188: 2 tweets vacíos. 2.00% de tweets\n",
            "Autor 2189: 1 tweets vacíos. 1.00% de tweets\n",
            "Autor 2192: 3 tweets vacíos. 3.00% de tweets\n",
            "Autor 2193: 4 tweets vacíos. 4.00% de tweets\n",
            "Autor 2194: 1 tweets vacíos. 1.00% de tweets\n",
            "Autor 2195: 2 tweets vacíos. 2.00% de tweets\n",
            "Autor 2196: 1 tweets vacíos. 1.00% de tweets\n",
            "Autor 2197: 2 tweets vacíos. 2.00% de tweets\n",
            "Autor 2200: 1 tweets vacíos. 1.00% de tweets\n",
            "Autor 2211: 1 tweets vacíos. 1.00% de tweets\n",
            "Autor 2214: 1 tweets vacíos. 1.00% de tweets\n",
            "Autor 2217: 2 tweets vacíos. 2.00% de tweets\n",
            "Autor 2218: 3 tweets vacíos. 3.00% de tweets\n",
            "Autor 2220: 3 tweets vacíos. 3.00% de tweets\n",
            "Autor 2225: 6 tweets vacíos. 6.00% de tweets\n",
            "Autor 2226: 1 tweets vacíos. 1.00% de tweets\n",
            "Autor 2227: 1 tweets vacíos. 1.00% de tweets\n",
            "Autor 2230: 1 tweets vacíos. 1.00% de tweets\n",
            "Autor 2236: 13 tweets vacíos. 13.00% de tweets\n",
            "Autor 2239: 1 tweets vacíos. 1.00% de tweets\n",
            "Autor 2240: 1 tweets vacíos. 1.00% de tweets\n",
            "Autor 2243: 2 tweets vacíos. 2.00% de tweets\n",
            "Autor 2245: 2 tweets vacíos. 2.00% de tweets\n",
            "Autor 2247: 4 tweets vacíos. 4.00% de tweets\n",
            "Autor 2251: 1 tweets vacíos. 1.00% de tweets\n",
            "Autor 2262: 9 tweets vacíos. 9.00% de tweets\n",
            "Autor 2265: 5 tweets vacíos. 5.00% de tweets\n",
            "Autor 2266: 2 tweets vacíos. 2.00% de tweets\n",
            "Autor 2268: 4 tweets vacíos. 4.00% de tweets\n",
            "Autor 2273: 1 tweets vacíos. 1.00% de tweets\n",
            "Autor 2276: 2 tweets vacíos. 2.00% de tweets\n",
            "Autor 2277: 2 tweets vacíos. 2.00% de tweets\n",
            "Autor 2278: 4 tweets vacíos. 4.00% de tweets\n",
            "Autor 2282: 5 tweets vacíos. 5.00% de tweets\n",
            "Autor 2286: 3 tweets vacíos. 3.00% de tweets\n",
            "Autor 2288: 1 tweets vacíos. 1.00% de tweets\n",
            "Autor 2299: 3 tweets vacíos. 3.00% de tweets\n",
            "Autor 2303: 1 tweets vacíos. 1.00% de tweets\n",
            "Autor 2305: 7 tweets vacíos. 7.00% de tweets\n",
            "Autor 2308: 2 tweets vacíos. 2.00% de tweets\n",
            "Autor 2310: 2 tweets vacíos. 2.00% de tweets\n",
            "Autor 2313: 8 tweets vacíos. 8.00% de tweets\n",
            "Autor 2320: 1 tweets vacíos. 1.00% de tweets\n",
            "Autor 2324: 3 tweets vacíos. 3.00% de tweets\n",
            "Autor 2326: 1 tweets vacíos. 1.00% de tweets\n",
            "Autor 2333: 1 tweets vacíos. 1.00% de tweets\n",
            "Autor 2334: 1 tweets vacíos. 1.00% de tweets\n",
            "Autor 2343: 2 tweets vacíos. 2.00% de tweets\n",
            "Autor 2346: 1 tweets vacíos. 1.00% de tweets\n",
            "Autor 2351: 2 tweets vacíos. 2.00% de tweets\n",
            "Autor 2355: 2 tweets vacíos. 2.00% de tweets\n",
            "Autor 2356: 1 tweets vacíos. 1.00% de tweets\n",
            "Autor 2357: 2 tweets vacíos. 2.00% de tweets\n",
            "Autor 2367: 1 tweets vacíos. 1.00% de tweets\n",
            "Autor 2368: 2 tweets vacíos. 2.00% de tweets\n",
            "Autor 2369: 1 tweets vacíos. 1.00% de tweets\n",
            "Autor 2376: 3 tweets vacíos. 3.00% de tweets\n",
            "Autor 2377: 1 tweets vacíos. 1.00% de tweets\n",
            "Autor 2378: 2 tweets vacíos. 2.00% de tweets\n",
            "Autor 2379: 5 tweets vacíos. 5.00% de tweets\n",
            "Autor 2381: 4 tweets vacíos. 4.00% de tweets\n",
            "Autor 2393: 1 tweets vacíos. 1.00% de tweets\n",
            "Autor 2396: 3 tweets vacíos. 3.00% de tweets\n",
            "Autor 2402: 1 tweets vacíos. 1.00% de tweets\n",
            "Autor 2408: 2 tweets vacíos. 2.00% de tweets\n",
            "Autor 2414: 3 tweets vacíos. 3.00% de tweets\n",
            "Autor 2415: 1 tweets vacíos. 1.00% de tweets\n",
            "Autor 2418: 2 tweets vacíos. 2.00% de tweets\n",
            "Autor 2423: 1 tweets vacíos. 1.00% de tweets\n",
            "Autor 2426: 5 tweets vacíos. 5.00% de tweets\n",
            "Autor 2440: 2 tweets vacíos. 2.00% de tweets\n",
            "Autor 2445: 1 tweets vacíos. 1.00% de tweets\n",
            "Autor 2446: 2 tweets vacíos. 2.00% de tweets\n",
            "Autor 2449: 1 tweets vacíos. 1.00% de tweets\n",
            "Autor 2461: 1 tweets vacíos. 1.00% de tweets\n",
            "Autor 2463: 1 tweets vacíos. 1.00% de tweets\n",
            "Autor 2465: 1 tweets vacíos. 1.00% de tweets\n",
            "Autor 2466: 4 tweets vacíos. 4.00% de tweets\n",
            "Autor 2468: 3 tweets vacíos. 3.00% de tweets\n",
            "Autor 2471: 2 tweets vacíos. 2.00% de tweets\n",
            "Autor 2476: 1 tweets vacíos. 1.00% de tweets\n",
            "Autor 2481: 1 tweets vacíos. 1.00% de tweets\n",
            "Autor 2482: 1 tweets vacíos. 1.00% de tweets\n",
            "Autor 2487: 1 tweets vacíos. 1.00% de tweets\n",
            "Autor 2488: 1 tweets vacíos. 1.00% de tweets\n",
            "Autor 2493: 1 tweets vacíos. 1.00% de tweets\n",
            "Autor 2495: 3 tweets vacíos. 3.00% de tweets\n",
            "Autor 2496: 1 tweets vacíos. 1.00% de tweets\n",
            "Autor 2498: 1 tweets vacíos. 1.00% de tweets\n",
            "Autor 2505: 2 tweets vacíos. 2.00% de tweets\n",
            "Autor 2515: 1 tweets vacíos. 1.00% de tweets\n",
            "Autor 2517: 1 tweets vacíos. 1.00% de tweets\n",
            "Autor 2523: 1 tweets vacíos. 1.00% de tweets\n",
            "Autor 2526: 7 tweets vacíos. 7.00% de tweets\n",
            "Autor 2529: 3 tweets vacíos. 3.00% de tweets\n",
            "Autor 2534: 2 tweets vacíos. 2.00% de tweets\n",
            "Autor 2538: 1 tweets vacíos. 1.00% de tweets\n",
            "Autor 2546: 1 tweets vacíos. 1.00% de tweets\n",
            "Autor 2551: 3 tweets vacíos. 3.00% de tweets\n",
            "Autor 2555: 1 tweets vacíos. 1.00% de tweets\n",
            "Autor 2556: 1 tweets vacíos. 1.00% de tweets\n",
            "Autor 2561: 1 tweets vacíos. 1.00% de tweets\n",
            "Autor 2562: 7 tweets vacíos. 7.00% de tweets\n",
            "Autor 2570: 1 tweets vacíos. 1.00% de tweets\n",
            "Autor 2571: 1 tweets vacíos. 1.00% de tweets\n",
            "Autor 2576: 6 tweets vacíos. 6.00% de tweets\n",
            "Autor 2577: 1 tweets vacíos. 1.00% de tweets\n",
            "Autor 2580: 2 tweets vacíos. 2.00% de tweets\n",
            "Autor 2587: 1 tweets vacíos. 1.00% de tweets\n",
            "Autor 2588: 37 tweets vacíos. 37.00% de tweets\n",
            "Autor 2597: 1 tweets vacíos. 1.00% de tweets\n",
            "Autor 2600: 1 tweets vacíos. 1.00% de tweets\n",
            "Autor 2601: 1 tweets vacíos. 1.00% de tweets\n",
            "Autor 2602: 9 tweets vacíos. 9.00% de tweets\n",
            "Autor 2606: 1 tweets vacíos. 1.00% de tweets\n",
            "Autor 2610: 2 tweets vacíos. 2.00% de tweets\n",
            "Autor 2611: 1 tweets vacíos. 1.00% de tweets\n",
            "Autor 2617: 1 tweets vacíos. 1.00% de tweets\n",
            "Autor 2618: 10 tweets vacíos. 10.00% de tweets\n",
            "Autor 2619: 3 tweets vacíos. 3.00% de tweets\n",
            "Autor 2621: 1 tweets vacíos. 1.00% de tweets\n",
            "Autor 2623: 1 tweets vacíos. 1.00% de tweets\n",
            "Autor 2631: 1 tweets vacíos. 1.00% de tweets\n",
            "Autor 2633: 1 tweets vacíos. 1.00% de tweets\n",
            "Autor 2634: 1 tweets vacíos. 1.00% de tweets\n",
            "Autor 2640: 26 tweets vacíos. 26.00% de tweets\n",
            "Autor 2641: 3 tweets vacíos. 3.00% de tweets\n",
            "Autor 2649: 2 tweets vacíos. 2.00% de tweets\n",
            "Autor 2651: 1 tweets vacíos. 1.00% de tweets\n",
            "Autor 2655: 1 tweets vacíos. 1.00% de tweets\n",
            "Autor 2659: 1 tweets vacíos. 1.00% de tweets\n",
            "Autor 2665: 9 tweets vacíos. 9.00% de tweets\n",
            "Autor 2674: 1 tweets vacíos. 1.00% de tweets\n",
            "Autor 2694: 5 tweets vacíos. 5.00% de tweets\n",
            "Autor 2699: 27 tweets vacíos. 27.00% de tweets\n",
            "Autor 2706: 2 tweets vacíos. 2.00% de tweets\n",
            "Autor 2711: 2 tweets vacíos. 2.00% de tweets\n",
            "Autor 2712: 1 tweets vacíos. 1.00% de tweets\n",
            "Autor 2718: 2 tweets vacíos. 2.00% de tweets\n",
            "Autor 2722: 15 tweets vacíos. 15.00% de tweets\n",
            "Autor 2730: 1 tweets vacíos. 1.00% de tweets\n",
            "Autor 2735: 3 tweets vacíos. 3.00% de tweets\n",
            "Autor 2737: 1 tweets vacíos. 1.00% de tweets\n",
            "Autor 2738: 2 tweets vacíos. 2.00% de tweets\n",
            "Autor 2755: 1 tweets vacíos. 1.00% de tweets\n",
            "Autor 2756: 1 tweets vacíos. 1.00% de tweets\n",
            "Autor 2757: 1 tweets vacíos. 1.00% de tweets\n",
            "Autor 2760: 3 tweets vacíos. 3.00% de tweets\n",
            "Autor 2761: 1 tweets vacíos. 1.00% de tweets\n",
            "Autor 2762: 1 tweets vacíos. 1.00% de tweets\n",
            "Autor 2763: 2 tweets vacíos. 2.00% de tweets\n",
            "Autor 2764: 1 tweets vacíos. 1.00% de tweets\n",
            "Autor 2772: 1 tweets vacíos. 1.00% de tweets\n",
            "Autor 2774: 1 tweets vacíos. 1.00% de tweets\n",
            "Autor 2775: 2 tweets vacíos. 2.00% de tweets\n",
            "Autor 2780: 1 tweets vacíos. 1.00% de tweets\n",
            "Autor 2783: 1 tweets vacíos. 1.00% de tweets\n",
            "Autor 2786: 1 tweets vacíos. 1.00% de tweets\n",
            "Autor 2789: 1 tweets vacíos. 1.00% de tweets\n",
            "Autor 2792: 12 tweets vacíos. 12.00% de tweets\n",
            "Autor 2801: 1 tweets vacíos. 1.00% de tweets\n",
            "Autor 2809: 18 tweets vacíos. 18.00% de tweets\n",
            "Autor 2810: 3 tweets vacíos. 3.00% de tweets\n",
            "Autor 2814: 1 tweets vacíos. 1.00% de tweets\n",
            "Autor 2815: 1 tweets vacíos. 1.00% de tweets\n",
            "Autor 2820: 1 tweets vacíos. 1.00% de tweets\n",
            "Autor 2822: 6 tweets vacíos. 6.00% de tweets\n",
            "Autor 2826: 1 tweets vacíos. 1.00% de tweets\n",
            "Autor 2829: 9 tweets vacíos. 9.00% de tweets\n",
            "Autor 2832: 1 tweets vacíos. 1.00% de tweets\n",
            "Autor 2839: 2 tweets vacíos. 2.00% de tweets\n",
            "Autor 2842: 1 tweets vacíos. 1.00% de tweets\n",
            "Autor 2843: 2 tweets vacíos. 2.00% de tweets\n",
            "Autor 2848: 6 tweets vacíos. 6.00% de tweets\n",
            "Autor 2852: 1 tweets vacíos. 1.00% de tweets\n",
            "Autor 2868: 1 tweets vacíos. 1.00% de tweets\n",
            "Autor 2870: 1 tweets vacíos. 1.00% de tweets\n",
            "Autor 2874: 5 tweets vacíos. 5.00% de tweets\n",
            "Autor 2881: 1 tweets vacíos. 1.00% de tweets\n",
            "Autor 2888: 4 tweets vacíos. 4.00% de tweets\n",
            "Autor 2891: 1 tweets vacíos. 1.00% de tweets\n",
            "Autor 2893: 3 tweets vacíos. 3.00% de tweets\n",
            "Autor 2894: 1 tweets vacíos. 1.00% de tweets\n",
            "Autor 2895: 1 tweets vacíos. 1.00% de tweets\n",
            "Autor 2909: 1 tweets vacíos. 1.00% de tweets\n",
            "Autor 2911: 2 tweets vacíos. 2.00% de tweets\n",
            "Autor 2912: 1 tweets vacíos. 1.00% de tweets\n",
            "Autor 2915: 1 tweets vacíos. 1.00% de tweets\n",
            "Autor 2917: 1 tweets vacíos. 1.00% de tweets\n",
            "Autor 2921: 21 tweets vacíos. 21.00% de tweets\n",
            "Autor 2923: 3 tweets vacíos. 3.00% de tweets\n",
            "Autor 2926: 1 tweets vacíos. 1.00% de tweets\n",
            "Autor 2930: 1 tweets vacíos. 1.00% de tweets\n",
            "Autor 2938: 4 tweets vacíos. 4.00% de tweets\n",
            "Autor 2939: 1 tweets vacíos. 1.00% de tweets\n",
            "Autor 2942: 7 tweets vacíos. 7.00% de tweets\n",
            "Autor 2944: 1 tweets vacíos. 1.00% de tweets\n",
            "Autor 2945: 1 tweets vacíos. 1.00% de tweets\n",
            "Autor 2953: 3 tweets vacíos. 3.00% de tweets\n",
            "Autor 2960: 2 tweets vacíos. 2.00% de tweets\n",
            "Autor 2962: 2 tweets vacíos. 2.00% de tweets\n",
            "Autor 2963: 1 tweets vacíos. 1.00% de tweets\n",
            "Autor 2968: 2 tweets vacíos. 2.00% de tweets\n",
            "Autor 2975: 2 tweets vacíos. 2.00% de tweets\n",
            "Autor 2977: 3 tweets vacíos. 3.00% de tweets\n",
            "Autor 2978: 2 tweets vacíos. 2.00% de tweets\n",
            "Autor 2979: 1 tweets vacíos. 1.00% de tweets\n",
            "Autor 2987: 2 tweets vacíos. 2.00% de tweets\n",
            "Autor 2992: 1 tweets vacíos. 1.00% de tweets\n",
            "Autor 2998: 11 tweets vacíos. 11.00% de tweets\n",
            "Autor 3000: 1 tweets vacíos. 1.00% de tweets\n",
            "Autor 3001: 1 tweets vacíos. 1.00% de tweets\n",
            "Autor 3008: 4 tweets vacíos. 4.00% de tweets\n",
            "Autor 3016: 1 tweets vacíos. 1.00% de tweets\n",
            "Autor 3019: 22 tweets vacíos. 22.00% de tweets\n",
            "Autor 3024: 1 tweets vacíos. 1.00% de tweets\n",
            "Autor 3033: 3 tweets vacíos. 3.00% de tweets\n",
            "Autor 3034: 1 tweets vacíos. 1.00% de tweets\n",
            "Autor 3036: 3 tweets vacíos. 3.00% de tweets\n",
            "Autor 3038: 1 tweets vacíos. 1.00% de tweets\n",
            "Autor 3039: 4 tweets vacíos. 4.00% de tweets\n",
            "Autor 3041: 1 tweets vacíos. 1.00% de tweets\n",
            "Autor 3042: 2 tweets vacíos. 2.00% de tweets\n",
            "Autor 3043: 1 tweets vacíos. 1.00% de tweets\n",
            "Autor 3051: 1 tweets vacíos. 1.00% de tweets\n",
            "Autor 3054: 1 tweets vacíos. 1.00% de tweets\n",
            "Autor 3058: 3 tweets vacíos. 3.00% de tweets\n",
            "Autor 3061: 1 tweets vacíos. 1.00% de tweets\n",
            "Autor 3063: 3 tweets vacíos. 3.00% de tweets\n",
            "Autor 3065: 1 tweets vacíos. 1.00% de tweets\n",
            "Autor 3084: 1 tweets vacíos. 1.00% de tweets\n",
            "Autor 3088: 1 tweets vacíos. 1.00% de tweets\n",
            "Autor 3089: 8 tweets vacíos. 8.00% de tweets\n",
            "Autor 3096: 3 tweets vacíos. 3.00% de tweets\n",
            "Autor 3100: 6 tweets vacíos. 6.00% de tweets\n",
            "Autor 3104: 2 tweets vacíos. 2.00% de tweets\n",
            "Autor 3107: 1 tweets vacíos. 1.00% de tweets\n",
            "Autor 3109: 1 tweets vacíos. 1.00% de tweets\n",
            "Autor 3113: 1 tweets vacíos. 1.00% de tweets\n",
            "Autor 3119: 2 tweets vacíos. 2.00% de tweets\n",
            "Autor 3130: 1 tweets vacíos. 1.00% de tweets\n",
            "Autor 3137: 1 tweets vacíos. 1.00% de tweets\n",
            "Autor 3139: 1 tweets vacíos. 1.00% de tweets\n",
            "Autor 3144: 1 tweets vacíos. 1.00% de tweets\n",
            "Autor 3148: 3 tweets vacíos. 3.00% de tweets\n",
            "Autor 3150: 2 tweets vacíos. 2.00% de tweets\n",
            "Autor 3155: 1 tweets vacíos. 1.00% de tweets\n",
            "Autor 3156: 3 tweets vacíos. 3.00% de tweets\n",
            "Autor 3168: 10 tweets vacíos. 10.00% de tweets\n",
            "Autor 3171: 1 tweets vacíos. 1.00% de tweets\n",
            "Autor 3177: 51 tweets vacíos. 51.00% de tweets\n",
            "Autor 3180: 1 tweets vacíos. 1.00% de tweets\n",
            "Autor 3182: 1 tweets vacíos. 1.00% de tweets\n",
            "Autor 3186: 1 tweets vacíos. 1.00% de tweets\n",
            "Autor 3191: 2 tweets vacíos. 2.00% de tweets\n",
            "Autor 3192: 3 tweets vacíos. 3.00% de tweets\n",
            "Autor 3196: 1 tweets vacíos. 1.00% de tweets\n",
            "Autor 3202: 3 tweets vacíos. 3.00% de tweets\n",
            "Autor 3210: 7 tweets vacíos. 7.00% de tweets\n",
            "Autor 3213: 1 tweets vacíos. 1.00% de tweets\n",
            "Autor 3215: 6 tweets vacíos. 6.00% de tweets\n",
            "Autor 3217: 12 tweets vacíos. 12.00% de tweets\n",
            "Autor 3220: 1 tweets vacíos. 1.00% de tweets\n",
            "Autor 3221: 1 tweets vacíos. 1.00% de tweets\n",
            "Autor 3223: 3 tweets vacíos. 3.00% de tweets\n",
            "Autor 3233: 1 tweets vacíos. 1.00% de tweets\n",
            "Autor 3236: 1 tweets vacíos. 1.00% de tweets\n",
            "Autor 3244: 1 tweets vacíos. 1.00% de tweets\n",
            "Autor 3248: 1 tweets vacíos. 1.00% de tweets\n",
            "Autor 3249: 1 tweets vacíos. 1.00% de tweets\n",
            "Autor 3251: 1 tweets vacíos. 1.00% de tweets\n",
            "Autor 3257: 1 tweets vacíos. 1.00% de tweets\n",
            "Autor 3262: 2 tweets vacíos. 2.00% de tweets\n",
            "Autor 3265: 1 tweets vacíos. 1.00% de tweets\n",
            "Autor 3270: 3 tweets vacíos. 3.00% de tweets\n",
            "Autor 3271: 1 tweets vacíos. 1.00% de tweets\n",
            "Autor 3287: 2 tweets vacíos. 2.00% de tweets\n",
            "Autor 3291: 9 tweets vacíos. 9.00% de tweets\n",
            "Autor 3296: 4 tweets vacíos. 4.00% de tweets\n",
            "Autor 3301: 1 tweets vacíos. 1.00% de tweets\n",
            "Autor 3303: 2 tweets vacíos. 2.00% de tweets\n",
            "Autor 3304: 1 tweets vacíos. 1.00% de tweets\n",
            "Autor 3312: 3 tweets vacíos. 3.00% de tweets\n",
            "Autor 3318: 1 tweets vacíos. 1.00% de tweets\n",
            "Autor 3319: 2 tweets vacíos. 2.00% de tweets\n",
            "Autor 3328: 3 tweets vacíos. 3.00% de tweets\n",
            "Autor 3329: 5 tweets vacíos. 5.00% de tweets\n",
            "Autor 3335: 1 tweets vacíos. 1.00% de tweets\n",
            "Autor 3339: 1 tweets vacíos. 1.00% de tweets\n",
            "Autor 3341: 2 tweets vacíos. 2.00% de tweets\n",
            "Autor 3343: 4 tweets vacíos. 4.00% de tweets\n",
            "Autor 3344: 12 tweets vacíos. 12.00% de tweets\n",
            "Autor 3347: 1 tweets vacíos. 1.00% de tweets\n",
            "Autor 3348: 5 tweets vacíos. 5.00% de tweets\n",
            "Autor 3356: 1 tweets vacíos. 1.00% de tweets\n",
            "Autor 3357: 1 tweets vacíos. 1.00% de tweets\n"
          ]
        }
      ],
      "source": [
        "X_train_raw = [\n",
        "    [tokenized_tweet_with_ids(tweet, word2id) for tweet in train_corpus_tk[author]]\n",
        "    for author in df_train[\"author\"]\n",
        "]\n",
        "X_val_raw = [\n",
        "    [tokenized_tweet_with_ids(tweet, word2id) for tweet in val_corpus_tk[author]]\n",
        "    for author in df_val[\"author\"]\n",
        "]\n",
        "\n",
        "for i in range(len(X_train_raw)):\n",
        "    tweets_empty = 0\n",
        "    for tweet in X_train_raw[i]:\n",
        "        if len(tweet) == 0:\n",
        "            tweets_empty += 1\n",
        "    if tweets_empty > 0:\n",
        "        print(f\"Autor {i}: {tweets_empty} tweets vacíos. {tweets_empty/len(X_train_raw[i])*100:.2f}% de tweets\")"
      ]
    },
    {
      "cell_type": "markdown",
      "metadata": {
        "id": "NeP1x2zzIZV-"
      },
      "source": [
        "Con los logs anteriores podemos ver que todos los autores tienen mínimo 10 tweets. Quitamos los tweets vacíos:"
      ]
    },
    {
      "cell_type": "code",
      "execution_count": 23,
      "metadata": {
        "id": "JnacePOE5SgS"
      },
      "outputs": [],
      "source": [
        "X_train_raw = [[tweet for tweet in author_tweets if len(tweet) > 0] for author_tweets in X_train_raw]\n",
        "X_val_raw = [[tweet for tweet in author_tweets if len(tweet) > 0] for author_tweets in X_val_raw]"
      ]
    },
    {
      "cell_type": "markdown",
      "metadata": {
        "id": "CUMfDI8Pm7gm"
      },
      "source": [
        "Los tamaños de las listas de tweets y la longitud de los tweets varía. Entonces creamos un tensor de tamaño ``(num_authors, max_num_tweets, max_tweet_len)``, donde ``num_authors`` es el número de autores, ``max_num_tweets`` es el número máximo de tweets entre los autores, y ``max_tweet_len`` es la longitud máxima entre los tweets. Para lograrlo, rellenamos con 0's, donde 0 va a ser un token de \"padding\"."
      ]
    },
    {
      "cell_type": "code",
      "execution_count": 24,
      "metadata": {
        "colab": {
          "base_uri": "https://localhost:8080/"
        },
        "id": "7RL7EQAhzW8V",
        "outputId": "159f49d0-9060-409f-d935-4ae06e3e85db"
      },
      "outputs": [
        {
          "name": "stdout",
          "output_type": "stream",
          "text": [
            "Máximo número de tweets por autor: 100\n",
            "Máxima longitud de un tweet: 36\n"
          ]
        }
      ],
      "source": [
        "max_num_tweets = max(len(author_tweets) for author_tweets in X_train_raw)\n",
        "max_tweet_len  = max(len(tweet) for author_tweets in X_train_raw for tweet in author_tweets)\n",
        "\n",
        "print(\"Máximo número de tweets por autor:\", max_num_tweets)\n",
        "print(\"Máxima longitud de un tweet:\", max_tweet_len)"
      ]
    },
    {
      "cell_type": "code",
      "execution_count": 25,
      "metadata": {
        "colab": {
          "base_uri": "https://localhost:8080/"
        },
        "id": "CJdXAni4zhhw",
        "outputId": "b0e030bf-43fd-4b45-9051-97acdc14d749"
      },
      "outputs": [
        {
          "name": "stdout",
          "output_type": "stream",
          "text": [
            "Máximo número de tweets por autor: 100\n",
            "Máxima longitud de un tweet: 33\n"
          ]
        }
      ],
      "source": [
        "max_num_tweets_val = max(len(author_tweets) for author_tweets in X_val_raw)\n",
        "max_tweet_len_val  = max(len(tweet) for author_tweets in X_val_raw for tweet in author_tweets)\n",
        "\n",
        "print(\"Máximo número de tweets por autor:\", max_num_tweets_val)\n",
        "print(\"Máxima longitud de un tweet:\", max_tweet_len_val)"
      ]
    },
    {
      "cell_type": "code",
      "execution_count": 26,
      "metadata": {
        "id": "Tnky-OKsQMpm"
      },
      "outputs": [],
      "source": [
        "pad_token = 0"
      ]
    },
    {
      "cell_type": "code",
      "execution_count": 27,
      "metadata": {
        "id": "Aaw1GRsonPKt"
      },
      "outputs": [],
      "source": [
        "X_train = torch.full((len(X_train_raw), max_num_tweets, max_tweet_len), fill_value=pad_token, dtype=torch.int64)\n",
        "X_val = torch.full((len(X_val_raw), max_num_tweets, max_tweet_len), fill_value=pad_token, dtype=torch.int64)\n",
        "\n",
        "for i in range(len(X_train)):\n",
        "    num_tweets = len(X_train_raw[i])\n",
        "    for j in range(num_tweets):\n",
        "        X_train[i, j, :len(X_train_raw[i][j])] = torch.tensor(X_train_raw[i][j], dtype=torch.int64)\n",
        "\n",
        "for i in range(len(X_val)):\n",
        "    num_tweets = len(X_val_raw[i])\n",
        "    for j in range(num_tweets):\n",
        "        X_val[i, j, :len(X_val_raw[i][j])] = torch.tensor(X_val_raw[i][j], dtype=torch.int64)"
      ]
    },
    {
      "cell_type": "markdown",
      "metadata": {
        "id": "rJMVJld0Jv1h"
      },
      "source": [
        "Ejemplos:"
      ]
    },
    {
      "cell_type": "code",
      "execution_count": 28,
      "metadata": {
        "colab": {
          "base_uri": "https://localhost:8080/"
        },
        "id": "OIAOEV6AoTGp",
        "outputId": "e4b0bd31-bc9f-4e9e-8891-385ba9c1ff33"
      },
      "outputs": [
        {
          "data": {
            "text/plain": [
              "torch.Size([3360, 100, 36])"
            ]
          },
          "execution_count": 28,
          "metadata": {},
          "output_type": "execute_result"
        }
      ],
      "source": [
        "X_train.shape"
      ]
    },
    {
      "cell_type": "code",
      "execution_count": 29,
      "metadata": {
        "colab": {
          "base_uri": "https://localhost:8080/"
        },
        "id": "WfcO59mt1jIE",
        "outputId": "8c76b6d8-f598-409a-f4ef-b02a05e477a6"
      },
      "outputs": [
        {
          "data": {
            "text/plain": [
              "tensor([ 65081,  47197,  51919, 115363,  53692,  87137, 109385,  24507,   4906,\n",
              "         57660,      0,      0,      0,      0,      0,      0,      0,      0,\n",
              "             0,      0,      0,      0,      0,      0,      0,      0,      0,\n",
              "             0,      0,      0,      0,      0,      0,      0,      0,      0])"
            ]
          },
          "execution_count": 29,
          "metadata": {},
          "output_type": "execute_result"
        }
      ],
      "source": [
        "X_train[0][0]"
      ]
    },
    {
      "cell_type": "code",
      "execution_count": 30,
      "metadata": {
        "colab": {
          "base_uri": "https://localhost:8080/"
        },
        "id": "Dl2URx5m1nop",
        "outputId": "f9142524-4c4f-470a-b464-1784325f1abb"
      },
      "outputs": [
        {
          "data": {
            "text/plain": [
              "[65081, 47197, 51919, 115363, 53692, 87137, 109385, 24507, 4906, 57660]"
            ]
          },
          "execution_count": 30,
          "metadata": {},
          "output_type": "execute_result"
        }
      ],
      "source": [
        "X_train_raw[0][0]"
      ]
    },
    {
      "cell_type": "markdown",
      "metadata": {
        "id": "bUZpwM_7mZwK"
      },
      "source": [
        "Procesamos las etiquetas/clases:"
      ]
    },
    {
      "cell_type": "code",
      "execution_count": 31,
      "metadata": {
        "colab": {
          "base_uri": "https://localhost:8080/"
        },
        "id": "5DqjQgMKmaYA",
        "outputId": "8ba8469f-2f09-4477-e143-0cf3c57b5efc"
      },
      "outputs": [
        {
          "data": {
            "text/plain": [
              "array(['colombia', 'mexico', 'argentina', 'spain', 'venezuela', 'peru',\n",
              "       'chile'], dtype=object)"
            ]
          },
          "execution_count": 31,
          "metadata": {},
          "output_type": "execute_result"
        }
      ],
      "source": [
        "classes = df_train[\"nationality\"].unique()\n",
        "classes"
      ]
    },
    {
      "cell_type": "code",
      "execution_count": 32,
      "metadata": {
        "id": "OPhxbR03dEnp"
      },
      "outputs": [],
      "source": [
        "labels_map = { nation: i for i, nation in enumerate(classes) }\n",
        "labels_map_inv = {i: nation for nation, i in labels_map.items()}\n",
        "\n",
        "y_train = torch.tensor([labels_map[nation] for nation in df_train[\"nationality\"]], dtype=torch.int64)\n",
        "y_val = torch.tensor([labels_map[nation] for nation in df_val[\"nationality\"]], dtype=torch.int64)"
      ]
    },
    {
      "cell_type": "markdown",
      "metadata": {
        "id": "aszrvauChtYl"
      },
      "source": [
        "# 2) Clasificador basado en RNN + atención jerárquica"
      ]
    },
    {
      "cell_type": "markdown",
      "metadata": {
        "id": "BXRFLJ0vwFId"
      },
      "source": [
        "El modelo es igual al del artículo de atención jerárquica:\n",
        "\n",
        "1. Para cada tweet, las palabras pasan por la capa de embedding y se ingresan a una GRU bidireccional. Cada palabra pasa a ser representada por la concatenación de los estados escondidos de la GRU en cada dirección, los estados que se obtienen al procesar esa palabra.\n",
        "2. Un \"vector de contexto\" a nivel palabra, con parámtros aprendibles, permite saber la importancia de cada palabra para cada tweet mediante el producto punto con el vector de contexto y mediante softmax. Cada tweet se representa por la suma pesada de las palabras.\n",
        "3. Dado que cada tweet tiene su representación vectorial obtenida en el punto anterior, se realiza lo mismo que en el punto 1 y 2: los tweets pasan por una GRU bidireccional y cada tweet se representa por la concatenación de los estados escondidos correspondientes, y mediante un vector de contexto a nivel de tweet se le asigna la importancia a cada tweet para discriminar al autor. Teniendo así una representación vectorial para el autor, como la suma pesada de los tweets, el cual es usado para la clasificación final con una capa densa.\n",
        "\n",
        "Para no tomar en cuenta los tokens de padding, estos tokens se identifican mediante una máscara, la cual permite asignar valores de $-\\infty$ a las entradas de la matriz de productos punto con un vector de contexto. De tal manera que al aplicar softmax, estas entradas se vuelven 0."
      ]
    },
    {
      "cell_type": "code",
      "execution_count": 33,
      "metadata": {
        "id": "1uBPNARowF_c"
      },
      "outputs": [],
      "source": [
        "class Attention(nn.Module):\n",
        "    def __init__(self, hidden_size: int):\n",
        "        super().__init__()\n",
        "        self.hidden_size = hidden_size\n",
        "\n",
        "        self.W = nn.Linear(hidden_size, hidden_size, bias=True)\n",
        "        self.u = nn.Parameter(torch.randn(hidden_size))  # context vector\n",
        "\n",
        "    def forward(self, H: torch.Tensor, mask=None):\n",
        "        u_it = torch.tanh(self.W(H))  # (batch, position, hidden_size)\n",
        "        scores = torch.matmul(u_it, self.u)  # (batch, position)\n",
        "\n",
        "        if mask is not None:\n",
        "            scores = scores.masked_fill(mask == 0, float(\"-inf\"))\n",
        "\n",
        "        attn_weights = F.softmax(scores, dim=1)  # (batch, position)\n",
        "        weighted = torch.sum(\n",
        "            H * attn_weights.unsqueeze(-1), dim=1\n",
        "        )  # (batch, hidden_size)\n",
        "        return weighted, attn_weights\n",
        "\n",
        "\n",
        "class HierarchicalAttentionNetwork(nn.Module):\n",
        "    def __init__(\n",
        "        self,\n",
        "        embed_dim: int,\n",
        "        word_gru_hidden: int,\n",
        "        sent_gru_hidden: int,\n",
        "        num_classes: int,\n",
        "        pretrained_embeddings: np.ndarray,\n",
        "        pad_idx: int,\n",
        "    ):\n",
        "        super().__init__()\n",
        "        self.embedding = nn.Embedding.from_pretrained(\n",
        "            torch.tensor(pretrained_embeddings, dtype=torch.float),\n",
        "            freeze=False,\n",
        "            padding_idx=pad_idx,\n",
        "        )\n",
        "\n",
        "        self.word_gru = nn.GRU(\n",
        "            embed_dim, word_gru_hidden, bidirectional=True, batch_first=True\n",
        "        )\n",
        "        self.word_attention = Attention(word_gru_hidden * 2)\n",
        "\n",
        "        self.sent_gru = nn.GRU(\n",
        "            word_gru_hidden * 2, sent_gru_hidden, bidirectional=True, batch_first=True\n",
        "        )\n",
        "        self.sent_attention = Attention(sent_gru_hidden * 2)\n",
        "\n",
        "        self.classifier = nn.Linear(sent_gru_hidden * 2, num_classes)\n",
        "\n",
        "    def forward(self, x: torch.Tensor):\n",
        "        # x: (batch_size, max_num_tweets, max_tweet_len)\n",
        "        B, T, W = x.size()\n",
        "        x_flat = x.view(B * T, W)  # size (B*T, W)\n",
        "        mask_word = x_flat != self.embedding.padding_idx\n",
        "\n",
        "        x_emb = self.embedding(x_flat)  # size (B*T, W, E)\n",
        "        word_outputs, _ = self.word_gru(x_emb)  # size (B*T, W, 2H)\n",
        "        s_i, word_attn = self.word_attention(\n",
        "            word_outputs, mask_word\n",
        "        )  # size (B*T, 2H)\n",
        "\n",
        "        s_i = s_i.view(B, T, -1)  # size (B, T, 2H)\n",
        "        mask_sent = x.sum(dim=2) != 0  # (B, T): check \"empty tweets\"\n",
        "\n",
        "        sent_outputs, _ = self.sent_gru(s_i)  # size (B, T, 2H)\n",
        "        v, sent_attn = self.sent_attention(\n",
        "            sent_outputs, mask_sent\n",
        "        )  # size (B, 2H)\n",
        "\n",
        "        # saving attention matrices for analysis\n",
        "        self.attention_cache = {\"word_attn\": word_attn, \"tweet_attn\": sent_attn}\n",
        "\n",
        "        return self.classifier(v)"
      ]
    },
    {
      "cell_type": "markdown",
      "metadata": {
        "id": "g10kZygkGQgz"
      },
      "source": [
        "Reutilizamos funciones que programó el profesor y que también utilizamos en la tarea pasada"
      ]
    },
    {
      "cell_type": "code",
      "execution_count": 34,
      "metadata": {
        "id": "R4V7765Frb8p"
      },
      "outputs": [],
      "source": [
        "def get_preds(raw_logits: torch.FloatTensor) -> np.ndarray:\n",
        "    probs = nn.functional.softmax(raw_logits.detach(), dim=1)\n",
        "    y_pred = torch.argmax(probs, dim=1).cpu().numpy()\n",
        "\n",
        "    return y_pred\n",
        "\n",
        "def model_eval(data: DataLoader, model: HierarchicalAttentionNetwork, use_gpu: bool) -> float:\n",
        "    with torch.no_grad():\n",
        "        preds, tgts = [], []\n",
        "        for X_batch, y_batch in data:\n",
        "            if use_gpu:\n",
        "                X_batch = X_batch.cuda()\n",
        "\n",
        "            outputs = model(X_batch)\n",
        "\n",
        "            # Get prediction\n",
        "            y_pred = get_preds(outputs)\n",
        "\n",
        "            tgt = y_batch.numpy()\n",
        "            tgts.append(tgt)\n",
        "            preds.append(y_pred)\n",
        "\n",
        "    tgts = [e for l in tgts for e in l]\n",
        "    preds = [e for l in preds for e in l]\n",
        "\n",
        "    return accuracy_score(tgts, preds)\n",
        "\n",
        "def save_checkpoint(state: dict, is_best: bool, checkpoint_path: Path):\n",
        "    filename = checkpoint_path / \"checkpoint.pt\"\n",
        "    torch.save(state, filename)\n",
        "\n",
        "    if is_best:\n",
        "        shutil.copyfile(filename, checkpoint_path / \"model_best.pt\")"
      ]
    },
    {
      "cell_type": "markdown",
      "metadata": {
        "id": "yGJfk8u7x2je"
      },
      "source": [
        "Definimos objetos ``TensorDataset`` y ``DataLoader``"
      ]
    },
    {
      "cell_type": "code",
      "execution_count": 35,
      "metadata": {
        "id": "H-fgH-9T2IOf"
      },
      "outputs": [],
      "source": [
        "# Dataloader hyperparameters\n",
        "batch_size = 64\n",
        "num_workers = 2\n",
        "\n",
        "# training\n",
        "train_dataset = TensorDataset(\n",
        "    X_train, y_train\n",
        ")\n",
        "\n",
        "train_loader = DataLoader(\n",
        "    train_dataset, batch_size=batch_size, num_workers=num_workers, shuffle=True\n",
        ")\n",
        "\n",
        "# validation\n",
        "val_dataset = TensorDataset(\n",
        "    X_val, y_val\n",
        ")\n",
        "\n",
        "val_loader = DataLoader(\n",
        "    val_dataset, batch_size=batch_size, num_workers=num_workers, shuffle=False\n",
        ")"
      ]
    },
    {
      "cell_type": "markdown",
      "metadata": {
        "id": "p-g3363cfkLG"
      },
      "source": [
        "Hiperparámetros del modelo"
      ]
    },
    {
      "cell_type": "code",
      "execution_count": 36,
      "metadata": {
        "id": "gqvRnY08adJD"
      },
      "outputs": [],
      "source": [
        "# Model hyperparameters\n",
        "embedding_dim = 100  # Dimension of word embedding\n",
        "gru_hidden = 64\n",
        "num_classes = len(labels_map)\n",
        "pad_idx = -1\n",
        "\n",
        "# Training hyperparameters\n",
        "lr = 1e-3\n",
        "num_epochs = 30\n",
        "patience = 10\n",
        "\n",
        "# Scheduler hyperparameters\n",
        "lr_patience = 5\n",
        "lr_factor = 0.7"
      ]
    },
    {
      "cell_type": "code",
      "execution_count": 37,
      "metadata": {
        "id": "QT8NyiRZKMRq"
      },
      "outputs": [],
      "source": [
        "# If GPU available\n",
        "use_gpu = torch.cuda.is_available()"
      ]
    },
    {
      "cell_type": "markdown",
      "metadata": {
        "id": "LmgqIOpqoIpo"
      },
      "source": [
        "Entrenamiento del modelo (código adaptado de la tarea anterior y del profesor)"
      ]
    },
    {
      "cell_type": "code",
      "execution_count": 55,
      "metadata": {
        "id": "II6JE92J96M5"
      },
      "outputs": [],
      "source": [
        "model = HierarchicalAttentionNetwork(\n",
        "    embed_dim=embedding_dim,\n",
        "    word_gru_hidden=gru_hidden,\n",
        "    sent_gru_hidden=gru_hidden,\n",
        "    num_classes=len(labels_map),\n",
        "    pretrained_embeddings=embeddings_w,\n",
        "    pad_idx=pad_idx\n",
        ")\n",
        "\n",
        "if use_gpu:\n",
        "    model.cuda()"
      ]
    },
    {
      "cell_type": "code",
      "execution_count": 56,
      "metadata": {
        "id": "xHGnkDwbp39A"
      },
      "outputs": [],
      "source": [
        "# Loss, Optimizer and Scheduler\n",
        "criterion = nn.CrossEntropyLoss()\n",
        "optimizer = torch.optim.Adam(model.parameters(), lr = lr)\n",
        "scheduler = torch.optim.lr_scheduler.ReduceLROnPlateau(\n",
        "                optimizer, \"min\",\n",
        "                patience = lr_patience,\n",
        "                factor = lr_factor\n",
        "            )"
      ]
    },
    {
      "cell_type": "code",
      "execution_count": 57,
      "metadata": {
        "colab": {
          "base_uri": "https://localhost:8080/"
        },
        "id": "X68oJHIlpB-j",
        "outputId": "02ef26a0-0684-4bb8-9bd3-27814d08f842"
      },
      "outputs": [
        {
          "name": "stdout",
          "output_type": "stream",
          "text": [
            "Train acc: 0.2918632075471698\n",
            "Epoch [1/30], Loss: 1.8293 - Val accuracy: 0.5726 - Epoch time: 4.46s\n",
            "---4.458023548126221 seconds ---\n",
            "Train acc: 0.6423938679245284\n",
            "Epoch [2/30], Loss: 1.2006 - Val accuracy: 0.6798 - Epoch time: 4.56s\n",
            "---9.019964218139648 seconds ---\n",
            "Train acc: 0.7308372641509434\n",
            "Epoch [3/30], Loss: 0.9122 - Val accuracy: 0.7095 - Epoch time: 4.52s\n",
            "---13.53921890258789 seconds ---\n",
            "Train acc: 0.7762382075471698\n",
            "Epoch [4/30], Loss: 0.7691 - Val accuracy: 0.7476 - Epoch time: 4.49s\n",
            "---18.033942937850952 seconds ---\n",
            "Train acc: 0.8130896226415094\n",
            "Epoch [5/30], Loss: 0.6404 - Val accuracy: 0.7667 - Epoch time: 4.53s\n",
            "---22.568439483642578 seconds ---\n",
            "Train acc: 0.8340212264150944\n",
            "Epoch [6/30], Loss: 0.5597 - Val accuracy: 0.7952 - Epoch time: 4.47s\n",
            "---27.034196138381958 seconds ---\n",
            "Train acc: 0.859375\n",
            "Epoch [7/30], Loss: 0.4827 - Val accuracy: 0.7845 - Epoch time: 3.91s\n",
            "---30.94699263572693 seconds ---\n",
            "Train acc: 0.8873820754716981\n",
            "Epoch [8/30], Loss: 0.3964 - Val accuracy: 0.7988 - Epoch time: 4.96s\n",
            "---35.90357971191406 seconds ---\n",
            "Train acc: 0.9124410377358491\n",
            "Epoch [9/30], Loss: 0.3048 - Val accuracy: 0.8000 - Epoch time: 4.83s\n",
            "---40.72921109199524 seconds ---\n",
            "Train acc: 0.9316037735849056\n",
            "Epoch [10/30], Loss: 0.2469 - Val accuracy: 0.8131 - Epoch time: 4.59s\n",
            "---45.31799101829529 seconds ---\n",
            "Train acc: 0.941627358490566\n",
            "Epoch [11/30], Loss: 0.2073 - Val accuracy: 0.8143 - Epoch time: 4.98s\n",
            "---50.293970346450806 seconds ---\n",
            "Train acc: 0.9540094339622641\n",
            "Epoch [12/30], Loss: 0.1671 - Val accuracy: 0.8119 - Epoch time: 3.91s\n",
            "---54.2045533657074 seconds ---\n",
            "Train acc: 0.9666863207547169\n",
            "Epoch [13/30], Loss: 0.1309 - Val accuracy: 0.8238 - Epoch time: 4.53s\n",
            "---58.730838775634766 seconds ---\n",
            "Train acc: 0.9743514150943396\n",
            "Epoch [14/30], Loss: 0.1039 - Val accuracy: 0.8119 - Epoch time: 3.93s\n",
            "---62.65916562080383 seconds ---\n",
            "Train acc: 0.9846698113207547\n",
            "Epoch [15/30], Loss: 0.0769 - Val accuracy: 0.8286 - Epoch time: 4.44s\n",
            "---67.09896731376648 seconds ---\n",
            "Train acc: 0.9873231132075472\n",
            "Epoch [16/30], Loss: 0.0617 - Val accuracy: 0.8238 - Epoch time: 3.93s\n",
            "---71.02745866775513 seconds ---\n",
            "Train acc: 0.9899764150943396\n",
            "Epoch [17/30], Loss: 0.0536 - Val accuracy: 0.8155 - Epoch time: 3.93s\n",
            "---74.96005153656006 seconds ---\n",
            "Train acc: 0.9926297169811321\n",
            "Epoch [18/30], Loss: 0.0449 - Val accuracy: 0.8107 - Epoch time: 4.12s\n",
            "---79.08200192451477 seconds ---\n",
            "Train acc: 0.9952830188679245\n",
            "Epoch [19/30], Loss: 0.0343 - Val accuracy: 0.8238 - Epoch time: 3.96s\n",
            "---83.04389429092407 seconds ---\n",
            "Train acc: 0.9982311320754716\n",
            "Epoch [20/30], Loss: 0.0253 - Val accuracy: 0.8179 - Epoch time: 3.92s\n",
            "---86.9668219089508 seconds ---\n",
            "Train acc: 0.9985259433962265\n",
            "Epoch [21/30], Loss: 0.0209 - Val accuracy: 0.8143 - Epoch time: 3.93s\n",
            "---90.89833450317383 seconds ---\n",
            "Train acc: 0.9985259433962265\n",
            "Epoch [22/30], Loss: 0.0178 - Val accuracy: 0.8143 - Epoch time: 3.94s\n",
            "---94.83978915214539 seconds ---\n",
            "Train acc: 0.9988207547169812\n",
            "Epoch [23/30], Loss: 0.0155 - Val accuracy: 0.8155 - Epoch time: 3.92s\n",
            "---98.76366758346558 seconds ---\n",
            "Train acc: 0.9985259433962265\n",
            "Epoch [24/30], Loss: 0.0148 - Val accuracy: 0.8167 - Epoch time: 3.98s\n",
            "---102.74090075492859 seconds ---\n",
            "No improvement. Breaking out of loop\n"
          ]
        }
      ],
      "source": [
        "start_time = time.time()\n",
        "best_metric = 0\n",
        "metric_history = []\n",
        "train_metric_history = []\n",
        "\n",
        "for epoch in range(num_epochs):\n",
        "    epoch_start_time = time.time()\n",
        "    loss_epoch = []\n",
        "    training_metric = []\n",
        "    model.train()\n",
        "\n",
        "    for x_batch, y_batch in train_loader:\n",
        "        # If GPU available\n",
        "        if use_gpu:\n",
        "            x_batch = x_batch.cuda()\n",
        "            y_batch = y_batch.cuda()\n",
        "\n",
        "        # Forward pass\n",
        "        logits = model(x_batch)\n",
        "\n",
        "        loss = criterion(logits, y_batch)\n",
        "\n",
        "        loss_epoch.append(loss.item())\n",
        "\n",
        "        # Get training metrics\n",
        "        y_pred = get_preds(logits)\n",
        "        tgt = y_batch.cpu().numpy()\n",
        "        training_metric.append(accuracy_score(tgt, y_pred))\n",
        "\n",
        "        # Backward and optimize\n",
        "        optimizer.zero_grad()\n",
        "        loss.backward()\n",
        "        optimizer.step()\n",
        "\n",
        "\n",
        "    # Get metric in validation dataset\n",
        "    mean_epoch_metric = np.mean(training_metric)\n",
        "    train_metric_history.append(mean_epoch_metric)\n",
        "\n",
        "    # Get metric in validation dataset\n",
        "    model.eval()\n",
        "    tuning_metric = model_eval(val_loader, model, use_gpu)\n",
        "    metric_history.append(mean_epoch_metric)\n",
        "\n",
        "    # Update scheduler\n",
        "    scheduler.step(tuning_metric)\n",
        "\n",
        "    # Check for metric improvement\n",
        "    is_improvement = tuning_metric > best_metric\n",
        "    if is_improvement:\n",
        "        best_metric = tuning_metric\n",
        "        n_no_improve = 0\n",
        "    else:\n",
        "        n_no_improve += 1\n",
        "\n",
        "    # Save best model if metric improved\n",
        "    save_checkpoint(\n",
        "      {\n",
        "        'epoch': epoch + 1,\n",
        "        'state_dict': model.state_dict(),\n",
        "        'optimizer': optimizer.state_dict(),\n",
        "        'scheduler': scheduler.state_dict(),\n",
        "        'best_metric': best_metric,\n",
        "      },\n",
        "      is_improvement,\n",
        "      savedir\n",
        "    )\n",
        "\n",
        "    if n_no_improve >= patience:\n",
        "        print(\"No improvement. Breaking out of loop\")\n",
        "        break\n",
        "\n",
        "    print('Train acc: {}'.format(mean_epoch_metric))\n",
        "    print('Epoch [{}/{}], Loss: {:.4f} - Val accuracy: {:.4f} - Epoch time: {:.2f}s'.format(\n",
        "        epoch + 1,\n",
        "        num_epochs,\n",
        "        np.mean(loss_epoch),\n",
        "        tuning_metric,\n",
        "        time.time() - epoch_start_time\n",
        "    ))\n",
        "\n",
        "    print(\"---%s seconds ---\" % (time.time() - start_time))"
      ]
    },
    {
      "cell_type": "markdown",
      "metadata": {
        "id": "Ssa0qNlziApD"
      },
      "source": [
        "# 3) Rendimiento del modelo"
      ]
    },
    {
      "cell_type": "markdown",
      "metadata": {
        "id": "Ek0eM56QP_Yd"
      },
      "source": [
        "Cargamos el mejor modelo obtenido durante el entrenamiento:"
      ]
    },
    {
      "cell_type": "code",
      "execution_count": 38,
      "metadata": {
        "colab": {
          "base_uri": "https://localhost:8080/"
        },
        "id": "ggW7V6URQCXz",
        "outputId": "92edeaff-6d54-4bcf-e178-1333400517e0"
      },
      "outputs": [
        {
          "data": {
            "text/plain": [
              "HierarchicalAttentionNetwork(\n",
              "  (embedding): Embedding(115842, 100, padding_idx=115841)\n",
              "  (word_gru): GRU(100, 64, batch_first=True, bidirectional=True)\n",
              "  (word_attention): Attention(\n",
              "    (W): Linear(in_features=128, out_features=128, bias=True)\n",
              "  )\n",
              "  (sent_gru): GRU(128, 64, batch_first=True, bidirectional=True)\n",
              "  (sent_attention): Attention(\n",
              "    (W): Linear(in_features=128, out_features=128, bias=True)\n",
              "  )\n",
              "  (classifier): Linear(in_features=128, out_features=7, bias=True)\n",
              ")"
            ]
          },
          "execution_count": 38,
          "metadata": {},
          "output_type": "execute_result"
        }
      ],
      "source": [
        "best_model = HierarchicalAttentionNetwork(\n",
        "    embed_dim=embedding_dim,\n",
        "    word_gru_hidden=gru_hidden,\n",
        "    sent_gru_hidden=gru_hidden,\n",
        "    num_classes=len(labels_map),\n",
        "    pretrained_embeddings=embeddings_w,\n",
        "    pad_idx=pad_idx\n",
        ")\n",
        "if use_gpu:\n",
        "    best_model.cuda()\n",
        "device = torch.device(\"cuda\" if use_gpu else \"cpu\")\n",
        "best_model.load_state_dict(torch.load(savedir / \"model_best.pt\", map_location=device)[\"state_dict\"])\n",
        "best_model.eval()"
      ]
    },
    {
      "cell_type": "markdown",
      "metadata": {
        "id": "4TR3gDbYGzl1"
      },
      "source": [
        "Evaluamos con el conjunto de validación, imprimiendo el reporte de clasificación dado por Scikit-Learn"
      ]
    },
    {
      "cell_type": "code",
      "execution_count": 39,
      "metadata": {
        "colab": {
          "base_uri": "https://localhost:8080/"
        },
        "id": "V8ejggISiHSp",
        "outputId": "cb98db4e-67c6-4a5f-f945-2f8769cae8c5"
      },
      "outputs": [
        {
          "name": "stdout",
          "output_type": "stream",
          "text": [
            "              precision    recall  f1-score   support\n",
            "\n",
            "    colombia       0.84      0.82      0.83       120\n",
            "      mexico       0.84      0.82      0.83       120\n",
            "   argentina       0.84      0.85      0.85       120\n",
            "       spain       0.75      0.87      0.80       120\n",
            "   venezuela       0.85      0.82      0.83       120\n",
            "        peru       0.79      0.76      0.77       120\n",
            "       chile       0.90      0.87      0.88       120\n",
            "\n",
            "    accuracy                           0.83       840\n",
            "   macro avg       0.83      0.83      0.83       840\n",
            "weighted avg       0.83      0.83      0.83       840\n",
            "\n"
          ]
        }
      ],
      "source": [
        "with torch.no_grad():\n",
        "    preds, tgts = [], []\n",
        "    for X_batch, y_batch in val_loader:\n",
        "        if use_gpu:\n",
        "            X_batch = X_batch.cuda()\n",
        "        outputs = best_model(X_batch)\n",
        "        y_pred = get_preds(outputs)\n",
        "        tgt = y_batch.numpy()\n",
        "        tgts.append(tgt)\n",
        "        preds.append(y_pred)\n",
        "    tgts = [e for l in tgts for e in l]\n",
        "    preds = [e for l in preds for e in l]\n",
        "    print(classification_report(tgts, preds, target_names=classes))\n"
      ]
    },
    {
      "cell_type": "markdown",
      "metadata": {
        "id": "1oqeIybBHH4y"
      },
      "source": [
        "Visualizamos mediante un mapa de calor la matriz de confunsión (obtenida también con Scikit-Learn)."
      ]
    },
    {
      "cell_type": "code",
      "execution_count": 40,
      "metadata": {
        "colab": {
          "base_uri": "https://localhost:8080/",
          "height": 718
        },
        "id": "krPr3AS3jgUt",
        "outputId": "d10c9016-81e2-4a7b-edaf-f124a9a8a3b0"
      },
      "outputs": [
        {
          "data": {
            "image/png": "[encoded data removed]",
            "text/plain": [
              "<Figure size 800x800 with 2 Axes>"
            ]
          },
          "metadata": {},
          "output_type": "display_data"
        }
      ],
      "source": [
        "plt.figure(figsize=(8, 8))\n",
        "sns.heatmap(confusion_matrix(tgts, preds), annot=True, fmt='d', xticklabels=classes, yticklabels=classes)\n",
        "plt.xlabel(\"Predicción\")\n",
        "plt.ylabel(\"Etiqueta\")\n",
        "plt.title(\"Matriz de Confusión\")\n",
        "plt.show()"
      ]
    },
    {
      "cell_type": "markdown",
      "metadata": {
        "id": "-n7ndj-3HQuH"
      },
      "source": [
        "Se observa que el modelo es muy bueno prediciendo cada clase, obteniendo un f1-score cerca del 80% en todas las clases, y además un accuracy del 83%."
      ]
    },
    {
      "cell_type": "markdown",
      "metadata": {
        "id": "tlWSDuAeHk_x"
      },
      "source": [
        "A continuación visualizamos con un mapa de calor algunos scores de atención para autores seleccionados del último batch de la predicción anterior. Dado un autor, se muestran los tweets con score de atención (a nivel tweet) mayor a 0.05. Cada tweet se muestra de manera horizontal, y entre paréntesis se muestra el score asociado al tweet (ver eje y). Cada palabra del tweet tiene su score de atención (a nivel palabra), y el score se visualiza mediante el color del mapa de calor."
      ]
    },
    {
      "cell_type": "code",
      "execution_count": 41,
      "metadata": {
        "id": "Q3z7RJZrUh0q"
      },
      "outputs": [],
      "source": [
        "X_batch = X_batch.cpu()\n",
        "y_batch = y_batch.cpu()\n",
        "word_attn = best_model.attention_cache[\"word_attn\"].cpu()\n",
        "tweet_attn = best_model.attention_cache[\"tweet_attn\"].cpu()"
      ]
    },
    {
      "cell_type": "code",
      "execution_count": 42,
      "metadata": {
        "colab": {
          "base_uri": "https://localhost:8080/"
        },
        "id": "cilWIcQNKvs7",
        "outputId": "bc62987d-dd4f-490e-a401-c43e5226ea35"
      },
      "outputs": [
        {
          "data": {
            "text/plain": [
              "(torch.Size([8, 100, 36]), torch.Size([800, 36]), torch.Size([8, 100]))"
            ]
          },
          "execution_count": 42,
          "metadata": {},
          "output_type": "execute_result"
        }
      ],
      "source": [
        "X_batch.shape, word_attn.shape, tweet_attn.shape"
      ]
    },
    {
      "cell_type": "code",
      "execution_count": 43,
      "metadata": {
        "id": "1k1_cKrRrS1B"
      },
      "outputs": [],
      "source": [
        "def visualize_author(author_idx: int):\n",
        "    plt.figure(figsize=(20, 5))\n",
        "    tweets_idx = []\n",
        "    max_tweet_len_batch = 0\n",
        "\n",
        "    for i in range(X_batch.shape[1]):\n",
        "        if tweet_attn[author_idx][i].item() > 0.05:\n",
        "            tweets_idx.append(i)\n",
        "            max_tweet_len_batch = max(\n",
        "                max_tweet_len_batch, len(X_batch[author_idx][i][X_batch[author_idx][i] > 0])\n",
        "            )\n",
        "\n",
        "        if len(tweets_idx) == 8:\n",
        "            break\n",
        "\n",
        "    sns.heatmap(\n",
        "        word_attn[[100 * author_idx + i for i in tweets_idx], :max_tweet_len_batch],\n",
        "        annot=[\n",
        "            [\n",
        "                id2word.get(idx.item(), \"\")\n",
        "                for idx in X_batch[author_idx][i][:max_tweet_len_batch]\n",
        "            ]\n",
        "            for i in tweets_idx\n",
        "        ],\n",
        "        fmt=\"s\",\n",
        "        xticklabels=[f\"Palabra {i}\" for i in range(max_tweet_len_batch)],\n",
        "        yticklabels=[\n",
        "            f\"Tweet {i} ({tweet_attn[author_idx][tweets_idx[i]].item():.4f})\"\n",
        "            for i in range(len(tweets_idx))\n",
        "        ],\n",
        "        annot_kws={\"size\": 7},\n",
        "    )\n",
        "    plt.xlabel(\"Palabra\")\n",
        "    plt.ylabel(\"Tweet\")\n",
        "    plt.title(\n",
        "        f\"Matriz de Atención-Palabra - Etiqueta {labels_map_inv[y_batch[author_idx].item()]}\"\n",
        "    )\n",
        "    plt.show()"
      ]
    },
    {
      "cell_type": "code",
      "execution_count": 44,
      "metadata": {
        "colab": {
          "base_uri": "https://localhost:8080/",
          "height": 488
        },
        "id": "DNKV-XQQTCb5",
        "outputId": "e4b4f98c-3247-4ad6-a197-6f28be2517c7"
      },
      "outputs": [
        {
          "data": {
            "image/png": "[encoded data removed]",
            "text/plain": [
              "<Figure size 2000x500 with 2 Axes>"
            ]
          },
          "metadata": {},
          "output_type": "display_data"
        }
      ],
      "source": [
        "visualize_author(author_idx=0)"
      ]
    },
    {
      "cell_type": "code",
      "execution_count": 45,
      "metadata": {
        "colab": {
          "base_uri": "https://localhost:8080/",
          "height": 488
        },
        "id": "0unVQ7njro4c",
        "outputId": "f5841070-76fa-486c-d3c5-3f54c85bf33e"
      },
      "outputs": [
        {
          "data": {
            "image/png": "[encoded data removed]",
            "text/plain": [
              "<Figure size 2000x500 with 2 Axes>"
            ]
          },
          "metadata": {},
          "output_type": "display_data"
        }
      ],
      "source": [
        "visualize_author(author_idx=4)"
      ]
    },
    {
      "cell_type": "code",
      "execution_count": 46,
      "metadata": {
        "colab": {
          "base_uri": "https://localhost:8080/",
          "height": 488
        },
        "id": "_ivyXYFErri8",
        "outputId": "97013f99-0c1c-41ba-d85c-240408f42d02"
      },
      "outputs": [
        {
          "data": {
            "image/png": "[encoded data removed]",
            "text/plain": [
              "<Figure size 2000x500 with 2 Axes>"
            ]
          },
          "metadata": {},
          "output_type": "display_data"
        }
      ],
      "source": [
        "visualize_author(author_idx=7)"
      ]
    },
    {
      "cell_type": "markdown",
      "metadata": {
        "id": "I0F7SPxzIcuW"
      },
      "source": [
        "En estos 3 ejemplos, vemos cómo los tweets con mayor atención contienen  ciudades del país correspondiente a la etiqueta del autor. Además, estas ciudades tienen un score prácticamente de 1, al igual que los tweets."
      ]
    },
    {
      "cell_type": "markdown",
      "metadata": {
        "id": "BS87fsOLr_2e"
      },
      "source": [
        "# 4) Preguntas"
      ]
    },
    {
      "cell_type": "markdown",
      "metadata": {
        "id": "Lh-TZSjisCzr"
      },
      "source": [
        "### 4.1) ¿Qué representación de términos uso el profesor para participar? (Consulte http://ceur-ws.org/Vol-1866/paper_109.pdf )"
      ]
    },
    {
      "cell_type": "markdown",
      "metadata": {
        "id": "7hHGLCGksG91"
      },
      "source": [
        "Sea $U_i$ el conjunto de documentos del autor (usuario) $i$, al que se le llama un *usuario-documento*. El profesor utilizó una representación vectorial para $U_i$ basada en en la agregación (i.e., la suma) de las representaciones vectoriales de los términos encontrados en $U_i$. Un término $w$ del vocabulario lo representó como un vector $t=(t_1, \\ldots, t_{M})$, donde $M$ es el número de usuarios-documentos en el conjunto de entrenamiento, de tal manera que $t_j$ representa la relevancia del usuario-documento $U_j$ para caracterizar $w$:\n",
        "$$\n",
        "t_j := (1+\\log(\\#(w, U_j)))\\cdot \\log \\frac{M}{N_j},\n",
        "$$\n",
        "donde $\\#(w, U_j)$ es la frecuencia del término $w$ en $U_j$ y $N_j$ es el número de términos diferentes en el usuario-documento $U_j$.\n"
      ]
    },
    {
      "cell_type": "markdown",
      "metadata": {
        "id": "yosvP98SsHHJ"
      },
      "source": [
        "### 4.2) ¿Qué usó el primer lugar de la competencia? (Basile, et al.) (Consulte: http://ceur-ws.org/Vol-1866/ )"
      ]
    },
    {
      "cell_type": "markdown",
      "metadata": {
        "id": "xhFWoM_xsOn7"
      },
      "source": [
        "Utilizó una representación tipo Bolsa de Palabras, en las que las features eran $n$-gramas a nivel palabra con $n=1,2$, y $n$-gramas a nivel caracter con $n=3,4, 5$. El peso de cada feature se calculó con TF-IDF, pero con el término de la frecuencia \"suavizado\" con $1+\\log(tf)$, donde $tf$ es la frecuencia.\n",
        "\n",
        "Estos vectores a nivel de usuario eran clasificados con una máquina de soporte vectorial."
      ]
    },
    {
      "cell_type": "markdown",
      "metadata": {
        "id": "L3jCTb35sPKE"
      },
      "source": [
        "### 4.3)¿Cuántos y que competidores usaron deep learning? En una o dos oraciones escriba qué hicieron: https://ceur-ws.org/Vol-1866/"
      ]
    },
    {
      "cell_type": "markdown",
      "metadata": {
        "id": "FoNOkHyYsTC1"
      },
      "source": [
        "Para esto sólo me fijé cuáles competidores tenían un trabajo con título relacionado a redes neuronales, y que además el trabajo sea de *Author Profiling*. Encontré los siguientes 5 trabajos:\n",
        "\n",
        "1.   **Subword-based Deep Averaging Networks for Author Profiling in Social Media**: Utilizaron una variación del modelo *skip-gram continuo* para generar embeddings de palabras. Cada documento se representa con un promedio de las palabras (o bien de sus embeddings) que lo contienen, y mediante una red neuronal se combinan los diferentes documentos del usuario para dar una clasificación al final.\n",
        "2.   **Convolutional Neural Networks for Author Profiling**: Se concatenan los tweets de un autor y mediante una red neuronal convolucional 1D a nivel de caracter se realiza la clasificación.\n",
        "3.   **UniNE at CLEF 2017: TF-IDF and Deep-Learning for Author Profiling**: Los documentos de un autor se representan como una matriz tipo Bolsa de Palabras con pesado TF-IDF, en la que las features eran 2-gramas de letras. Esta matriz era alimentada a una red neuronal convolucional para dar la clasificación del autor.\n",
        "4.   **Author Profiling with Word+Character Neural Attention Network**: En paralelo, las palabras y los caracteres de los tweets de un autor se procesan en 2 diferentes procesos. El proceso para las palabras utiliza una RNN bidireccional con un proceso de atención. El proceso para los caracteres es basado en una red CNN. El resultado de ambos procesos se concatenan y se da una clasificación con capas finales.\n",
        "5.   **Author Profiling with Bidirectional RNNs using Attention with GRUs**: Se utiliza una GRU bidireccional y un proceso de atención, similar a esta tarea a nivel de palabra.\n",
        "\n"
      ]
    }
  ],
  "metadata": {
    "colab": {
      "provenance": [],
      "toc_visible": true
    },
    "kernelspec": {
      "display_name": ".venv",
      "language": "python",
      "name": "python3"
    },
    "language_info": {
      "name": "python",
      "version": "3.9.6"
    }
  },
  "nbformat": 4,
  "nbformat_minor": 0
}
