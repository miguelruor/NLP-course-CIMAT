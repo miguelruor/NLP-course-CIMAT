{
  "cells": [
    {
      "cell_type": "markdown",
      "metadata": {
        "id": "5qVeyQqooTzX"
      },
      "source": [
        "# Miguel Angel Ruiz Ortiz\n",
        "## Procesamiento de Lenguaje Natural\n",
        "## Tarea 2: Fundamentos de Minería de Text"
      ]
    },
    {
      "cell_type": "code",
      "execution_count": 3,
      "metadata": {
        "id": "Rj1lilONoTzZ"
      },
      "outputs": [
        {
          "name": "stderr",
          "output_type": "stream",
          "text": [
            "/Users/miguelruiz/Documents/Academic Stuff/NLP/Code/.venv/lib/python3.9/site-packages/urllib3/__init__.py:35: NotOpenSSLWarning: urllib3 v2 only supports OpenSSL 1.1.1+, currently the 'ssl' module is compiled with 'LibreSSL 2.8.3'. See: https://github.com/urllib3/urllib3/issues/3020\n",
            "  warnings.warn(\n",
            "[nltk_data] Downloading package stopwords to\n",
            "[nltk_data]     /Users/miguelruiz/nltk_data...\n",
            "[nltk_data]   Package stopwords is already up-to-date!\n"
          ]
        }
      ],
      "source": [
        "from typing import Literal\n",
        "from IPython.display import Markdown, display\n",
        "from pathlib import Path\n",
        "from collections import Counter\n",
        "import numpy as np\n",
        "import pandas as pd\n",
        "import seaborn as sns\n",
        "import matplotlib.pyplot as plt\n",
        "import nltk\n",
        "from nltk.tokenize import TweetTokenizer\n",
        "from sklearn import svm\n",
        "from sklearn.model_selection import GridSearchCV\n",
        "from sklearn.metrics import (\n",
        "    confusion_matrix,\n",
        "    classification_report\n",
        ")\n",
        "import spacy\n",
        "\n",
        "nltk.download(\"stopwords\")\n",
        "\n",
        "from nltk.corpus import stopwords"
      ]
    },
    {
      "cell_type": "markdown",
      "metadata": {
        "id": "0kHC8cLpoTza"
      },
      "source": [
        "# 2- Bolsas de Palabras, Bigramas y Emociones\n",
        "\n",
        "### Representa los documentos y clasifica con SVM similar a la Práctica 3, pero con diferentes pesados de términos."
      ]
    },
    {
      "cell_type": "markdown",
      "metadata": {
        "id": "Sd9UPGgxoTzb"
      },
      "source": [
        "La siguiente función lee un corpus y la clasificación de cada texto en él."
      ]
    },
    {
      "cell_type": "code",
      "execution_count": 4,
      "metadata": {
        "id": "DUtgjUOroTzc"
      },
      "outputs": [],
      "source": [
        "def getCorpus(corpus_path: Path, labels_path: Path) -> tuple[list[str]]:\n",
        "    with open(corpus_path, \"r\") as corpus_file, open(labels_path, \"r\") as labels_file:\n",
        "        corpus = [line for line in corpus_file]\n",
        "        labels = [line for line in labels_file]\n",
        "\n",
        "    return corpus, labels"
      ]
    },
    {
      "cell_type": "code",
      "execution_count": null,
      "metadata": {
        "id": "p80UL-gxoTzc"
      },
      "outputs": [],
      "source": [
        "base_path = Path(\"../data\")\n",
        "mex_a3t_path = base_path / \"MEX-A3T\"\n",
        "\n",
        "train_corpus_path = mex_a3t_path / \"mex20_train.txt\"\n",
        "train_labels_path = mex_a3t_path / \"mex20_train_labels.txt\"\n",
        "val_corpus_path = mex_a3t_path / \"mex20_val.txt\"\n",
        "val_labels_path = mex_a3t_path / \"mex20_val_labels.txt\""
      ]
    },
    {
      "cell_type": "code",
      "execution_count": 8,
      "metadata": {
        "id": "uGSfOzq9oTzd"
      },
      "outputs": [],
      "source": [
        "train_corpus, train_labels = getCorpus(train_corpus_path, train_labels_path)\n",
        "val_corpus, val_labels = getCorpus(val_corpus_path, val_labels_path)"
      ]
    },
    {
      "cell_type": "markdown",
      "metadata": {
        "id": "-3_bMXmXoTzd"
      },
      "source": [
        "Número de tweets en el conjunto de entrenamiento y validación:"
      ]
    },
    {
      "cell_type": "code",
      "execution_count": 9,
      "metadata": {
        "colab": {
          "base_uri": "https://localhost:8080/"
        },
        "id": "OnitTIPyoTze",
        "outputId": "dc4bc1c2-8f8d-4b47-94e8-609187635527"
      },
      "outputs": [
        {
          "name": "stdout",
          "output_type": "stream",
          "text": [
            "Entrenamiento: 5278\n",
            "Validación: 587\n"
          ]
        }
      ],
      "source": [
        "print(\"Entrenamiento:\", len(train_corpus))\n",
        "print(\"Validación:\", len(val_corpus))"
      ]
    },
    {
      "cell_type": "markdown",
      "metadata": {
        "id": "IjjVch_3uQzd"
      },
      "source": [
        "Histograma de las etiquetas:"
      ]
    },
    {
      "cell_type": "code",
      "execution_count": 10,
      "metadata": {
        "colab": {
          "base_uri": "https://localhost:8080/",
          "height": 513
        },
        "id": "Teqhaq_uoTzf",
        "outputId": "810397bf-f8db-48ec-b730-d02002b8e4a9"
      },
      "outputs": [
        {
          "data": {
            "image/png": "[encoded data removed]",
            "text/plain": [
              "<Figure size 1000x500 with 2 Axes>"
            ]
          },
          "metadata": {},
          "output_type": "display_data"
        }
      ],
      "source": [
        "sns.set_style(\"dark\") # para mejores gráficas\n",
        "\n",
        "fig, axs = plt.subplots(1, 2, figsize=(10, 5))\n",
        "sns.countplot(data=pd.DataFrame(train_labels, columns=[\"etiqueta\"]), x=\"etiqueta\", ax=axs[0])\n",
        "sns.countplot(data=pd.DataFrame(val_labels, columns=[\"etiqueta\"]), x=\"etiqueta\", ax=axs[1])\n",
        "axs[0].set_title(\"Conjunto de entrenamiento\")\n",
        "axs[1].set_title(\"Conjunto de validación\")\n",
        "plt.show()"
      ]
    },
    {
      "cell_type": "markdown",
      "metadata": {
        "id": "QFxRYzyYoTzf"
      },
      "source": [
        "Vistazo a los datos en parejas (tweet, clasificación):"
      ]
    },
    {
      "cell_type": "code",
      "execution_count": 11,
      "metadata": {
        "colab": {
          "base_uri": "https://localhost:8080/"
        },
        "id": "LCg7LjEKoTzg",
        "outputId": "24de15ba-753c-42a0-8d61-be8bec49a281"
      },
      "outputs": [
        {
          "data": {
            "text/plain": [
              "[('@USUARIO @USUARIO @USUARIO Q se puede esperar del maricon de closet de la Yañez aun recuerdo esa ves q lo vi en zona rosa viendo quien lo levantada\\n',\n",
              "  '1\\n'),\n",
              " ('@USUARIO La piel nueva siempre arde un poquito los primeros días... y más con este puto clima\\n',\n",
              "  '0\\n'),\n",
              " ('Ustedes no se enamoran de mí… por tontas.\\n', '1\\n'),\n",
              " ('Me las va a pagar esa puta gorda roba tuits...\\n', '1\\n'),\n",
              " ('@USUARIO LA GENTE ES TONTA PORQUE NO SE DAN CUENTA QUE TÚ HACES A BATMAN AZUL\\n',\n",
              "  '0\\n')]"
            ]
          },
          "execution_count": 11,
          "metadata": {},
          "output_type": "execute_result"
        }
      ],
      "source": [
        "list(zip(train_corpus[:5], train_labels[:5]))"
      ]
    },
    {
      "cell_type": "markdown",
      "metadata": {
        "id": "Leg9BmTMoTzg"
      },
      "source": [
        "Procesamos las etiquetas para que no tengan \"\\n\""
      ]
    },
    {
      "cell_type": "code",
      "execution_count": 12,
      "metadata": {
        "id": "T09EEx_ooTzg"
      },
      "outputs": [],
      "source": [
        "train_labels = [int(label) for label in train_labels]\n",
        "val_labels = [int(label) for label in val_labels]"
      ]
    },
    {
      "cell_type": "markdown",
      "metadata": {
        "id": "QR-NIvE4oTzh"
      },
      "source": [
        "Tokenizamos con TweetTokenizer. Como parámetros en el tokenizador especificamos que nos convierta a minúsculas el texto (```preserve_case=False```, que quite las palabras \"@usuario\" (```strip_handles=True```), y las secuencias con más de 3 caracteres iguales seguidos se cortan a longitud 3 (```reduce_len=True```)."
      ]
    },
    {
      "cell_type": "code",
      "execution_count": 13,
      "metadata": {
        "id": "DcAN-MwroTzh"
      },
      "outputs": [],
      "source": [
        "tokenizer = TweetTokenizer(preserve_case=False, reduce_len=True, strip_handles=True)\n",
        "\n",
        "train_corpus_tk = [tokenizer.tokenize(tweet) for tweet in train_corpus]\n",
        "val_corpus_tk = [tokenizer.tokenize(tweet) for tweet in val_corpus]"
      ]
    },
    {
      "cell_type": "markdown",
      "metadata": {
        "id": "MSM7NVCaoTzh"
      },
      "source": [
        "Para la Bolsa de Palabras (BoW), implementamos una clase que tenga los métodos:\n",
        "1. ``fit`` para extraer vocabulario y demás operaciones auxiliares que dependen de un conjunto de entrenamiento (lista de textos tokenizados), y regresa la matriz BoW asociada al conjunto de entrenamiento;\n",
        "2. ``transform`` para convertir una lista de textos tokenizados a su matriz BoW, después de haber llamado el método ``fit``.\n",
        "\n",
        "Los parámetros para inicializar la clase determinan el esquema de pesado (``weights_type``), si se necesitan normalizar los vectores asociados a los documentos (``normalize``), y el número de términos más frecuentes a considerar en el vocabulario de la BoW (``max_vocab_size``). Además, la clase contiene como atributos al vocabulario y la posición que le corresponde una palabra en el vocabulario en las columnas de la matriz BoW.\n",
        "\n",
        "Para extraer el vocabulario, no se consideran stopwords por ser palabras vacías que probablemente no contribuyan a la discriminación de los tweets."
      ]
    },
    {
      "cell_type": "code",
      "execution_count": null,
      "metadata": {
        "id": "9OmA8zb2oTzh"
      },
      "outputs": [],
      "source": [
        "def normalize_vector(vector: np.ndarray) -> np.ndarray:\n",
        "    \"\"\"Normalize a 1D numpy array with l2 norm\"\"\"\n",
        "    norm = np.sum(vector**2) ** 0.5\n",
        "    # deal with case where norm is 0\n",
        "    if norm < 1e-8:\n",
        "        return vector\n",
        "\n",
        "    return vector / norm\n",
        "\n",
        "class BagOfWords:\n",
        "    def __init__(\n",
        "        self,\n",
        "        weights_type: Literal[\"binary\", \"tf\", \"tfidf\"] = \"binary\",\n",
        "        normalize: bool = False,\n",
        "        max_vocab_size: int = 5000,\n",
        "    ):\n",
        "\n",
        "        if weights_type not in [\"binary\", \"tf\", \"tfidf\"]:\n",
        "            raise ValueError(\n",
        "                'Invalid weights type. Must be one of \"binary\", \"tf\" or \"tfidf\"'\n",
        "            )\n",
        "\n",
        "        self.weights_type = weights_type\n",
        "        self.max_vocab_size = max_vocab_size\n",
        "        self.normalize = normalize\n",
        "        self.vocab = set()\n",
        "        self.vocab_order = {}  # word -> column index in the BoW matrix\n",
        "        self.word_freq = {}  # word -> frequency in the training corpus\n",
        "\n",
        "        # only for tfidf weights type. It precalculates the IDF termns which only depend on the training corpus\n",
        "        self.word_idf = {} # word -> IDF value after fit method\n",
        "\n",
        "    def fit(self, corpus: list[list[str]]) -> np.ndarray:\n",
        "        # extract vocabulary from training corpus and compute its BoW matrix\n",
        "\n",
        "        corpus_words = []\n",
        "        for doc in corpus:\n",
        "            corpus_words += doc\n",
        "\n",
        "        freq_dist = nltk.FreqDist(corpus_words)\n",
        "\n",
        "        stopwords_es = set(stopwords.words(\"spanish\"))\n",
        "\n",
        "        # obtain max_vocab_size most common words that are not stopwords\n",
        "\n",
        "        quit_stop_words = [\n",
        "            (word, freq)\n",
        "            for word, freq in freq_dist.most_common()\n",
        "            if word not in stopwords_es\n",
        "        ]\n",
        "\n",
        "        self.word_freq = dict(quit_stop_words[: self.max_vocab_size])\n",
        "        self.vocab_order = {\n",
        "            word: idx\n",
        "            for idx, (word, _) in enumerate(quit_stop_words[: self.max_vocab_size])\n",
        "        }\n",
        "        self.vocab = set(self.vocab_order.keys())\n",
        "\n",
        "        # reset the idf values for new fit\n",
        "        self.word_idf = {}\n",
        "\n",
        "        # construct the BoW matrix\n",
        "        return self.transform(corpus)\n",
        "\n",
        "    def transform(self, corpus: list[list[str]]) -> np.ndarray:\n",
        "        # compute BoW matrix for a given corpus, assuming vocabulary has been extracted\n",
        "\n",
        "        # validate this method is called after fit method\n",
        "        if len(self.vocab) == 0:\n",
        "            raise ValueError(\"Vocabulary has not been extracted in fit method yet\")\n",
        "\n",
        "        # construct the BoW matrix\n",
        "        if self.weights_type == \"binary\":\n",
        "            bow_matrix = self.bowBinary(corpus)\n",
        "        elif self.weights_type == \"tf\":\n",
        "            bow_matrix = self.bowTF(corpus)\n",
        "        else:\n",
        "            # tfidf case\n",
        "            bow_matrix = self.bowTFIDF(corpus)\n",
        "\n",
        "        if self.normalize:\n",
        "            for i in range(len(corpus)):\n",
        "                bow_matrix[i] = normalize_vector(bow_matrix[i])\n",
        "\n",
        "        return bow_matrix\n",
        "\n",
        "    def bowBinary(self, corpus: list[list[str]]) -> np.ndarray:\n",
        "        # compute BoW matrix with binary weights\n",
        "\n",
        "        bow_matrix = np.zeros((len(corpus), len(self.vocab)))\n",
        "\n",
        "        for id_doc, doc in enumerate(corpus):\n",
        "            for token in set(doc):\n",
        "                if token in self.vocab:\n",
        "                    bow_matrix[id_doc, self.vocab_order[token]] = 1\n",
        "\n",
        "        return bow_matrix\n",
        "\n",
        "    def bowTF(self, corpus: list[list[str]]) -> np.ndarray:\n",
        "        # compute BoW matrix with frequency weights\n",
        "\n",
        "        bow_matrix = np.zeros((len(corpus), len(self.vocab)))\n",
        "\n",
        "        for id_doc, doc in enumerate(corpus):\n",
        "            freq_doc = nltk.FreqDist(doc)\n",
        "\n",
        "            for token in doc:\n",
        "                if token in self.vocab:\n",
        "                    bow_matrix[id_doc, self.vocab_order[token]] = freq_doc[token]\n",
        "\n",
        "        return bow_matrix\n",
        "\n",
        "    def bowTFIDF(self, corpus: list[list[str]]) -> np.ndarray:\n",
        "        # compute BoW matrix with TF-IDF weights\n",
        "\n",
        "        bow_matrix = np.zeros((len(corpus), len(self.vocab)), dtype=float)\n",
        "\n",
        "        freq_all_docs = {i: nltk.FreqDist(doc) for i, doc in enumerate(corpus)}\n",
        "\n",
        "        # compute IDF for each token if it is first time (i.e., only for training phase)\n",
        "        if len(self.word_idf) == 0:\n",
        "            for token in self.vocab:\n",
        "                if sum([1 for i in range(len(corpus)) if token in freq_all_docs[i]]) == 0:\n",
        "                    print(token, self.word_freq[token])\n",
        "\n",
        "                self.word_idf[token] = np.log(\n",
        "                    len(corpus)\n",
        "                    / sum([1 for i in range(len(corpus)) if token in freq_all_docs[i]])\n",
        "                )\n",
        "\n",
        "        # construct matrix\n",
        "        for id_doc, doc in enumerate(corpus):\n",
        "            freq_doc = freq_all_docs[id_doc]\n",
        "\n",
        "            for token in doc:\n",
        "                if token in self.vocab:\n",
        "                    bow_matrix[id_doc, self.vocab_order[token]] = (\n",
        "                        freq_doc[token] * self.word_idf[token]\n",
        "                    )\n",
        "\n",
        "        return bow_matrix"
      ]
    },
    {
      "cell_type": "markdown",
      "metadata": {
        "id": "ZOm6_dal0TUY"
      },
      "source": [
        "La siguiente función evalua el rendimiento de una BoW (forma matricial) al clasificar con una SVM. Se escoge el mejor hiperparámetro ``C`` de la SVM entre los posibles valores ``[0.05, 0.12, 0.25, 0.5, 1, 2, 4]`` utilizando validación cruzada con 5 pliegues. La función regresa la mejor SVM ya entrenada, y un diccionario con las métricas de desempeño que devuelve la función ``classification_report`` de Scikit-Learn (e.g., accuracy, recall, precision, f1)"
      ]
    },
    {
      "cell_type": "code",
      "execution_count": 33,
      "metadata": {
        "id": "_vbLD6DYoTzi"
      },
      "outputs": [],
      "source": [
        "def evaluate_bow(\n",
        "    X_train: np.ndarray, y_train: np.ndarray, X_val: np.ndarray, y_val: np.ndarray\n",
        ") -> tuple[svm.SVC, dict]:\n",
        "    \"\"\"Evaluates BoW matrix W using a linear SVM classifier and grid search for hyperparameter tuning\"\"\"\n",
        "\n",
        "    grid = GridSearchCV(\n",
        "        svm.SVC(kernel=\"linear\", class_weight=\"balanced\"),\n",
        "        {\"C\": [0.05, 0.12, 0.25, 0.5, 1, 2, 4]},\n",
        "        cv=5,\n",
        "        scoring=\"f1_macro\",\n",
        "        n_jobs=-1,\n",
        "    )\n",
        "\n",
        "    best_classifier = grid.fit(X_train, y_train)\n",
        "\n",
        "    print(\"Mejor parámetro:\", grid.best_params_)\n",
        "\n",
        "    y_pred_val = best_classifier.predict(X_val)\n",
        "\n",
        "    print(\"Matriz de confusión:\\n\", confusion_matrix(y_val, y_pred_val))\n",
        "    print(\"Reporte de clasificación:\")\n",
        "    print(classification_report(y_val, y_pred_val))\n",
        "\n",
        "    report_dict = classification_report(y_val, y_pred_val, output_dict=True)\n",
        "\n",
        "    return best_classifier, report_dict"
      ]
    },
    {
      "cell_type": "markdown",
      "metadata": {
        "id": "FQTeHZEwoTzi"
      },
      "source": [
        "### 2.1- Evalúe BoW con pesado binario"
      ]
    },
    {
      "cell_type": "code",
      "execution_count": 16,
      "metadata": {
        "id": "z3noGCJdoTzj"
      },
      "outputs": [],
      "source": [
        "bow_constructor = BagOfWords(weights_type=\"binary\", normalize=False)\n",
        "bow_tr_bin = bow_constructor.fit(train_corpus_tk)\n",
        "bow_val_bin = bow_constructor.transform(val_corpus_tk)"
      ]
    },
    {
      "cell_type": "code",
      "execution_count": 17,
      "metadata": {
        "colab": {
          "base_uri": "https://localhost:8080/"
        },
        "id": "lsrexRQioTzj",
        "outputId": "f3fcaa12-dcf0-4ef9-ba87-86701e7c5ef6"
      },
      "outputs": [
        {
          "name": "stdout",
          "output_type": "stream",
          "text": [
            "Mejor parámetro: {'C': 0.12}\n",
            "Matriz de confusión:\n",
            " [[359  59]\n",
            " [ 40 129]]\n",
            "Reporte de clasificación:\n",
            "              precision    recall  f1-score   support\n",
            "\n",
            "           0       0.90      0.86      0.88       418\n",
            "           1       0.69      0.76      0.72       169\n",
            "\n",
            "    accuracy                           0.83       587\n",
            "   macro avg       0.79      0.81      0.80       587\n",
            "weighted avg       0.84      0.83      0.83       587\n",
            "\n"
          ]
        }
      ],
      "source": [
        "classifier_bin, report_bin = evaluate_bow(\n",
        "    bow_tr_bin, train_labels, bow_val_bin, val_labels\n",
        ")"
      ]
    },
    {
      "cell_type": "markdown",
      "metadata": {
        "id": "1JDR-mrvoTzj"
      },
      "source": [
        "### 2.2- Evalúe BoW con pesado frecuencia"
      ]
    },
    {
      "cell_type": "code",
      "execution_count": 18,
      "metadata": {
        "id": "_Gw79VxyoTzj"
      },
      "outputs": [],
      "source": [
        "bow_constructor = BagOfWords(weights_type=\"tf\", normalize=False)\n",
        "bow_tr_tf = bow_constructor.fit(train_corpus_tk)\n",
        "bow_val_tf = bow_constructor.transform(val_corpus_tk)"
      ]
    },
    {
      "cell_type": "code",
      "execution_count": 19,
      "metadata": {
        "id": "3ysiTBZOoTzk"
      },
      "outputs": [
        {
          "name": "stdout",
          "output_type": "stream",
          "text": [
            "Mejor parámetro: {'C': 0.12}\n",
            "Matriz de confusión:\n",
            " [[356  62]\n",
            " [ 44 125]]\n",
            "Reporte de clasificación:\n",
            "              precision    recall  f1-score   support\n",
            "\n",
            "           0       0.89      0.85      0.87       418\n",
            "           1       0.67      0.74      0.70       169\n",
            "\n",
            "    accuracy                           0.82       587\n",
            "   macro avg       0.78      0.80      0.79       587\n",
            "weighted avg       0.83      0.82      0.82       587\n",
            "\n"
          ]
        }
      ],
      "source": [
        "classifier_tf, report_tf = evaluate_bow(\n",
        "    bow_tr_tf, train_labels, bow_val_tf, val_labels\n",
        ")"
      ]
    },
    {
      "cell_type": "markdown",
      "metadata": {
        "id": "KFgZGHxBoTzk"
      },
      "source": [
        "### 2.3- Evalúe BoW con pesado TF-IDF."
      ]
    },
    {
      "cell_type": "code",
      "execution_count": 20,
      "metadata": {
        "id": "rFSXrbUeoTzk"
      },
      "outputs": [],
      "source": [
        "bow_constructor = BagOfWords(weights_type=\"tfidf\", normalize=False)\n",
        "bow_tr_tfidf = bow_constructor.fit(train_corpus_tk)\n",
        "bow_val_tfidf = bow_constructor.transform(val_corpus_tk)"
      ]
    },
    {
      "cell_type": "code",
      "execution_count": 21,
      "metadata": {
        "id": "CZP1bTGToTzk"
      },
      "outputs": [
        {
          "name": "stdout",
          "output_type": "stream",
          "text": [
            "Mejor parámetro: {'C': 0.05}\n",
            "Matriz de confusión:\n",
            " [[358  60]\n",
            " [ 67 102]]\n",
            "Reporte de clasificación:\n",
            "              precision    recall  f1-score   support\n",
            "\n",
            "           0       0.84      0.86      0.85       418\n",
            "           1       0.63      0.60      0.62       169\n",
            "\n",
            "    accuracy                           0.78       587\n",
            "   macro avg       0.74      0.73      0.73       587\n",
            "weighted avg       0.78      0.78      0.78       587\n",
            "\n"
          ]
        }
      ],
      "source": [
        "classifier_tfidf, report_tfidf = evaluate_bow(\n",
        "    bow_tr_tfidf, train_labels, bow_val_tfidf, val_labels\n",
        ")"
      ]
    },
    {
      "cell_type": "markdown",
      "metadata": {
        "id": "swzA3ZnIoTzk"
      },
      "source": [
        "### 2.4- Evalúe BoW con pesado binario normalizado l2"
      ]
    },
    {
      "cell_type": "code",
      "execution_count": 22,
      "metadata": {
        "id": "impS1zPAoTzl"
      },
      "outputs": [],
      "source": [
        "bow_constructor = BagOfWords(weights_type=\"binary\", normalize=True)\n",
        "bow_tr_bin_norm = bow_constructor.fit(train_corpus_tk)\n",
        "bow_val_bin_norm = bow_constructor.transform(val_corpus_tk)"
      ]
    },
    {
      "cell_type": "code",
      "execution_count": 23,
      "metadata": {
        "id": "3Jzp2QgLoTzl"
      },
      "outputs": [
        {
          "name": "stdout",
          "output_type": "stream",
          "text": [
            "Mejor parámetro: {'C': 1}\n",
            "Matriz de confusión:\n",
            " [[355  63]\n",
            " [ 38 131]]\n",
            "Reporte de clasificación:\n",
            "              precision    recall  f1-score   support\n",
            "\n",
            "           0       0.90      0.85      0.88       418\n",
            "           1       0.68      0.78      0.72       169\n",
            "\n",
            "    accuracy                           0.83       587\n",
            "   macro avg       0.79      0.81      0.80       587\n",
            "weighted avg       0.84      0.83      0.83       587\n",
            "\n"
          ]
        }
      ],
      "source": [
        "classifier_bin_norm, report_bin_norm = evaluate_bow(\n",
        "    bow_tr_bin_norm, train_labels, bow_val_bin_norm, val_labels\n",
        ")"
      ]
    },
    {
      "cell_type": "markdown",
      "metadata": {
        "id": "U15hTN16oTzl"
      },
      "source": [
        "### 2.5- Evalúe BoW con pesado frecuencia normalizado l2"
      ]
    },
    {
      "cell_type": "code",
      "execution_count": 24,
      "metadata": {
        "id": "IrO_jD4moTzl"
      },
      "outputs": [],
      "source": [
        "bow_constructor = BagOfWords(weights_type=\"tf\", normalize=True)\n",
        "bow_tr_tf_norm = bow_constructor.fit(train_corpus_tk)\n",
        "bow_val_tf_norm = bow_constructor.transform(val_corpus_tk)"
      ]
    },
    {
      "cell_type": "code",
      "execution_count": 25,
      "metadata": {
        "id": "e47OMiHSoTzl"
      },
      "outputs": [
        {
          "name": "stdout",
          "output_type": "stream",
          "text": [
            "Mejor parámetro: {'C': 1}\n",
            "Matriz de confusión:\n",
            " [[356  62]\n",
            " [ 40 129]]\n",
            "Reporte de clasificación:\n",
            "              precision    recall  f1-score   support\n",
            "\n",
            "           0       0.90      0.85      0.87       418\n",
            "           1       0.68      0.76      0.72       169\n",
            "\n",
            "    accuracy                           0.83       587\n",
            "   macro avg       0.79      0.81      0.80       587\n",
            "weighted avg       0.83      0.83      0.83       587\n",
            "\n"
          ]
        }
      ],
      "source": [
        "classifier_tf_norm, report_tf_norm = evaluate_bow(\n",
        "    bow_tr_tf_norm, train_labels, bow_val_tf_norm, val_labels\n",
        ")"
      ]
    },
    {
      "cell_type": "markdown",
      "metadata": {
        "id": "_bJ88nY2oTzm"
      },
      "source": [
        "### 2.6- Evalúe BoW con pesado tfidf normalizado l2"
      ]
    },
    {
      "cell_type": "code",
      "execution_count": 26,
      "metadata": {
        "id": "ZhppLLjMoTzm"
      },
      "outputs": [],
      "source": [
        "bow_constructor = BagOfWords(weights_type=\"tfidf\", normalize=True)\n",
        "bow_tr_tfidf_norm = bow_constructor.fit(train_corpus_tk)\n",
        "bow_val_tfidf_norm = bow_constructor.transform(val_corpus_tk)"
      ]
    },
    {
      "cell_type": "code",
      "execution_count": 27,
      "metadata": {
        "id": "CNkd58MCoTzm"
      },
      "outputs": [
        {
          "name": "stdout",
          "output_type": "stream",
          "text": [
            "Mejor parámetro: {'C': 0.25}\n",
            "Matriz de confusión:\n",
            " [[365  53]\n",
            " [ 47 122]]\n",
            "Reporte de clasificación:\n",
            "              precision    recall  f1-score   support\n",
            "\n",
            "           0       0.89      0.87      0.88       418\n",
            "           1       0.70      0.72      0.71       169\n",
            "\n",
            "    accuracy                           0.83       587\n",
            "   macro avg       0.79      0.80      0.79       587\n",
            "weighted avg       0.83      0.83      0.83       587\n",
            "\n"
          ]
        }
      ],
      "source": [
        "classifier_tfidf_norm, report_tfidf_norm = evaluate_bow(\n",
        "    bow_tr_tfidf_norm, train_labels, bow_val_tfidf_norm, val_labels\n",
        ")"
      ]
    },
    {
      "cell_type": "markdown",
      "metadata": {
        "id": "ZqBqFzewoTzm"
      },
      "source": [
        "### 2.7- Ponga una tabla comparativa a modo de resumen con las seis entradas anteriores."
      ]
    },
    {
      "cell_type": "markdown",
      "metadata": {},
      "source": [
        "Para las métricas *precision*, *recall* y *F1-score*, se consideró la estrategia \"macro\" (i.e., el promedio de los F1-scores individuales de cada clase)."
      ]
    },
    {
      "cell_type": "code",
      "execution_count": 28,
      "metadata": {
        "id": "tfRDIjisoTzn"
      },
      "outputs": [
        {
          "data": {
            "text/markdown": [
              "\n",
              "| Esquema de pesado | Accuracy | Precision | Recall | F1-Score |\n",
              "|-------------------|----------|-----------|--------|----------|\n",
              "| Binario | 0.83 | 0.79 | 0.81 | 0.80 |\n",
              "| TF | 0.82 | 0.78 | 0.80 | 0.79 |\n",
              "| TF-IDF | 0.78 | 0.74 | 0.73 | 0.73 |\n",
              "| Binario (normalizado) | 0.83 | 0.79 | 0.81 | 0.80 |\n",
              "| TF (normalizado) | 0.83 | 0.79 | 0.81 | 0.80 |\n",
              "| TF-IDF (normalizado) | 0.83 | 0.79 | 0.80 | 0.79 |\n"
            ],
            "text/plain": [
              "<IPython.core.display.Markdown object>"
            ]
          },
          "metadata": {},
          "output_type": "display_data"
        }
      ],
      "source": [
        "display(\n",
        "    Markdown(\n",
        "        f\"\"\"\n",
        "| Esquema de pesado | Accuracy | Precision | Recall | F1-Score |\n",
        "|-------------------|----------|-----------|--------|----------|\n",
        "| Binario | {report_bin['accuracy']:.2f} | {report_bin['macro avg']['precision']:.2f} | {report_bin['macro avg']['recall']:.2f} | {report_bin['macro avg']['f1-score']:.2f} |\n",
        "| TF | {report_tf['accuracy']:.2f} | {report_tf['macro avg']['precision']:.2f} | {report_tf['macro avg']['recall']:.2f} | {report_tf['macro avg']['f1-score']:.2f} |\n",
        "| TF-IDF | {report_tfidf['accuracy']:.2f} | {report_tfidf['macro avg']['precision']:.2f} | {report_tfidf['macro avg']['recall']:.2f} | {report_tfidf['macro avg']['f1-score']:.2f} |\n",
        "| Binario (normalizado) | {report_bin_norm['accuracy']:.2f} | {report_bin_norm['macro avg']['precision']:.2f} | {report_bin_norm['macro avg']['recall']:.2f} | {report_bin_norm['macro avg']['f1-score']:.2f} |\n",
        "| TF (normalizado) | {report_tf_norm['accuracy']:.2f} | {report_tf_norm['macro avg']['precision']:.2f} | {report_tf_norm['macro avg']['recall']:.2f} | {report_tf_norm['macro avg']['f1-score']:.2f} |\n",
        "| TF-IDF (normalizado) | {report_tfidf_norm['accuracy']:.2f} | {report_tfidf_norm['macro avg']['precision']:.2f} | {report_tfidf_norm['macro avg']['recall']:.2f} | {report_tfidf_norm['macro avg']['f1-score']:.2f} |\n",
        "\"\"\"\n",
        "    )\n",
        ")"
      ]
    },
    {
      "cell_type": "markdown",
      "metadata": {
        "id": "VuT-DsMHoTzn"
      },
      "source": [
        "### 2.8- De las configuraciones anteriores elija la mejor y evalúela con más y menos términos (e.g., 1000 y 7000). Ponga una tabla dónde compare tres configuraciones distintas."
      ]
    },
    {
      "cell_type": "markdown",
      "metadata": {},
      "source": [
        "Podemos observar que los mejores pesados fueron binario, binario normalizado y por frecuencias (TF) normalizado. Vamos a escoger binario normalizado para los siguientes experimentos con 500 y 7000 palabras más frecuentes para el vocabulario."
      ]
    },
    {
      "cell_type": "code",
      "execution_count": 52,
      "metadata": {
        "id": "vpt0QUXVoTzn"
      },
      "outputs": [],
      "source": [
        "bow_constructor_2 = BagOfWords(weights_type=\"binary\", normalize=True, max_vocab_size=500)\n",
        "bow_constructor_3 = BagOfWords(weights_type=\"binary\", normalize=True, max_vocab_size=7000)"
      ]
    },
    {
      "cell_type": "code",
      "execution_count": 53,
      "metadata": {
        "id": "pwwt5LqloTzn"
      },
      "outputs": [],
      "source": [
        "bow_tr_bin_norm_2 = bow_constructor_2.fit(train_corpus_tk)\n",
        "bow_val_bin_norm_2 = bow_constructor_2.transform(val_corpus_tk)\n",
        "\n",
        "bow_tr_bin_norm_3 = bow_constructor_3.fit(train_corpus_tk)\n",
        "bow_val_bin_norm_3 = bow_constructor_3.transform(val_corpus_tk)"
      ]
    },
    {
      "cell_type": "code",
      "execution_count": 54,
      "metadata": {
        "id": "mal9aBSooTzn"
      },
      "outputs": [
        {
          "name": "stdout",
          "output_type": "stream",
          "text": [
            "Mejor parámetro: {'C': 1}\n",
            "Matriz de confusión:\n",
            " [[359  59]\n",
            " [ 42 127]]\n",
            "Reporte de clasificación:\n",
            "              precision    recall  f1-score   support\n",
            "\n",
            "           0       0.90      0.86      0.88       418\n",
            "           1       0.68      0.75      0.72       169\n",
            "\n",
            "    accuracy                           0.83       587\n",
            "   macro avg       0.79      0.81      0.80       587\n",
            "weighted avg       0.83      0.83      0.83       587\n",
            "\n"
          ]
        }
      ],
      "source": [
        "classifier_bin_norm_2, report_bin_norm_2 = evaluate_bow(\n",
        "    bow_tr_bin_norm_2, train_labels, bow_val_bin_norm_2, val_labels\n",
        ")"
      ]
    },
    {
      "cell_type": "code",
      "execution_count": 84,
      "metadata": {
        "id": "CfD39nI2oTzo"
      },
      "outputs": [
        {
          "name": "stdout",
          "output_type": "stream",
          "text": [
            "Mejor parámetro: {'C': 1}\n",
            "Matriz de confusión:\n",
            " [[354  64]\n",
            " [ 39 130]]\n",
            "Reporte de clasificación:\n",
            "              precision    recall  f1-score   support\n",
            "\n",
            "           0       0.90      0.85      0.87       418\n",
            "           1       0.67      0.77      0.72       169\n",
            "\n",
            "    accuracy                           0.82       587\n",
            "   macro avg       0.79      0.81      0.79       587\n",
            "weighted avg       0.83      0.82      0.83       587\n",
            "\n"
          ]
        }
      ],
      "source": [
        "classifier_bin_norm_3, report_bin_norm_3 = evaluate_bow(\n",
        "    bow_tr_bin_norm_3, train_labels, bow_val_bin_norm_3, val_labels\n",
        ")"
      ]
    },
    {
      "cell_type": "code",
      "execution_count": 85,
      "metadata": {},
      "outputs": [
        {
          "data": {
            "text/markdown": [
              "\n",
              "| Tamaño de vocabulario | Accuracy | Precision | Recall | F1-Score |\n",
              "|----------------------|----------|-----------|--------|----------|\n",
              "| 500 | 0.83 | 0.79 | 0.81 | 0.80 |\n",
              "| 5000 | 0.83 | 0.79 | 0.81 | 0.80 |\n",
              "| 7000 | 0.82 | 0.79 | 0.81 | 0.79 |\n"
            ],
            "text/plain": [
              "<IPython.core.display.Markdown object>"
            ]
          },
          "metadata": {},
          "output_type": "display_data"
        }
      ],
      "source": [
        "display(\n",
        "    Markdown(\n",
        "        f\"\"\"\n",
        "| Tamaño de vocabulario | Accuracy | Precision | Recall | F1-Score |\n",
        "|----------------------|----------|-----------|--------|----------|\n",
        "| 500 | {report_bin_norm_2['accuracy']:.2f} | {report_bin_norm_2['macro avg']['precision']:.2f} | {report_bin_norm_2['macro avg']['recall']:.2f} | {report_bin_norm_2['macro avg']['f1-score']:.2f} |\n",
        "| 5000 | {report_bin_norm['accuracy']:.2f} | {report_bin_norm['macro avg']['precision']:.2f} | {report_bin_norm['macro avg']['recall']:.2f} | {report_bin_norm['macro avg']['f1-score']:.2f} |\n",
        "| 7000 | {report_bin_norm_3['accuracy']:.2f} | {report_bin_norm_3['macro avg']['precision']:.2f} | {report_bin_norm_3['macro avg']['recall']:.2f} | {report_bin_norm_3['macro avg']['f1-score']:.2f} |\n",
        "\"\"\"\n",
        "    )\n",
        ")"
      ]
    },
    {
      "cell_type": "markdown",
      "metadata": {
        "id": "zGMBHb4XoTzo"
      },
      "source": [
        "### 2.9- Utilice el recurso léxico del Consejo Nacional de Investigación de Canadá llamado [\"EmoLex\"](https://www.saifmohammad.com/WebPages/NRC-Emotion-Lexicon.htm) para construir una \"Bolsa de Emociones\" de los Tweets de agresividad (debe usar EmoLex en Español). Para esto, una estrategia sencilla sería enmascarar (sustituir) cada palabra con su emoción, y después construir la Bolsa de Emociones (BoE)."
      ]
    },
    {
      "cell_type": "code",
      "execution_count": 55,
      "metadata": {
        "id": "trh77CDzoTzo",
        "outputId": "89cf92ca-7340-4fdf-bd16-8775db934a35"
      },
      "outputs": [
        {
          "data": {
            "text/html": [
              "<div>\n",
              "<style scoped>\n",
              "    .dataframe tbody tr th:only-of-type {\n",
              "        vertical-align: middle;\n",
              "    }\n",
              "\n",
              "    .dataframe tbody tr th {\n",
              "        vertical-align: top;\n",
              "    }\n",
              "\n",
              "    .dataframe thead th {\n",
              "        text-align: right;\n",
              "    }\n",
              "</style>\n",
              "<table border=\"1\" class=\"dataframe\">\n",
              "  <thead>\n",
              "    <tr style=\"text-align: right;\">\n",
              "      <th></th>\n",
              "      <th>English Word</th>\n",
              "      <th>anger</th>\n",
              "      <th>anticipation</th>\n",
              "      <th>disgust</th>\n",
              "      <th>fear</th>\n",
              "      <th>joy</th>\n",
              "      <th>negative</th>\n",
              "      <th>positive</th>\n",
              "      <th>sadness</th>\n",
              "      <th>surprise</th>\n",
              "      <th>trust</th>\n",
              "      <th>Spanish Word</th>\n",
              "    </tr>\n",
              "  </thead>\n",
              "  <tbody>\n",
              "    <tr>\n",
              "      <th>0</th>\n",
              "      <td>aback</td>\n",
              "      <td>0</td>\n",
              "      <td>0</td>\n",
              "      <td>0</td>\n",
              "      <td>0</td>\n",
              "      <td>0</td>\n",
              "      <td>0</td>\n",
              "      <td>0</td>\n",
              "      <td>0</td>\n",
              "      <td>0</td>\n",
              "      <td>0</td>\n",
              "      <td>detrás</td>\n",
              "    </tr>\n",
              "    <tr>\n",
              "      <th>1</th>\n",
              "      <td>abacus</td>\n",
              "      <td>0</td>\n",
              "      <td>0</td>\n",
              "      <td>0</td>\n",
              "      <td>0</td>\n",
              "      <td>0</td>\n",
              "      <td>0</td>\n",
              "      <td>0</td>\n",
              "      <td>0</td>\n",
              "      <td>0</td>\n",
              "      <td>1</td>\n",
              "      <td>ábaco</td>\n",
              "    </tr>\n",
              "    <tr>\n",
              "      <th>2</th>\n",
              "      <td>abandon</td>\n",
              "      <td>0</td>\n",
              "      <td>0</td>\n",
              "      <td>0</td>\n",
              "      <td>1</td>\n",
              "      <td>0</td>\n",
              "      <td>1</td>\n",
              "      <td>0</td>\n",
              "      <td>1</td>\n",
              "      <td>0</td>\n",
              "      <td>0</td>\n",
              "      <td>abandonar</td>\n",
              "    </tr>\n",
              "    <tr>\n",
              "      <th>3</th>\n",
              "      <td>abandoned</td>\n",
              "      <td>1</td>\n",
              "      <td>0</td>\n",
              "      <td>0</td>\n",
              "      <td>1</td>\n",
              "      <td>0</td>\n",
              "      <td>1</td>\n",
              "      <td>0</td>\n",
              "      <td>1</td>\n",
              "      <td>0</td>\n",
              "      <td>0</td>\n",
              "      <td>abandonado</td>\n",
              "    </tr>\n",
              "    <tr>\n",
              "      <th>4</th>\n",
              "      <td>abandonment</td>\n",
              "      <td>1</td>\n",
              "      <td>0</td>\n",
              "      <td>0</td>\n",
              "      <td>1</td>\n",
              "      <td>0</td>\n",
              "      <td>1</td>\n",
              "      <td>0</td>\n",
              "      <td>1</td>\n",
              "      <td>1</td>\n",
              "      <td>0</td>\n",
              "      <td>abandono</td>\n",
              "    </tr>\n",
              "  </tbody>\n",
              "</table>\n",
              "</div>"
            ],
            "text/plain": [
              "  English Word  anger  anticipation  disgust  fear  joy  negative  positive  \\\n",
              "0        aback      0             0        0     0    0         0         0   \n",
              "1       abacus      0             0        0     0    0         0         0   \n",
              "2      abandon      0             0        0     1    0         1         0   \n",
              "3    abandoned      1             0        0     1    0         1         0   \n",
              "4  abandonment      1             0        0     1    0         1         0   \n",
              "\n",
              "   sadness  surprise  trust Spanish Word  \n",
              "0        0         0      0       detrás  \n",
              "1        0         0      1        ábaco  \n",
              "2        1         0      0    abandonar  \n",
              "3        1         0      0   abandonado  \n",
              "4        1         1      0     abandono  "
            ]
          },
          "execution_count": 55,
          "metadata": {},
          "output_type": "execute_result"
        }
      ],
      "source": [
        "emolex_path = base_path / \"NRC-Emotion-Lexicon\"\n",
        "emolex_spanish_path = emolex_path / \"OneFilePerLanguage\" / \"Spanish-NRC-EmoLex.txt\"\n",
        "\n",
        "emolex = pd.read_csv(emolex_spanish_path, sep='\\t')\n",
        "\n",
        "emolex.head()"
      ]
    },
    {
      "cell_type": "markdown",
      "metadata": {
        "id": "6Y60WfknoTzp"
      },
      "source": [
        "Hacemos un mapeo de palabras a sus emociones asociadas en EmoLex."
      ]
    },
    {
      "cell_type": "code",
      "execution_count": 56,
      "metadata": {
        "id": "Q5ipaw2-oTzp",
        "outputId": "f756eed6-a923-4b8a-a11d-3e8306d761cb"
      },
      "outputs": [
        {
          "data": {
            "text/plain": [
              "[('detrás', []),\n",
              " ('ábaco', ['trust']),\n",
              " ('abandonar', ['negative']),\n",
              " ('abandonado', ['anger', 'sadness', 'negative']),\n",
              " ('abandono', ['anger', 'fear', 'surprise', 'sadness', 'negative'])]"
            ]
          },
          "execution_count": 56,
          "metadata": {},
          "output_type": "execute_result"
        }
      ],
      "source": [
        "emotions = [\n",
        "    \"anger\",\n",
        "    \"anticipation\",\n",
        "    \"disgust\",\n",
        "    \"fear\",\n",
        "    \"joy\",\n",
        "    \"surprise\",\n",
        "    \"trust\",\n",
        "    \"sadness\",\n",
        "    \"positive\",\n",
        "    \"negative\",\n",
        "]\n",
        "\n",
        "word_to_emotions = {\n",
        "    row[\"Spanish Word\"]: [emotion for emotion in emotions if row[emotion] == 1]\n",
        "    for _, row in emolex.iterrows()\n",
        "}\n",
        "\n",
        "list(word_to_emotions.items())[:5]"
      ]
    },
    {
      "cell_type": "markdown",
      "metadata": {
        "id": "eVPpknEZoTzp"
      },
      "source": [
        "Usamos lematización para que poder hacer match con las palabras en EmoLex"
      ]
    },
    {
      "cell_type": "code",
      "execution_count": 57,
      "metadata": {
        "id": "mpONG_pwoTzp"
      },
      "outputs": [],
      "source": [
        "nlp = spacy.load(\"es_core_news_sm\")\n",
        "\n",
        "def lemmatize_spanish(text: str) -> list[str]:\n",
        "    \"\"\" Function to lemmatize text\n",
        "    \"\"\"\n",
        "    doc = nlp(text)\n",
        "    return [token.lemma_ for token in doc]"
      ]
    },
    {
      "cell_type": "code",
      "execution_count": 58,
      "metadata": {
        "id": "1gqxTfVUoTzp"
      },
      "outputs": [],
      "source": [
        "tr_lemmas = [lemmatize_spanish(tweet.lower()) for tweet in train_corpus]\n",
        "val_lemmas = [lemmatize_spanish(tweet.lower()) for tweet in val_corpus]"
      ]
    },
    {
      "cell_type": "markdown",
      "metadata": {
        "id": "29flyQd6oTzp"
      },
      "source": [
        "Enmascaramos cada palabra por sus emocines a través de nuestro mapeo anterior, e ignoramos las que no se pueden mapear."
      ]
    },
    {
      "cell_type": "code",
      "execution_count": 59,
      "metadata": {
        "id": "krLKZj4ooTzp"
      },
      "outputs": [],
      "source": [
        "def get_doc_emotions(doc: list[str]) -> list[str]:\n",
        "    \"\"\" Function to get emotions from a document\n",
        "    \"\"\"\n",
        "    emotions = []\n",
        "\n",
        "    for token in doc:\n",
        "        if token in word_to_emotions and len(word_to_emotions[token]) > 0:\n",
        "            emotions += word_to_emotions[token]\n",
        "\n",
        "    return emotions\n",
        "\n",
        "tr_masked = [get_doc_emotions(doc) for doc in tr_lemmas]\n",
        "val_masked = [get_doc_emotions(doc) for doc in val_lemmas]"
      ]
    },
    {
      "cell_type": "code",
      "execution_count": 60,
      "metadata": {
        "id": "WrT8JjM4oTzp",
        "outputId": "f754a3eb-c319-43d1-9dcd-553d34650947"
      },
      "outputs": [
        {
          "data": {
            "text/plain": [
              "[['anticipation', 'joy', 'surprise', 'trust', 'positive'],\n",
              " [],\n",
              " ['anticipation'],\n",
              " ['anger', 'anticipation', 'joy', 'trust', 'positive', 'disgust', 'negative'],\n",
              " ['negative', 'anticipation', 'sadness'],\n",
              " ['trust', 'positive'],\n",
              " [],\n",
              " ['anticipation',\n",
              "  'anticipation',\n",
              "  'anger',\n",
              "  'anticipation',\n",
              "  'disgust',\n",
              "  'fear',\n",
              "  'joy',\n",
              "  'surprise',\n",
              "  'trust',\n",
              "  'sadness',\n",
              "  'positive',\n",
              "  'negative',\n",
              "  'joy',\n",
              "  'surprise',\n",
              "  'trust',\n",
              "  'positive',\n",
              "  'negative',\n",
              "  'negative']]"
            ]
          },
          "execution_count": 60,
          "metadata": {},
          "output_type": "execute_result"
        }
      ],
      "source": [
        "tr_masked[:8]"
      ]
    },
    {
      "cell_type": "markdown",
      "metadata": {},
      "source": [
        "Bolsa de Emociones (BoE) con pesado binario normalizado"
      ]
    },
    {
      "cell_type": "code",
      "execution_count": 61,
      "metadata": {
        "id": "G6XRX7l-oTzp"
      },
      "outputs": [],
      "source": [
        "bow_constructor = BagOfWords(weights_type=\"binary\", normalize=True)\n",
        "\n",
        "boe_emolex_tr_bin = bow_constructor.fit(tr_masked)\n",
        "boe_emolex_val_bin = bow_constructor.transform(val_masked)"
      ]
    },
    {
      "cell_type": "code",
      "execution_count": 62,
      "metadata": {
        "id": "BjuqsHProTzp",
        "outputId": "df60ce02-a38c-4304-89a2-fa572fda1962"
      },
      "outputs": [
        {
          "data": {
            "text/plain": [
              "array([[0.        , 0.4472136 , 0.4472136 , 0.4472136 , 0.        ,\n",
              "        0.4472136 , 0.        , 0.        , 0.        , 0.4472136 ],\n",
              "       [0.        , 0.        , 0.        , 0.        , 0.        ,\n",
              "        0.        , 0.        , 0.        , 0.        , 0.        ],\n",
              "       [0.        , 1.        , 0.        , 0.        , 0.        ,\n",
              "        0.        , 0.        , 0.        , 0.        , 0.        ],\n",
              "       [0.37796447, 0.37796447, 0.37796447, 0.37796447, 0.        ,\n",
              "        0.37796447, 0.37796447, 0.37796447, 0.        , 0.        ],\n",
              "       [0.57735027, 0.57735027, 0.        , 0.        , 0.57735027,\n",
              "        0.        , 0.        , 0.        , 0.        , 0.        ]])"
            ]
          },
          "execution_count": 62,
          "metadata": {},
          "output_type": "execute_result"
        }
      ],
      "source": [
        "boe_emolex_tr_bin[:5, :]"
      ]
    },
    {
      "cell_type": "markdown",
      "metadata": {
        "id": "tVow4eS9oTzp"
      },
      "source": [
        "### 2.10- Usa tu BoE de alguna forma y clasifica con SVM. Ponga una tabla comparativa a modo de resumen con tres pesados (binario, TF, TF-IDF), normalize cada uno si lo cree conveniente."
      ]
    },
    {
      "cell_type": "markdown",
      "metadata": {
        "id": "v4_qtYnAoTzq"
      },
      "source": [
        "Evaluación de pesado Binario"
      ]
    },
    {
      "cell_type": "code",
      "execution_count": 63,
      "metadata": {
        "id": "bVADdiPfoTzq"
      },
      "outputs": [
        {
          "name": "stdout",
          "output_type": "stream",
          "text": [
            "Mejor parámetro: {'C': 0.05}\n",
            "Matriz de confusión:\n",
            " [[327  91]\n",
            " [108  61]]\n",
            "Reporte de clasificación:\n",
            "              precision    recall  f1-score   support\n",
            "\n",
            "           0       0.75      0.78      0.77       418\n",
            "           1       0.40      0.36      0.38       169\n",
            "\n",
            "    accuracy                           0.66       587\n",
            "   macro avg       0.58      0.57      0.57       587\n",
            "weighted avg       0.65      0.66      0.66       587\n",
            "\n"
          ]
        }
      ],
      "source": [
        "classifier_boe_emolex_bin, report_boe_emolex_bin = evaluate_bow(\n",
        "    boe_emolex_tr_bin, train_labels, boe_emolex_val_bin, val_labels\n",
        ")"
      ]
    },
    {
      "cell_type": "markdown",
      "metadata": {
        "id": "7O6cTrnPoTzq"
      },
      "source": [
        "Pesado de frecuencia normalizado"
      ]
    },
    {
      "cell_type": "code",
      "execution_count": 64,
      "metadata": {
        "id": "HWl6cuLYoTzr",
        "outputId": "87b0eafc-9127-4961-9358-ab26e6d8c3cc"
      },
      "outputs": [
        {
          "name": "stdout",
          "output_type": "stream",
          "text": [
            "Mejor parámetro: {'C': 0.05}\n",
            "Matriz de confusión:\n",
            " [[336  82]\n",
            " [110  59]]\n",
            "Reporte de clasificación:\n",
            "              precision    recall  f1-score   support\n",
            "\n",
            "           0       0.75      0.80      0.78       418\n",
            "           1       0.42      0.35      0.38       169\n",
            "\n",
            "    accuracy                           0.67       587\n",
            "   macro avg       0.59      0.58      0.58       587\n",
            "weighted avg       0.66      0.67      0.66       587\n",
            "\n"
          ]
        }
      ],
      "source": [
        "bow_constructor = BagOfWords(weights_type=\"tf\", normalize=True)\n",
        "\n",
        "boe_emolex_tr_tf = bow_constructor.fit(tr_masked)\n",
        "boe_emolex_val_tf = bow_constructor.transform(val_masked)\n",
        "\n",
        "classifier_boe_emolex_tf, report_boe_emolex_tf = evaluate_bow(\n",
        "    boe_emolex_tr_tf, train_labels, boe_emolex_val_tf, val_labels\n",
        ")"
      ]
    },
    {
      "cell_type": "markdown",
      "metadata": {
        "id": "vNgyyl7VoTzr"
      },
      "source": [
        "Pesado TF-IDF normalizado"
      ]
    },
    {
      "cell_type": "code",
      "execution_count": 65,
      "metadata": {
        "id": "kC00lPTLoTzr",
        "outputId": "40b76904-a969-4924-decb-f9edcf279678"
      },
      "outputs": [
        {
          "name": "stdout",
          "output_type": "stream",
          "text": [
            "Mejor parámetro: {'C': 0.05}\n",
            "Matriz de confusión:\n",
            " [[328  90]\n",
            " [109  60]]\n",
            "Reporte de clasificación:\n",
            "              precision    recall  f1-score   support\n",
            "\n",
            "           0       0.75      0.78      0.77       418\n",
            "           1       0.40      0.36      0.38       169\n",
            "\n",
            "    accuracy                           0.66       587\n",
            "   macro avg       0.58      0.57      0.57       587\n",
            "weighted avg       0.65      0.66      0.65       587\n",
            "\n"
          ]
        }
      ],
      "source": [
        "bow_constructor = BagOfWords(weights_type=\"tfidf\", normalize=True)\n",
        "\n",
        "boe_emolex_tr_tfidf = bow_constructor.fit(tr_masked)\n",
        "boe_emolex_val_tfidf = bow_constructor.transform(val_masked)\n",
        "\n",
        "classifier_boe_emolex_tfidf, report_boe_emolex_tfidf = evaluate_bow(\n",
        "    boe_emolex_tr_tfidf, train_labels, boe_emolex_val_tfidf, val_labels\n",
        ")"
      ]
    },
    {
      "cell_type": "markdown",
      "metadata": {},
      "source": [
        "Tabla comparativa"
      ]
    },
    {
      "cell_type": "code",
      "execution_count": 66,
      "metadata": {},
      "outputs": [
        {
          "data": {
            "text/markdown": [
              "\n",
              "| Esquema de pesado | Accuracy | Precision | Recall | F1-Score |\n",
              "|-------------------|----------|-----------|--------|----------|\n",
              "| Binario | 0.66 | 0.58 | 0.57 | 0.57 |\n",
              "| TF | 0.67 | 0.59 | 0.58 | 0.58 |\n",
              "| TF-IDF | 0.66 | 0.58 | 0.57 | 0.57 |\n"
            ],
            "text/plain": [
              "<IPython.core.display.Markdown object>"
            ]
          },
          "metadata": {},
          "output_type": "display_data"
        }
      ],
      "source": [
        "display(\n",
        "    Markdown(\n",
        "        f\"\"\"\n",
        "| Esquema de pesado | Accuracy | Precision | Recall | F1-Score |\n",
        "|-------------------|----------|-----------|--------|----------|\n",
        "| Binario | {report_boe_emolex_bin['accuracy']:.2f} | {report_boe_emolex_bin['macro avg']['precision']:.2f} | {report_boe_emolex_bin['macro avg']['recall']:.2f} | {report_boe_emolex_bin['macro avg']['f1-score']:.2f} |\n",
        "| TF | {report_boe_emolex_tf['accuracy']:.2f} | {report_boe_emolex_tf['macro avg']['precision']:.2f} | {report_boe_emolex_tf['macro avg']['recall']:.2f} | {report_boe_emolex_tf['macro avg']['f1-score']:.2f} |\n",
        "| TF-IDF | {report_boe_emolex_tfidf['accuracy']:.2f} | {report_boe_emolex_tfidf['macro avg']['precision']:.2f} | {report_boe_emolex_tfidf['macro avg']['recall']:.2f} | {report_boe_emolex_tfidf['macro avg']['f1-score']:.2f} |\n",
        "\"\"\"\n",
        "    )\n",
        ")"
      ]
    },
    {
      "cell_type": "markdown",
      "metadata": {
        "id": "UDrYbL29oTzr"
      },
      "source": [
        "# 3- Recurso Lingüístico de Emociones Mexicano"
      ]
    },
    {
      "cell_type": "markdown",
      "metadata": {
        "id": "C869ImK3oTzr"
      },
      "source": [
        "### 3.1- Utilice el recurso léxico llamado [\"Spanish Emotion Lexicon (SEL)\"](https://www.cic.ipn.mx/~sidorov/#SEL) del Dr. Grigori Sidorov, profesor del Centro de Investigación en Computación (CIC) del Instituto Politécnico Nacional, para enmascarar cada palabra con su emoción, y después construir la Bolsa de Emociones con algún pesado (e.g., binario, TF, TF-IDF). Proponga alguna estrategia para incorporar el \"valor\" del \"Probability Factor of Affective use\" en su representación vectorial del documento. Evalúa y escribe una tabla comparativa a modo de resumen con al menos tres pesados: binario, frecuencia, TF-IDF. Normalize cada pesado según lo crea conveniente."
      ]
    },
    {
      "cell_type": "markdown",
      "metadata": {},
      "source": [
        "Leemos el archivo que contiene SEL mediante Pandas"
      ]
    },
    {
      "cell_type": "code",
      "execution_count": 67,
      "metadata": {
        "id": "i4ZVLPPEoTzr",
        "outputId": "0a8900fd-20e4-4da6-e87e-f1b4104b46f5"
      },
      "outputs": [
        {
          "data": {
            "text/html": [
              "<div>\n",
              "<style scoped>\n",
              "    .dataframe tbody tr th:only-of-type {\n",
              "        vertical-align: middle;\n",
              "    }\n",
              "\n",
              "    .dataframe tbody tr th {\n",
              "        vertical-align: top;\n",
              "    }\n",
              "\n",
              "    .dataframe thead th {\n",
              "        text-align: right;\n",
              "    }\n",
              "</style>\n",
              "<table border=\"1\" class=\"dataframe\">\n",
              "  <thead>\n",
              "    <tr style=\"text-align: right;\">\n",
              "      <th></th>\n",
              "      <th>Palabra</th>\n",
              "      <th>PFA</th>\n",
              "      <th>Categoría</th>\n",
              "    </tr>\n",
              "  </thead>\n",
              "  <tbody>\n",
              "    <tr>\n",
              "      <th>2026</th>\n",
              "      <td>tétrico</td>\n",
              "      <td>0.199</td>\n",
              "      <td>Tristeza</td>\n",
              "    </tr>\n",
              "    <tr>\n",
              "      <th>2027</th>\n",
              "      <td>tormento</td>\n",
              "      <td>0.530</td>\n",
              "      <td>Tristeza</td>\n",
              "    </tr>\n",
              "    <tr>\n",
              "      <th>2028</th>\n",
              "      <td>triste</td>\n",
              "      <td>0.966</td>\n",
              "      <td>Tristeza</td>\n",
              "    </tr>\n",
              "    <tr>\n",
              "      <th>2029</th>\n",
              "      <td>tristemente</td>\n",
              "      <td>0.966</td>\n",
              "      <td>Tristeza</td>\n",
              "    </tr>\n",
              "    <tr>\n",
              "      <th>2030</th>\n",
              "      <td>tristeza</td>\n",
              "      <td>0.966</td>\n",
              "      <td>Tristeza</td>\n",
              "    </tr>\n",
              "    <tr>\n",
              "      <th>2031</th>\n",
              "      <td>trizas</td>\n",
              "      <td>0.464</td>\n",
              "      <td>Tristeza</td>\n",
              "    </tr>\n",
              "    <tr>\n",
              "      <th>2032</th>\n",
              "      <td>vejación</td>\n",
              "      <td>0.297</td>\n",
              "      <td>Tristeza</td>\n",
              "    </tr>\n",
              "    <tr>\n",
              "      <th>2033</th>\n",
              "      <td>vejar</td>\n",
              "      <td>0.396</td>\n",
              "      <td>Tristeza</td>\n",
              "    </tr>\n",
              "    <tr>\n",
              "      <th>2034</th>\n",
              "      <td>vergonzoso</td>\n",
              "      <td>0.231</td>\n",
              "      <td>Tristeza</td>\n",
              "    </tr>\n",
              "    <tr>\n",
              "      <th>2035</th>\n",
              "      <td>zangarriana</td>\n",
              "      <td>0.530</td>\n",
              "      <td>Tristeza</td>\n",
              "    </tr>\n",
              "  </tbody>\n",
              "</table>\n",
              "</div>"
            ],
            "text/plain": [
              "           Palabra    PFA Categoría\n",
              "2026       tétrico  0.199  Tristeza\n",
              "2027      tormento  0.530  Tristeza\n",
              "2028        triste  0.966  Tristeza\n",
              "2029   tristemente  0.966  Tristeza\n",
              "2030      tristeza  0.966  Tristeza\n",
              "2031        trizas  0.464  Tristeza\n",
              "2032      vejación  0.297  Tristeza\n",
              "2033         vejar  0.396  Tristeza\n",
              "2034    vergonzoso  0.231  Tristeza\n",
              "2035  zangarriana   0.530  Tristeza"
            ]
          },
          "execution_count": 67,
          "metadata": {},
          "output_type": "execute_result"
        }
      ],
      "source": [
        "sel_path = base_path / \"SpanishEmotionLexicon\" / \"SEL.txt\"\n",
        "\n",
        "sel = pd.read_csv(sel_path, sep='\\t', encoding='latin1')\n",
        "\n",
        "sel.tail(10)"
      ]
    },
    {
      "cell_type": "code",
      "execution_count": 68,
      "metadata": {
        "id": "RVDL2GcZoTzr"
      },
      "outputs": [],
      "source": [
        "sel.rename(columns={\" PFA\": \"PFA\"}, inplace=True) # Quitamos el espacio en blanco del nombre de la columna"
      ]
    },
    {
      "cell_type": "markdown",
      "metadata": {},
      "source": [
        "Emociones consideradas:"
      ]
    },
    {
      "cell_type": "code",
      "execution_count": 69,
      "metadata": {
        "id": "BC-MECWvoTzr",
        "outputId": "2676e3a0-9de9-41d7-f1eb-d003ddea44a3"
      },
      "outputs": [
        {
          "data": {
            "text/plain": [
              "array(['Alegría', 'Enojo', 'Miedo', 'Repulsión', 'Sorpresa', 'Tristeza'],\n",
              "      dtype=object)"
            ]
          },
          "execution_count": 69,
          "metadata": {},
          "output_type": "execute_result"
        }
      ],
      "source": [
        "sel[\"Categoría\"].unique()"
      ]
    },
    {
      "cell_type": "markdown",
      "metadata": {},
      "source": [
        "Construimos un mapeo \"palabra\" -> (\"emoción\", PFA), donde el PFA es el Probability Factor of Affective use."
      ]
    },
    {
      "cell_type": "code",
      "execution_count": 70,
      "metadata": {
        "id": "_E2Z8kwcoTzr",
        "outputId": "7163c1d4-7d27-4914-880c-275b745579c5"
      },
      "outputs": [
        {
          "data": {
            "text/plain": [
              "[('abundancia', ('Alegría', 0.83)),\n",
              " ('acabalar', ('Alegría', 0.396)),\n",
              " ('acallar', ('Alegría', 0.198)),\n",
              " ('acatar', ('Alegría', 0.198)),\n",
              " ('acción', ('Alegría', 0.397))]"
            ]
          },
          "execution_count": 70,
          "metadata": {},
          "output_type": "execute_result"
        }
      ],
      "source": [
        "word_to_emotion_sel = {\n",
        "    row[\"Palabra\"]: (row[\"Categoría\"], row[\"PFA\"])\n",
        "    for _, row in sel.iterrows()\n",
        "}\n",
        "\n",
        "list(word_to_emotion_sel.items())[:5]"
      ]
    },
    {
      "cell_type": "markdown",
      "metadata": {},
      "source": [
        "Obtenemos las máscaras de los tweets"
      ]
    },
    {
      "cell_type": "code",
      "execution_count": 71,
      "metadata": {
        "id": "hLE1RIlqoTzs"
      },
      "outputs": [],
      "source": [
        "tr_masked = [\n",
        "    [word_to_emotion_sel[token][0] for token in doc if token in word_to_emotion_sel]\n",
        "    for doc in tr_lemmas\n",
        "]\n",
        "val_masked = [\n",
        "    [word_to_emotion_sel[token][0] for token in doc if token in word_to_emotion_sel]\n",
        "    for doc in val_lemmas\n",
        "]"
      ]
    },
    {
      "cell_type": "markdown",
      "metadata": {},
      "source": [
        "Las siguientes funciones realizan lo siguiente:\n",
        "1.  ``get_pfa_matrix``: construir una matriz con entradas PFA_ij, la suma de los PFA de cada palabra en el tweet i que asociada a la emoción j.\n",
        "2.  ``merge_boe_and_pfa``: dada la matriz PFA y la matriz BoE, se hace la multiplicación entrada por entrada (*element wise*) de ambas matrices, y se normaliza cada renglón de la matriz resultante."
      ]
    },
    {
      "cell_type": "code",
      "execution_count": 72,
      "metadata": {
        "id": "cRRZxznvoTzs"
      },
      "outputs": [],
      "source": [
        "def get_pfa_matrix(docs: list[list[str]], emotions_order: dict[str, int]) -> np.ndarray:\n",
        "    \"\"\" Function to construct the PFA matrix. emotions_order is the map \"emotion\" -> \"column index\"\n",
        "    \"\"\"\n",
        "    pfa_matrix = np.zeros((len(docs), len(emotions_order)))\n",
        "\n",
        "    for i, doc in enumerate(docs):\n",
        "        for token in doc:\n",
        "            if token in word_to_emotion_sel:\n",
        "                emotion, pfa = word_to_emotion_sel[token]\n",
        "                pfa_matrix[i, emotions_order[emotion]] += pfa\n",
        "\n",
        "    return pfa_matrix\n",
        "\n",
        "def merge_boe_and_pfa(docs: list[list[str]], boe_matrix: np.ndarray, emotions_order: dict[str, int]) -> np.ndarray:\n",
        "    \"\"\" Function to merge BoE and PFA matrices, which is the element-wise product of both matrices and normalize each row\n",
        "    \"\"\"\n",
        "    pfa_matrix = get_pfa_matrix(docs, emotions_order)\n",
        "\n",
        "    merged = boe_matrix*pfa_matrix # element wise product\n",
        "\n",
        "    # normalize each row\n",
        "    for i in range(merged.shape[0]):\n",
        "        merged[i] = normalize_vector(merged[i])\n",
        "\n",
        "    return merged\n"
      ]
    },
    {
      "cell_type": "markdown",
      "metadata": {
        "id": "6UNmYFkAoTzs"
      },
      "source": [
        "Evaluación de BOE con pesado Binario"
      ]
    },
    {
      "cell_type": "code",
      "execution_count": 73,
      "metadata": {
        "id": "UpJj2tOJoTzs"
      },
      "outputs": [],
      "source": [
        "# Bag of Emotions (BoE) construction\n",
        "bow_constructor = BagOfWords(weights_type=\"binary\", normalize=True)\n",
        "\n",
        "boe_sel_tr_bin = bow_constructor.fit(tr_masked)\n",
        "boe_sel_val_bin = bow_constructor.transform(val_masked)\n",
        "\n",
        "# add Probability Factor of Affective use (PFA) to the BoE matrix\n",
        "boe_pfa_tr_bin = merge_boe_and_pfa(tr_lemmas, boe_sel_tr_bin, bow_constructor.vocab_order)\n",
        "boe_pfa_val_bin = merge_boe_and_pfa(val_lemmas, boe_sel_val_bin, bow_constructor.vocab_order)"
      ]
    },
    {
      "cell_type": "code",
      "execution_count": 74,
      "metadata": {
        "id": "vrRh1htooTzs"
      },
      "outputs": [
        {
          "name": "stdout",
          "output_type": "stream",
          "text": [
            "Mejor parámetro: {'C': 2}\n",
            "Matriz de confusión:\n",
            " [[166 252]\n",
            " [ 60 109]]\n",
            "Reporte de clasificación:\n",
            "              precision    recall  f1-score   support\n",
            "\n",
            "           0       0.73      0.40      0.52       418\n",
            "           1       0.30      0.64      0.41       169\n",
            "\n",
            "    accuracy                           0.47       587\n",
            "   macro avg       0.52      0.52      0.46       587\n",
            "weighted avg       0.61      0.47      0.49       587\n",
            "\n"
          ]
        }
      ],
      "source": [
        "classifier_boe_pfa_bin, report_boe_pfa_bin = evaluate_bow(\n",
        "    boe_pfa_tr_bin, train_labels, boe_pfa_val_bin, val_labels\n",
        ")"
      ]
    },
    {
      "cell_type": "markdown",
      "metadata": {
        "id": "ATOQEa8yoTzs"
      },
      "source": [
        "Evaluación de BOE con pesado de frecuencia"
      ]
    },
    {
      "cell_type": "code",
      "execution_count": 75,
      "metadata": {
        "id": "U-nIGoIOoTzs",
        "outputId": "9c2bedf1-6236-4881-ba1b-aad27d09f157"
      },
      "outputs": [
        {
          "name": "stdout",
          "output_type": "stream",
          "text": [
            "Mejor parámetro: {'C': 4}\n",
            "Matriz de confusión:\n",
            " [[166 252]\n",
            " [ 60 109]]\n",
            "Reporte de clasificación:\n",
            "              precision    recall  f1-score   support\n",
            "\n",
            "           0       0.73      0.40      0.52       418\n",
            "           1       0.30      0.64      0.41       169\n",
            "\n",
            "    accuracy                           0.47       587\n",
            "   macro avg       0.52      0.52      0.46       587\n",
            "weighted avg       0.61      0.47      0.49       587\n",
            "\n"
          ]
        }
      ],
      "source": [
        "bow_constructor = BagOfWords(weights_type=\"tf\", normalize=True)\n",
        "\n",
        "boe_sel_tr_tf = bow_constructor.fit(tr_masked)\n",
        "boe_sel_val_tf = bow_constructor.transform(val_masked)\n",
        "\n",
        "# add Probability Factor of Affective use (PFA) to the BoE matrix\n",
        "boe_pfa_tr_tf = merge_boe_and_pfa(tr_lemmas, boe_sel_tr_tf, bow_constructor.vocab_order)\n",
        "boe_pfa_val_tf = merge_boe_and_pfa(val_lemmas, boe_sel_val_tf, bow_constructor.vocab_order)\n",
        "\n",
        "classifier_boe_pfa_tf, report_boe_pfa_tf = evaluate_bow(\n",
        "    boe_pfa_tr_tf, train_labels, boe_pfa_val_tf, val_labels\n",
        ")"
      ]
    },
    {
      "cell_type": "markdown",
      "metadata": {
        "id": "Mv4-N0eaoTzt"
      },
      "source": [
        "Evaluación de BOE con pesado TF-IDF"
      ]
    },
    {
      "cell_type": "code",
      "execution_count": 76,
      "metadata": {
        "id": "xVYvPz9SoTzt",
        "outputId": "c21786af-09d1-428f-bd91-d0bd89262a5e"
      },
      "outputs": [
        {
          "name": "stdout",
          "output_type": "stream",
          "text": [
            "Mejor parámetro: {'C': 2}\n",
            "Matriz de confusión:\n",
            " [[161 257]\n",
            " [ 57 112]]\n",
            "Reporte de clasificación:\n",
            "              precision    recall  f1-score   support\n",
            "\n",
            "           0       0.74      0.39      0.51       418\n",
            "           1       0.30      0.66      0.42       169\n",
            "\n",
            "    accuracy                           0.47       587\n",
            "   macro avg       0.52      0.52      0.46       587\n",
            "weighted avg       0.61      0.47      0.48       587\n",
            "\n"
          ]
        }
      ],
      "source": [
        "bow_constructor = BagOfWords(weights_type=\"tfidf\", normalize=True)\n",
        "\n",
        "boe_sel_tr_tfidf = bow_constructor.fit(tr_masked)\n",
        "boe_sel_val_tfidf = bow_constructor.transform(val_masked)\n",
        "\n",
        "# add Probability Factor of Affective use (PFA) to the BoE matrix\n",
        "boe_pfa_tr_tfidf = merge_boe_and_pfa(tr_lemmas, boe_sel_tr_tfidf, bow_constructor.vocab_order)\n",
        "boe_pfa_val_tfidf = merge_boe_and_pfa(val_lemmas, boe_sel_val_tfidf, bow_constructor.vocab_order)\n",
        "\n",
        "classifier_boe_pfa_tfidf, report_boe_pfa_tfidf = evaluate_bow(\n",
        "    boe_pfa_tr_tfidf, train_labels, boe_pfa_val_tfidf, val_labels\n",
        ")"
      ]
    },
    {
      "cell_type": "markdown",
      "metadata": {},
      "source": [
        "Tabla comparativa"
      ]
    },
    {
      "cell_type": "code",
      "execution_count": 77,
      "metadata": {},
      "outputs": [
        {
          "data": {
            "text/markdown": [
              "\n",
              "| Esquema de pesado | Accuracy | Precision | Recall | F1-Score |\n",
              "|-------------------|----------|-----------|--------|----------|\n",
              "| Binario | 0.47 | 0.52 | 0.52 | 0.46 |\n",
              "| TF | 0.47 | 0.52 | 0.52 | 0.46 |\n",
              "| TF-IDF | 0.47 | 0.52 | 0.52 | 0.46 |\n"
            ],
            "text/plain": [
              "<IPython.core.display.Markdown object>"
            ]
          },
          "metadata": {},
          "output_type": "display_data"
        }
      ],
      "source": [
        "display(\n",
        "    Markdown(\n",
        "        f\"\"\"\n",
        "| Esquema de pesado | Accuracy | Precision | Recall | F1-Score |\n",
        "|-------------------|----------|-----------|--------|----------|\n",
        "| Binario | {report_boe_pfa_bin['accuracy']:.2f} | {report_boe_pfa_bin['macro avg']['precision']:.2f} | {report_boe_pfa_bin['macro avg']['recall']:.2f} | {report_boe_pfa_bin['macro avg']['f1-score']:.2f} |\n",
        "| TF | {report_boe_pfa_tf['accuracy']:.2f} | {report_boe_pfa_tf['macro avg']['precision']:.2f} | {report_boe_pfa_tf['macro avg']['recall']:.2f} | {report_boe_pfa_tf['macro avg']['f1-score']:.2f} |\n",
        "| TF-IDF | {report_boe_pfa_tfidf['accuracy']:.2f} | {report_boe_pfa_tfidf['macro avg']['precision']:.2f} | {report_boe_pfa_tfidf['macro avg']['recall']:.2f} | {report_boe_pfa_tfidf['macro avg']['f1-score']:.2f} |\n",
        "\"\"\"\n",
        "    )\n",
        ")"
      ]
    },
    {
      "cell_type": "markdown",
      "metadata": {
        "id": "xuUzp-GLoTzt"
      },
      "source": [
        "### 3.2- En un comentario aparte, discuta sobre la estrategía que utilizó para incorporar el \"Probability Factor of Affective use\". No más de 5 renglones."
      ]
    },
    {
      "cell_type": "markdown",
      "metadata": {
        "id": "VcVBJiA9oTzt"
      },
      "source": [
        "Para obtener la \"fuerza\" de asociación de un tweet con una emoción, podemos sumar el PFA de las palabras que están en el tweet (lematizadas) y que se relacionan con dicha emoción. Esto sería una BoE con una estrategia de pesado que generaliza a la del pesado con frecuencias (pues se obtiene cuando todas las relaciones \"palabra\" -> \"emoción\" tienen PFA igual a 1). Para obtener una mezcla de esta matriz PFA y la BoE usual, podemos multiplicar entrada por entrada ambas matrices. De esta manera, la entrada (i,j) de la matriz resultante es ``(suma_PFA)*(peso_BOE)``, lo cual es algo natural para establecer un peso final a la asociación del tweet i con la emoción j. Al final normalizamos cada renglón para que cada tweet tenga un vector unitario asociado."
      ]
    },
    {
      "cell_type": "markdown",
      "metadata": {
        "id": "sCYd-GWfoTzt"
      },
      "source": [
        "# 4- ¿Podemos mejorar con bigramas?"
      ]
    },
    {
      "cell_type": "markdown",
      "metadata": {
        "id": "nQLWNzIvoTzt"
      },
      "source": [
        "### 4.1- Hacer un experimento dónde concatene una buena BoW según sus experimentos anteriores con otra BoW construida a partir de los 1000 bigramas más frecuentes."
      ]
    },
    {
      "cell_type": "code",
      "execution_count": 78,
      "metadata": {},
      "outputs": [],
      "source": [
        "def bigrams(doc: list[str]) -> list[str]:\n",
        "    \"\"\" Function to get bigrams from a tokenized document\n",
        "    \"\"\"\n",
        "    \n",
        "    return [(doc[i], doc[i+1]) for i in range(len(doc)-1)]"
      ]
    },
    {
      "cell_type": "code",
      "execution_count": 79,
      "metadata": {
        "id": "DPE2TFzooTzt"
      },
      "outputs": [],
      "source": [
        "tr_bigrams = [list(bigrams(doc)) for doc in train_corpus_tk]\n",
        "val_bigrams = [list(bigrams(doc)) for doc in val_corpus_tk]"
      ]
    },
    {
      "cell_type": "markdown",
      "metadata": {},
      "source": [
        "BoW con los 1000 bigramas más frecuentes, usando pesado binario normalizado:"
      ]
    },
    {
      "cell_type": "code",
      "execution_count": 80,
      "metadata": {},
      "outputs": [],
      "source": [
        "bow_constructor = BagOfWords(weights_type=\"binary\", normalize=True, max_vocab_size=1000)\n",
        "\n",
        "bow_bigrams_tr = bow_constructor.fit(tr_bigrams)\n",
        "bow_bigrams_val = bow_constructor.transform(val_bigrams)"
      ]
    },
    {
      "cell_type": "markdown",
      "metadata": {},
      "source": [
        "Concatenamos y evaluamos"
      ]
    },
    {
      "cell_type": "code",
      "execution_count": 81,
      "metadata": {
        "id": "43d_FE4RoTzt",
        "outputId": "9e35e25b-7f26-4b19-f333-e2d064084b6e"
      },
      "outputs": [
        {
          "name": "stdout",
          "output_type": "stream",
          "text": [
            "Mejor parámetro: {'C': 0.25}\n",
            "Matriz de confusión:\n",
            " [[361  57]\n",
            " [ 41 128]]\n",
            "Reporte de clasificación:\n",
            "              precision    recall  f1-score   support\n",
            "\n",
            "           0       0.90      0.86      0.88       418\n",
            "           1       0.69      0.76      0.72       169\n",
            "\n",
            "    accuracy                           0.83       587\n",
            "   macro avg       0.79      0.81      0.80       587\n",
            "weighted avg       0.84      0.83      0.84       587\n",
            "\n"
          ]
        }
      ],
      "source": [
        "bow_terms_bigrams_tr = np.concatenate((bow_tr_bin_norm_2, bow_bigrams_tr), axis=1)\n",
        "bow_terms_bigrams_val = np.concatenate((bow_val_bin_norm_2, bow_bigrams_val), axis=1)\n",
        "\n",
        "classifier_terms_bigrams, report_terms_bigrams = evaluate_bow(\n",
        "    bow_terms_bigrams_tr, train_labels, bow_terms_bigrams_val, val_labels\n",
        ")"
      ]
    },
    {
      "cell_type": "markdown",
      "metadata": {
        "id": "sVEK5FVXoTzt"
      },
      "source": [
        "### 4.2- Hacer un experimento con las Bolsas de Emociones, Bolsa de Palabras y Bolsa de Bigramas; usted elige las dimensionalidades. Para construir la representación final del documento utilice la concatenación de las representaciones según sus observaciones (e.g., Bolsa de Palabras + Bolsa de Bigramas + Bolsa de Sentimientos de Canadá + Bolsa de Sentimientos de Grigori), y aliméntelas a un SVM."
      ]
    },
    {
      "cell_type": "markdown",
      "metadata": {},
      "source": [
        "En las diferentes bolsas de palabras, bigramas y emociones se consideró el pesado binario normalizado, pues tuvo buen desempeño en general en los experimentos realizados."
      ]
    },
    {
      "cell_type": "code",
      "execution_count": 83,
      "metadata": {
        "id": "6dkUQVefoTzu"
      },
      "outputs": [
        {
          "name": "stdout",
          "output_type": "stream",
          "text": [
            "Mejor parámetro: {'C': 0.5}\n",
            "Matriz de confusión:\n",
            " [[350  68]\n",
            " [ 41 128]]\n",
            "Reporte de clasificación:\n",
            "              precision    recall  f1-score   support\n",
            "\n",
            "           0       0.90      0.84      0.87       418\n",
            "           1       0.65      0.76      0.70       169\n",
            "\n",
            "    accuracy                           0.81       587\n",
            "   macro avg       0.77      0.80      0.78       587\n",
            "weighted avg       0.83      0.81      0.82       587\n",
            "\n"
          ]
        }
      ],
      "source": [
        "aug_matrix_tr = np.concatenate((bow_tr_bin_norm_2, bow_bigrams_tr, boe_emolex_tr_bin, boe_pfa_tr_bin), axis=1)\n",
        "aug_matrix_val = np.concatenate((bow_val_bin_norm_2, bow_bigrams_val, boe_emolex_val_bin, boe_pfa_val_bin), axis=1)\n",
        "\n",
        "classifier_terms_bigrams, report_terms_bigrams = evaluate_bow(\n",
        "    aug_matrix_tr, train_labels, aug_matrix_val, val_labels\n",
        ")"
      ]
    },
    {
      "cell_type": "markdown",
      "metadata": {
        "id": "0gKKVH1koTzu"
      },
      "source": [
        "### 4.3- Elabore conclusiones sobre toda esta Tarea, incluyendo observaciones, comentarios y posibles mejoras futuras. Discuta el comportamiento de la BoW de usar solo palabras a integrar bigramas, y luego a integrar todo. ¿Ayudó? o ¿empeoró?. Discuta también brevemente el costo computacional de los experimentos ¿Valió la pena tener todo?. Sea breve: todo en NO más de dos párrafos."
      ]
    },
    {
      "cell_type": "markdown",
      "metadata": {},
      "source": [
        "En los experimentos de la BoW con diferentes pesados se observó que los mejores para esta tarea fueron el pesado binario, binario normalizado y de frecuencias normalizado, con un accuracy del 83%, precision del 79%, recall del 81% y F1 score del 80%. Tomando en pesado binario normalizado como base, después se notó que con un número modesto de palabras en el vocabulario, tomando las 500 más frecuentes, se obtenían exactamente los mismos resultados. Por otro lado, al subir el número de palabras a 7000, empeoró en un punto porcentual el accuracy y el F1-score, por lo que no ayuda aumentar el vocabulario al menos para esta tarea. Tal vez este comportamiento se obtuvo debido a que nosotros NO consideramos stopwords, y de haberlas considerado tal vez sí hubieramos visto un cambio al aumentar el vocabulario (pues las palabras más frecuentes son stopwords).\n",
        "\n",
        "En cuento a las bolsas de emociones con EmoLex y SEL, vimos que obtenían métricas más bajas (accuracy de 66-67% con EmoLex y 47% con SEL). Esto es razonable pues ambos recursos léxicos no tenían tantas palabras mapeadas a una emoción, lo que hacía que un tweet (que tiene en general pocas palabras) tenga muy pocas emociones asociadas e incluso muchos tweets sin ninguna emoción asociada. Finalmente, al concatenar la BoW con los bigramas y también con las bolsas de emociones, se observó que se seguían obteniendo métricas similares a la BoW normal con 500 palabras en el vocabulario. Por lo que no valió la pena integrar estos acercamientos extras para resolver el problema. El costo computacional aumentaba mucho conforme aumentaba la dimensión, por ejemplo cuando consideramos 7000 palabras el modelo se entrenó en local durante 80 minutos. Mientras que con 500 palabras se entrenaba en 1 minuto y ya se obtenían las mejores métricas de entre todos estos experimentos."
      ]
    }
  ],
  "metadata": {
    "colab": {
      "provenance": []
    },
    "kernelspec": {
      "display_name": ".venv",
      "language": "python",
      "name": "python3"
    },
    "language_info": {
      "codemirror_mode": {
        "name": "ipython",
        "version": 3
      },
      "file_extension": ".py",
      "mimetype": "text/x-python",
      "name": "python",
      "nbconvert_exporter": "python",
      "pygments_lexer": "ipython3",
      "version": "3.9.6"
    }
  },
  "nbformat": 4,
  "nbformat_minor": 0
}
