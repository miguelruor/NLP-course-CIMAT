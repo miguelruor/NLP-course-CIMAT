{
  "cells": [
    {
      "cell_type": "markdown",
      "metadata": {
        "id": "WDA4-cpEZuEw"
      },
      "source": [
        "# Miguel Angel Ruiz Ortiz\n",
        "## Procesamiento de Lenguaje Natural\n",
        "## Tarea 1: Librería NLTK"
      ]
    },
    {
      "cell_type": "markdown",
      "metadata": {
        "id": "u3eFrDM5ctPB"
      },
      "source": [
        "### Esta tarea SÍ agrega las conferencias mañaneras de la presidenta Sheinbaum."
      ]
    },
    {
      "cell_type": "markdown",
      "metadata": {
        "id": "-oWdu9hDZuEx"
      },
      "source": [
        "Liga a conferencias matutinas de AMLO y Sheinbaum: [link de Google Drive](https://drive.google.com/drive/folders/1-9NH3M9vvze0rpR67_ZvoWYqWQcyQDA2?usp=sharing)"
      ]
    },
    {
      "cell_type": "code",
      "execution_count": 4,
      "metadata": {
        "id": "l7c49vFyZuEy"
      },
      "outputs": [],
      "source": [
        "from pathlib import Path\n",
        "import nltk\n",
        "import matplotlib.pyplot as plt"
      ]
    },
    {
      "cell_type": "code",
      "execution_count": 5,
      "metadata": {
        "colab": {
          "base_uri": "https://localhost:8080/"
        },
        "id": "xcVzVz7sawii",
        "outputId": "6dde49d9-fb3e-4b4a-d7dd-dbad4ea1534b"
      },
      "outputs": [
        {
          "name": "stdout",
          "output_type": "stream",
          "text": [
            "Mounted at /content/drive\n"
          ]
        }
      ],
      "source": [
        "from google.colab import drive\n",
        "drive.mount(\"/content/drive\")"
      ]
    },
    {
      "cell_type": "markdown",
      "metadata": {
        "id": "gwrB1N1ac7UW"
      },
      "source": [
        "## 1- Cargar corpus"
      ]
    },
    {
      "cell_type": "code",
      "execution_count": 6,
      "metadata": {
        "id": "gYxqyYZgZuEy"
      },
      "outputs": [],
      "source": [
        "amlo_conferences_path = Path(\"/content/drive/My Drive/Academic Stuff/NLP (CIMAT)/corpus/conferencias-presidencia-mx/conferencias-amlo\")\n",
        "sheinbaum_conferences_path = Path(\"/content/drive/My Drive/Academic Stuff/NLP (CIMAT)/corpus/conferencias-presidencia-mx/conferencias-sheinbaum\")"
      ]
    },
    {
      "cell_type": "markdown",
      "metadata": {
        "id": "2L_77SmPh9ch"
      },
      "source": [
        "Vamos a cargar el corpus de las conferencias en un diccionario { fecha : conferencia } para acceder a la conferencia de una fecha dada."
      ]
    },
    {
      "cell_type": "code",
      "execution_count": 28,
      "metadata": {
        "id": "8vXaL6ztQ-8Y"
      },
      "outputs": [],
      "source": [
        "def get_file_paths(dir_path: Path) -> list[str]:\n",
        "    \"\"\"\n",
        "      Get file paths from a given directory\n",
        "    \"\"\"\n",
        "    return list(dir_path.glob(\"*.txt\"))"
      ]
    },
    {
      "cell_type": "code",
      "execution_count": 29,
      "metadata": {
        "id": "EvziH0DnZuEz"
      },
      "outputs": [],
      "source": [
        "def get_corpus(file_paths: list[Path]) -> dict[str, str]:\n",
        "    \"\"\"\n",
        "    Get corpus from a list of file paths, with .txt files, as a dictionary { file name -> file content }\n",
        "    \"\"\"\n",
        "    corpus = {}\n",
        "\n",
        "    for file in file_paths:\n",
        "      with open(file, \"r\", encoding=\"utf-8\") as f:\n",
        "        filename, _ = file.name.split(\".\") # we quit extension .txt from file name\n",
        "        corpus[filename] = f.read()\n",
        "\n",
        "    return corpus"
      ]
    },
    {
      "cell_type": "code",
      "execution_count": 30,
      "metadata": {
        "id": "OdOUKV5BRjMx"
      },
      "outputs": [],
      "source": [
        "amlo_filenames = get_file_paths(amlo_conferences_path)\n",
        "shein_filenames = get_file_paths(sheinbaum_conferences_path)"
      ]
    },
    {
      "cell_type": "code",
      "execution_count": 31,
      "metadata": {
        "colab": {
          "base_uri": "https://localhost:8080/"
        },
        "id": "h2_o4xEEYsrs",
        "outputId": "254beac4-267b-4c02-c916-0d0bed2c8542"
      },
      "outputs": [
        {
          "name": "stdout",
          "output_type": "stream",
          "text": [
            "AMLO: 1370 conferencias\n",
            "Sheinbaum: 79 conferencias\n"
          ]
        }
      ],
      "source": [
        "print(f\"AMLO: {len(amlo_filenames)} conferencias\")\n",
        "print(f\"Sheinbaum: {len(shein_filenames)} conferencias\")"
      ]
    },
    {
      "cell_type": "markdown",
      "metadata": {
        "id": "ttYtuILnpdzu"
      },
      "source": [
        "Sólo consideramos las últimas 500 conferenciasm de AMLO, porque con el dataset completo se crashea la sesión por utilizar toda la RAM."
      ]
    },
    {
      "cell_type": "code",
      "execution_count": 32,
      "metadata": {
        "id": "cXKwYUQPRp5K"
      },
      "outputs": [],
      "source": [
        "amlo_filenames.sort(key = lambda path: path.name)\n",
        "amlo_filenames = amlo_filenames[-500:]"
      ]
    },
    {
      "cell_type": "markdown",
      "metadata": {
        "id": "buTNg5aRSUxX"
      },
      "source": [
        "Cargamos las conferencias"
      ]
    },
    {
      "cell_type": "code",
      "execution_count": 33,
      "metadata": {
        "id": "gZxuH6HrZuEz"
      },
      "outputs": [],
      "source": [
        "amlo_corpus = get_corpus(amlo_filenames)\n",
        "shein_corpus = get_corpus(shein_filenames)"
      ]
    },
    {
      "cell_type": "code",
      "execution_count": 34,
      "metadata": {
        "colab": {
          "base_uri": "https://localhost:8080/"
        },
        "id": "z1ZB1g4mZuE1",
        "outputId": "3b120cd8-aaf0-47f5-fcf0-98c86bc08980"
      },
      "outputs": [
        {
          "data": {
            "text/plain": [
              "['2022-07-05', '2022-07-06', '2022-07-07', '2022-07-08', '2022-07-11']"
            ]
          },
          "execution_count": 34,
          "metadata": {},
          "output_type": "execute_result"
        }
      ],
      "source": [
        "list(amlo_corpus.keys())[:5]"
      ]
    },
    {
      "cell_type": "markdown",
      "metadata": {
        "id": "kDprStecheZH"
      },
      "source": [
        "Fechas ordenadas:"
      ]
    },
    {
      "cell_type": "code",
      "execution_count": 36,
      "metadata": {
        "id": "65qHIeQTftZl"
      },
      "outputs": [],
      "source": [
        "conferences_dates = list(amlo_corpus.keys())\n",
        "conferences_dates_shein = list(shein_corpus.keys())\n",
        "conferences_dates.sort()\n",
        "conferences_dates_shein.sort()"
      ]
    },
    {
      "cell_type": "markdown",
      "metadata": {
        "id": "Z3HuGSnPdCJo"
      },
      "source": [
        "## 2- Vistazo a los datos"
      ]
    },
    {
      "cell_type": "markdown",
      "metadata": {
        "id": "qhIYNB8teQxu"
      },
      "source": [
        "### 2.1- Cargue todas las conferencias en un string y aplique la función split para generar tokens fácilmente."
      ]
    },
    {
      "cell_type": "markdown",
      "metadata": {
        "id": "xYghDdFqhz-x"
      },
      "source": [
        "La siguiente función toma el corpus como diccionario y la lista de fechas de las conferencias ordenadas de manera cronológica, para poder cargar en una única string (con el método ``.join()``) las conferencias en el orden dado por la lista."
      ]
    },
    {
      "cell_type": "code",
      "execution_count": 37,
      "metadata": {
        "id": "92arGrPJfFKD"
      },
      "outputs": [],
      "source": [
        "def get_corpus_as_string(corpus: dict[str, str], key_order: list[str]) -> str:\n",
        "  \"\"\"\n",
        "  It transforms corpus given as a dictionary { key -> value } into a single string, concatenating the values in the order specified by the list of keys key_order.\n",
        "  \"\"\"\n",
        "  return \"\".join([corpus[key] for key in key_order])"
      ]
    },
    {
      "cell_type": "markdown",
      "metadata": {
        "id": "8lCt1v5_ioUi"
      },
      "source": [
        "Conferencias en una string, e imprimimos los primeros 500 caracteres."
      ]
    },
    {
      "cell_type": "code",
      "execution_count": 38,
      "metadata": {
        "id": "ZoKeK0YUeegn"
      },
      "outputs": [],
      "source": [
        "amlo_corpus_str = get_corpus_as_string(amlo_corpus, conferences_dates)\n",
        "shein_corpus_str = get_corpus_as_string(shein_corpus, conferences_dates_shein)"
      ]
    },
    {
      "cell_type": "markdown",
      "metadata": {
        "id": "5r1vFlbvOMPQ"
      },
      "source": [
        "AMLO:"
      ]
    },
    {
      "cell_type": "code",
      "execution_count": 39,
      "metadata": {
        "colab": {
          "base_uri": "https://localhost:8080/"
        },
        "id": "9WWF2SHaNtNr",
        "outputId": "499e3fa3-e3e8-4828-c825-fbba1a5d6210"
      },
      "outputs": [
        {
          "name": "stdout",
          "output_type": "stream",
          "text": [
            "05.07.22 Versión estenográfica de la conferencia de prensa matutina del presidente Andrés Manuel López Obrador\n",
            "\n",
            "2022: Año de Ricardo Flores Magón, precursor de la Revolución Mexicana\n",
            " \n",
            "\n",
            "PRESIDENTE ANDRÉS MANUEL LÓPEZ OBRADOR: Buenos días. Ánimo.\n",
            "Bueno, vamos a informar, como todos los martes, sobre la situación de salud.\n",
            "También quedamos en informar sobre el agua en Nuevo León. Va a intervenir el ingeniero Germán Martínez Santoyo, director de Conagua, porque un compañero de ustedes nos pidió inf\n"
          ]
        }
      ],
      "source": [
        "print(amlo_corpus_str[:500])"
      ]
    },
    {
      "cell_type": "markdown",
      "metadata": {
        "id": "Kl-hzyAQOOKB"
      },
      "source": [
        "Sheinbaum:"
      ]
    },
    {
      "cell_type": "code",
      "execution_count": 40,
      "metadata": {
        "colab": {
          "base_uri": "https://localhost:8080/"
        },
        "id": "5YmGw3zLN5-C",
        "outputId": "f49a7668-8259-4525-cfcd-042ce86748ee"
      },
      "outputs": [
        {
          "name": "stdout",
          "output_type": "stream",
          "text": [
            "Versión estenográfica. Conferencia de prensa de la presidenta Claudia Sheinbaum Pardo, del 2 de octubre de 2024\n",
            " \n",
            "PRESIDENTA CLAUDIA SHEINBAUM PARDO: Buenos días. ¿Cómo están? Casa llena. Muy buenos días a todos, a todas.\n",
            "El día de hoy, primera mañanera del pueblo en el Segundo Piso de la Cuarta Transformación, lo vamos a dedicar al 2 de octubre, 2 de octubre no se olvida. Hace 56 años, en la plaza de Tlatelolco, después de un movimiento estudiantil que lo que pedía era libertad, democracia, lib\n"
          ]
        }
      ],
      "source": [
        "print(shein_corpus_str[:500])"
      ]
    },
    {
      "cell_type": "markdown",
      "metadata": {
        "id": "YbM4i9xvjJIJ"
      },
      "source": [
        "Obtenemos tokens con el método ``.split()``."
      ]
    },
    {
      "cell_type": "code",
      "execution_count": 41,
      "metadata": {
        "id": "pd2gKS8DjMvt"
      },
      "outputs": [],
      "source": [
        "amlo_tokens = amlo_corpus_str.split()\n",
        "shein_tokens = shein_corpus_str.split()"
      ]
    },
    {
      "cell_type": "markdown",
      "metadata": {
        "id": "ayzCaEsfORzv"
      },
      "source": [
        "Primeros 10 tokens de conferencias de AMLO:"
      ]
    },
    {
      "cell_type": "code",
      "execution_count": 42,
      "metadata": {
        "colab": {
          "base_uri": "https://localhost:8080/"
        },
        "id": "KBwqiBRmjS0N",
        "outputId": "787e7c55-1ecb-4568-f44c-717a693a5fc7"
      },
      "outputs": [
        {
          "data": {
            "text/plain": [
              "['05.07.22',\n",
              " 'Versión',\n",
              " 'estenográfica',\n",
              " 'de',\n",
              " 'la',\n",
              " 'conferencia',\n",
              " 'de',\n",
              " 'prensa',\n",
              " 'matutina',\n",
              " 'del']"
            ]
          },
          "execution_count": 42,
          "metadata": {},
          "output_type": "execute_result"
        }
      ],
      "source": [
        "amlo_tokens[:10]"
      ]
    },
    {
      "cell_type": "markdown",
      "metadata": {
        "id": "TJOvIP6oOVGP"
      },
      "source": [
        "Primeros 10 tokens de conferencias de Sheinbaum:"
      ]
    },
    {
      "cell_type": "code",
      "execution_count": 43,
      "metadata": {
        "colab": {
          "base_uri": "https://localhost:8080/"
        },
        "id": "c5XmlQsnN1c2",
        "outputId": "c561d6da-ac32-4232-ba4e-ad8ccb2e8327"
      },
      "outputs": [
        {
          "data": {
            "text/plain": [
              "['Versión',\n",
              " 'estenográfica.',\n",
              " 'Conferencia',\n",
              " 'de',\n",
              " 'prensa',\n",
              " 'de',\n",
              " 'la',\n",
              " 'presidenta',\n",
              " 'Claudia',\n",
              " 'Sheinbaum']"
            ]
          },
          "execution_count": 43,
          "metadata": {},
          "output_type": "execute_result"
        }
      ],
      "source": [
        "shein_tokens[:10]"
      ]
    },
    {
      "cell_type": "markdown",
      "metadata": {
        "id": "lOmmPDZPitKL"
      },
      "source": [
        "### 2.2- Contar la cantidad de palabras en todas las conferencias."
      ]
    },
    {
      "cell_type": "markdown",
      "metadata": {
        "id": "nb-oG6CPOYbe"
      },
      "source": [
        "AMLO:"
      ]
    },
    {
      "cell_type": "code",
      "execution_count": 44,
      "metadata": {
        "colab": {
          "base_uri": "https://localhost:8080/"
        },
        "id": "nOS3UkHEi55K",
        "outputId": "6b32d9f3-c011-4758-aa4b-f79ad38c5431"
      },
      "outputs": [
        {
          "name": "stdout",
          "output_type": "stream",
          "text": [
            "Cantidad de palabras en todas las conferencias de AMLO: 6615760\n"
          ]
        }
      ],
      "source": [
        "N_amlo = len(amlo_tokens)\n",
        "print(\"Cantidad de palabras en todas las conferencias de AMLO:\", N_amlo)"
      ]
    },
    {
      "cell_type": "markdown",
      "metadata": {
        "id": "yAHByt2yOaUn"
      },
      "source": [
        "Sheinbaum:"
      ]
    },
    {
      "cell_type": "code",
      "execution_count": 45,
      "metadata": {
        "colab": {
          "base_uri": "https://localhost:8080/"
        },
        "id": "XQkYNqijObN5",
        "outputId": "defe7c8c-3bcc-456c-a7b5-bc4b77ebe860"
      },
      "outputs": [
        {
          "name": "stdout",
          "output_type": "stream",
          "text": [
            "Cantidad de palabras en todas las conferencias de Sheinbaum: 984761\n"
          ]
        }
      ],
      "source": [
        "N_shein = len(shein_tokens)\n",
        "print(\"Cantidad de palabras en todas las conferencias de Sheinbaum:\", N_shein)"
      ]
    },
    {
      "cell_type": "markdown",
      "metadata": {
        "id": "TQ4TK_rYoSBR"
      },
      "source": [
        "### 2.3- Extraer el vocabulario y mostrar su longitud de todo el corpus"
      ]
    },
    {
      "cell_type": "markdown",
      "metadata": {
        "id": "Y7Eiqj4VoaJb"
      },
      "source": [
        "El vocabulario lo extraemos a partir de un set de Python"
      ]
    },
    {
      "cell_type": "code",
      "execution_count": 46,
      "metadata": {
        "id": "3J1xtrLxoXIh"
      },
      "outputs": [],
      "source": [
        "vocab_amlo = set(amlo_tokens)\n",
        "vocab_shein = set(shein_tokens)\n",
        "N_vocab_amlo = len(vocab_amlo)\n",
        "N_vocab_shein = len(vocab_shein)"
      ]
    },
    {
      "cell_type": "code",
      "execution_count": 47,
      "metadata": {
        "colab": {
          "base_uri": "https://localhost:8080/"
        },
        "id": "qzRP43UPOoXp",
        "outputId": "7fc5b668-9d77-48d7-8cd0-47e0dc499fcc"
      },
      "outputs": [
        {
          "name": "stdout",
          "output_type": "stream",
          "text": [
            "Longitud del vocabulario de AMLO: 171634\n",
            "Longitud del vocabulario de Sheinbaum: 60867\n"
          ]
        }
      ],
      "source": [
        "print(\"Longitud del vocabulario de AMLO:\", N_vocab_amlo)\n",
        "print(\"Longitud del vocabulario de Sheinbaum:\", N_vocab_shein)"
      ]
    },
    {
      "cell_type": "markdown",
      "metadata": {
        "id": "kkm4DMOqolqw"
      },
      "source": [
        "### 2.4- Mida la riqueza del vocabulario de alguna forma en todos los documentos"
      ]
    },
    {
      "cell_type": "markdown",
      "metadata": {
        "id": "7NA8RYx9Oxvy"
      },
      "source": [
        "Usaremos la diversidad léxica, que es el porcentaje de palabras únicas con respecto a todas las palabras. De tal manera que el inverso de la diversidad léxica nos dice en promedio cuántas veces se usa cada palabra."
      ]
    },
    {
      "cell_type": "code",
      "execution_count": 48,
      "metadata": {
        "id": "EVX6gy0moq52"
      },
      "outputs": [],
      "source": [
        "def lexical_diversity(text: list[str]) -> float:\n",
        "  \"\"\"\n",
        "  Returns the lexical diversity in a given text, that is the number of distinct words divided by the total number of words.\n",
        "  \"\"\"\n",
        "  return len(set(text)) / len(text)"
      ]
    },
    {
      "cell_type": "markdown",
      "metadata": {
        "id": "t6QYAdY0tbnD"
      },
      "source": [
        "Diversidad léxica - AMLO:"
      ]
    },
    {
      "cell_type": "code",
      "execution_count": 49,
      "metadata": {
        "colab": {
          "base_uri": "https://localhost:8080/"
        },
        "id": "ERxTOYmptLjs",
        "outputId": "a1cebfeb-3276-4746-93e9-9b26bb1ad080"
      },
      "outputs": [
        {
          "name": "stdout",
          "output_type": "stream",
          "text": [
            "Diversidad léxica: 0.025943 - Cada palabra se usa en promedio 38.55 veces\n"
          ]
        }
      ],
      "source": [
        "richness_amlo = lexical_diversity(amlo_tokens)\n",
        "print(f\"Diversidad léxica: {richness_amlo:.6f} - Cada palabra se usa en promedio {1/richness_amlo:.2f} veces\")"
      ]
    },
    {
      "cell_type": "markdown",
      "metadata": {
        "id": "fton7W6kO8Ao"
      },
      "source": [
        "Diversidad léxica - Sheinbaum:"
      ]
    },
    {
      "cell_type": "code",
      "execution_count": 50,
      "metadata": {
        "colab": {
          "base_uri": "https://localhost:8080/"
        },
        "id": "jyBqPkD_O8A8",
        "outputId": "ccdbf6eb-9d37-4e2d-891d-e7cad99e64e2"
      },
      "outputs": [
        {
          "name": "stdout",
          "output_type": "stream",
          "text": [
            "Diversidad léxica: 0.061809 - Cada palabra se usa en promedio 16.18 veces\n"
          ]
        }
      ],
      "source": [
        "richness_shein = lexical_diversity(shein_tokens)\n",
        "print(f\"Diversidad léxica: {richness_shein:.6f} - Cada palabra se usa en promedio {1/richness_shein:.2f} veces\")"
      ]
    },
    {
      "cell_type": "markdown",
      "metadata": {
        "id": "EZCtIleGuAq7"
      },
      "source": [
        "### 2.5- Haga lo mismo que los 4 puntos anteriores pero con todo el texto en minúsculas. Vea las diferencias y comente brevemente."
      ]
    },
    {
      "cell_type": "markdown",
      "metadata": {
        "id": "aFo1JsvXQCkN"
      },
      "source": [
        "La cantidad de palabras no cambia, pues sólo cambiamos a minúsculas."
      ]
    },
    {
      "cell_type": "markdown",
      "metadata": {
        "id": "sidwBlUUPUpD"
      },
      "source": [
        "Textos en minúsculas:"
      ]
    },
    {
      "cell_type": "code",
      "execution_count": 51,
      "metadata": {
        "colab": {
          "base_uri": "https://localhost:8080/"
        },
        "id": "HUAthDTwuVoi",
        "outputId": "407cc65b-dcf4-4238-d4f3-ea45deb90859"
      },
      "outputs": [
        {
          "name": "stdout",
          "output_type": "stream",
          "text": [
            "05.07.22 versión estenográfica de la conferencia de prensa matutina del presidente andrés manuel lópez obrador\n",
            "\n",
            "2022: año de ricardo flores magón, precursor de la revolución mexicana\n",
            " \n",
            "\n",
            "presidente andrés manuel lópez obrador: buenos días. ánimo.\n",
            "bueno, vamos a informar, como todos los martes, sobre la situación de salud.\n",
            "también quedamos en informar sobre el agua en nuevo león. va a intervenir el ingeniero germán martínez santoyo, director de conagua, porque un compañero de ustedes nos pidió inf\n",
            " -----------------------------------------------------------------  \n",
            "versión estenográfica. conferencia de prensa de la presidenta claudia sheinbaum pardo, del 2 de octubre de 2024\n",
            " \n",
            "presidenta claudia sheinbaum pardo: buenos días. ¿cómo están? casa llena. muy buenos días a todos, a todas.\n",
            "el día de hoy, primera mañanera del pueblo en el segundo piso de la cuarta transformación, lo vamos a dedicar al 2 de octubre, 2 de octubre no se olvida. hace 56 años, en la plaza de tlatelolco, después de un movimiento estudiantil que lo que pedía era libertad, democracia, lib\n"
          ]
        }
      ],
      "source": [
        "amlo_corpus_str_lower = amlo_corpus_str.lower()\n",
        "shein_corpus_str_lower = shein_corpus_str.lower()\n",
        "\n",
        "print(amlo_corpus_str_lower[:500])\n",
        "print(\" -----------------------------------------------------------------  \")\n",
        "print(shein_corpus_str_lower[:500])"
      ]
    },
    {
      "cell_type": "markdown",
      "metadata": {
        "id": "K3COr1OzPkjU"
      },
      "source": [
        "Extracción de tokens con split"
      ]
    },
    {
      "cell_type": "code",
      "execution_count": 52,
      "metadata": {
        "id": "SzsTE9rMu18k"
      },
      "outputs": [],
      "source": [
        "amlo_tokens_lower = amlo_corpus_str_lower.split()\n",
        "shein_tokens_lower = shein_corpus_str_lower.split()"
      ]
    },
    {
      "cell_type": "markdown",
      "metadata": {
        "id": "shewSf16Pv8E"
      },
      "source": [
        "Extracción de vocabulario"
      ]
    },
    {
      "cell_type": "code",
      "execution_count": 53,
      "metadata": {
        "id": "l7yRhnyxvEJ-"
      },
      "outputs": [],
      "source": [
        "vocab_amlo_lower = set(amlo_tokens_lower)\n",
        "N_vocab_amlo_lower = len(vocab_amlo_lower)\n",
        "vocab_shein_lower = set(shein_tokens_lower)\n",
        "N_vocab_shein_lower = len(vocab_shein_lower)"
      ]
    },
    {
      "cell_type": "code",
      "execution_count": 54,
      "metadata": {
        "colab": {
          "base_uri": "https://localhost:8080/"
        },
        "id": "tj8aH4SwQJMZ",
        "outputId": "5de0e18c-8b23-4643-e3d7-0f2ce1c717b9"
      },
      "outputs": [
        {
          "name": "stdout",
          "output_type": "stream",
          "text": [
            "AMLO -> Longitud del vocabulario con minúsculas: 158298  - vs vocabulario en mayúsculas: 171634  - Reducción del 7.77%\n",
            "Sheinbaum -> Longitud del vocabulario con minúsculas: 55668  - vs vocabulario en mayúsculas: 60867  - Reducción del 8.54%\n"
          ]
        }
      ],
      "source": [
        "print(\n",
        "    \"AMLO -> Longitud del vocabulario con minúsculas:\",\n",
        "    N_vocab_amlo_lower,\n",
        "    \" - vs vocabulario en mayúsculas:\",\n",
        "    N_vocab_amlo,\n",
        "    f\" - Reducción del {100-N_vocab_amlo_lower/N_vocab_amlo*100:.2f}%\"\n",
        "  )\n",
        "print(\n",
        "    \"Sheinbaum -> Longitud del vocabulario con minúsculas:\",\n",
        "    N_vocab_shein_lower,\n",
        "    \" - vs vocabulario en mayúsculas:\",\n",
        "    N_vocab_shein,\n",
        "    f\" - Reducción del {100-N_vocab_shein_lower/N_vocab_shein*100:.2f}%\"\n",
        "  )"
      ]
    },
    {
      "cell_type": "markdown",
      "metadata": {
        "id": "0ZZjYko7SHIA"
      },
      "source": [
        "Aquí vemos que al transformar los textos a minúsculas, el vocabulario se hace más corto. Esto tiene sentido, pues si consideramos el set de las palabras sin hacerlas en minúsculas, palabras como \"Hola\" y \"hola\" van a ser distintas en el set."
      ]
    },
    {
      "cell_type": "markdown",
      "metadata": {
        "id": "V5Bj-xNbSlio"
      },
      "source": [
        "Medición de riqueza"
      ]
    },
    {
      "cell_type": "markdown",
      "metadata": {
        "id": "tUiDzgPcSxMh"
      },
      "source": [
        "AMLO:"
      ]
    },
    {
      "cell_type": "code",
      "execution_count": 55,
      "metadata": {
        "colab": {
          "base_uri": "https://localhost:8080/"
        },
        "id": "6A7oguP81FfI",
        "outputId": "db56714b-ae3c-4696-d3f2-535efb24b188"
      },
      "outputs": [
        {
          "name": "stdout",
          "output_type": "stream",
          "text": [
            "Diversidad léxica con minúsculas: 0.023927 - Cada palabra se usa en promedio 41.79 veces\n",
            "Diversidad léxica con mayúsculas: 0.025943 - Cada palabra se usa en promedio 38.55 veces\n"
          ]
        }
      ],
      "source": [
        "richness_amlo_lwr = lexical_diversity(amlo_tokens_lower)\n",
        "print(f\"Diversidad léxica con minúsculas: {richness_amlo_lwr:.6f} - Cada palabra se usa en promedio {1/richness_amlo_lwr:.2f} veces\")\n",
        "print(f\"Diversidad léxica con mayúsculas: {richness_amlo:.6f} - Cada palabra se usa en promedio {1/richness_amlo:.2f} veces\")"
      ]
    },
    {
      "cell_type": "markdown",
      "metadata": {
        "id": "Vp0JjcFHSyoG"
      },
      "source": [
        "Sheinbaum:"
      ]
    },
    {
      "cell_type": "code",
      "execution_count": 56,
      "metadata": {
        "colab": {
          "base_uri": "https://localhost:8080/"
        },
        "id": "FLT0obfJSzqc",
        "outputId": "61dce100-46cb-4015-ac43-68da42548b17"
      },
      "outputs": [
        {
          "name": "stdout",
          "output_type": "stream",
          "text": [
            "Diversidad léxica con minúsculas: 0.056529 - Cada palabra se usa en promedio 17.69 veces\n",
            "Diversidad léxica con mayúsculas: 0.061809 - Cada palabra se usa en promedio 16.18 veces\n"
          ]
        }
      ],
      "source": [
        "richness_shein_lwr = lexical_diversity(shein_tokens_lower)\n",
        "print(f\"Diversidad léxica con minúsculas: {richness_shein_lwr:.6f} - Cada palabra se usa en promedio {1/richness_shein_lwr:.2f} veces\")\n",
        "print(f\"Diversidad léxica con mayúsculas: {richness_shein:.6f} - Cada palabra se usa en promedio {1/richness_shein:.2f} veces\")"
      ]
    },
    {
      "cell_type": "markdown",
      "metadata": {
        "id": "-osBG9_PTgIW"
      },
      "source": [
        "Dado que la reducción del vocabulario al convertir en minúsculas es menor (menos del 10%), es de esperarse que la riqueza del vocabulario no cambie mucho."
      ]
    },
    {
      "cell_type": "markdown",
      "metadata": {
        "id": "FNSPV58C8GsM"
      },
      "source": [
        "### 2.6- Haga lo mismo que los puntos 1, 2 y 3 usando el tokenizador *RegExp* de NLTK, con una expresión regular que trate de sacar solo tokens que pueden contener solo letras mayúsculas y minúsculas. Después cargue los tokens en un objeto *Text* de NLTK en lugar de una lista de Python."
      ]
    },
    {
      "cell_type": "markdown",
      "metadata": {
        "id": "2smzjr62UBu1"
      },
      "source": [
        "La expresión regular \"[a-zA-ZáéíóúüÁÉÍÓÚÜ]+\" permite obtener cualquier palabra que contenga letras minúsculas, mayúsculas, con acentos y sin acentos, y la vocal U con diéresis (palabras con al menos longitud 1)."
      ]
    },
    {
      "cell_type": "code",
      "execution_count": 57,
      "metadata": {
        "id": "PHRjPNwV797y"
      },
      "outputs": [],
      "source": [
        "amlo_tokens_regex = nltk.regexp_tokenize(amlo_corpus_str, pattern=\"[a-zA-ZáéíóúüÁÉÍÓÚÜ]+\")\n",
        "shein_tokens_regex = nltk.regexp_tokenize(shein_corpus_str, pattern=\"[a-zA-ZáéíóúüÁÉÍÓÚÜ]+\")"
      ]
    },
    {
      "cell_type": "code",
      "execution_count": 58,
      "metadata": {
        "colab": {
          "base_uri": "https://localhost:8080/"
        },
        "id": "TGkF3dqWKg_8",
        "outputId": "cf2e5b0b-ef6c-4c63-d4c0-610451f6ed81"
      },
      "outputs": [
        {
          "name": "stdout",
          "output_type": "stream",
          "text": [
            "Cantidad de tokens en todas las conferencias de AMLO: 6570723\n",
            "Cantidad de tokens en todas las conferencias de Sheinbaum: 979669\n"
          ]
        }
      ],
      "source": [
        "N_amlo_regex = len(amlo_tokens_regex)\n",
        "N_shein_regex = len(shein_tokens_regex)\n",
        "print(\"Cantidad de tokens en todas las conferencias de AMLO:\", N_amlo_regex)\n",
        "print(\"Cantidad de tokens en todas las conferencias de Sheinbaum:\", N_shein_regex)"
      ]
    },
    {
      "cell_type": "markdown",
      "metadata": {
        "id": "89RiqxmkVafR"
      },
      "source": [
        "Algunos tokens:"
      ]
    },
    {
      "cell_type": "code",
      "execution_count": 59,
      "metadata": {
        "colab": {
          "base_uri": "https://localhost:8080/"
        },
        "id": "UqWcmgmPLaF9",
        "outputId": "434eae57-e984-4a59-f07b-e24e60c7cc9d"
      },
      "outputs": [
        {
          "data": {
            "text/plain": [
              "['Versión',\n",
              " 'estenográfica',\n",
              " 'de',\n",
              " 'la',\n",
              " 'conferencia',\n",
              " 'de',\n",
              " 'prensa',\n",
              " 'matutina',\n",
              " 'del',\n",
              " 'presidente']"
            ]
          },
          "execution_count": 59,
          "metadata": {},
          "output_type": "execute_result"
        }
      ],
      "source": [
        "amlo_tokens_regex[:10]"
      ]
    },
    {
      "cell_type": "code",
      "execution_count": 60,
      "metadata": {
        "colab": {
          "base_uri": "https://localhost:8080/"
        },
        "id": "z1rf0AZ0Vdyz",
        "outputId": "cfeadf84-8109-47b4-deab-2575fff9f49c"
      },
      "outputs": [
        {
          "data": {
            "text/plain": [
              "['segunda',\n",
              " 'mitad',\n",
              " 'del',\n",
              " 'siglo',\n",
              " 'XX',\n",
              " 'fue',\n",
              " 'ordenado',\n",
              " 'por',\n",
              " 'el',\n",
              " 'entonces']"
            ]
          },
          "execution_count": 60,
          "metadata": {},
          "output_type": "execute_result"
        }
      ],
      "source": [
        "shein_tokens_regex[100:110]"
      ]
    },
    {
      "cell_type": "markdown",
      "metadata": {
        "id": "V_Wnko1tU52a"
      },
      "source": [
        "Extracción de vocabulario"
      ]
    },
    {
      "cell_type": "code",
      "execution_count": 61,
      "metadata": {
        "colab": {
          "base_uri": "https://localhost:8080/"
        },
        "id": "tLowOXtIKu6C",
        "outputId": "6b990e1a-3b51-4381-c781-f1f085f2e1c3"
      },
      "outputs": [
        {
          "name": "stdout",
          "output_type": "stream",
          "text": [
            "Longitud del vocabulario en conferencias de AMLO: 75332\n",
            "Longitud del vocabulario en conferencias de Sheinbaum: 30721\n"
          ]
        }
      ],
      "source": [
        "vocab_amlo_regex = set(amlo_tokens_regex)\n",
        "N_vocab_amlo_regex = len(vocab_amlo_regex)\n",
        "vocab_shein_regex = set(shein_tokens_regex)\n",
        "N_vocab_shein_regex = len(vocab_shein_regex)\n",
        "print(\"Longitud del vocabulario en conferencias de AMLO:\", N_vocab_amlo_regex)\n",
        "print(\"Longitud del vocabulario en conferencias de Sheinbaum:\", N_vocab_shein_regex)"
      ]
    },
    {
      "cell_type": "markdown",
      "metadata": {
        "id": "gb5Yyg5CVEa0"
      },
      "source": [
        "Cargar tokens a objeto ``nltk.Text``"
      ]
    },
    {
      "cell_type": "code",
      "execution_count": 62,
      "metadata": {
        "id": "8EgrXuwULJaU"
      },
      "outputs": [],
      "source": [
        "amlo_text_regex = nltk.Text(amlo_tokens_regex)\n",
        "shein_text_regex = nltk.Text(shein_tokens_regex)"
      ]
    },
    {
      "cell_type": "code",
      "execution_count": 63,
      "metadata": {
        "colab": {
          "base_uri": "https://localhost:8080/"
        },
        "id": "vO0DHJ-tLLcN",
        "outputId": "e369c823-43af-4727-fc04-b175d861a0a9"
      },
      "outputs": [
        {
          "name": "stdout",
          "output_type": "stream",
          "text": [
            "<Text: Versión estenográfica de la conferencia de prensa matutina...>\n"
          ]
        }
      ],
      "source": [
        "print(amlo_text_regex)"
      ]
    },
    {
      "cell_type": "code",
      "execution_count": 64,
      "metadata": {
        "colab": {
          "base_uri": "https://localhost:8080/"
        },
        "id": "oL5klTu8VOHX",
        "outputId": "5926a235-b00c-4051-c959-d01324320434"
      },
      "outputs": [
        {
          "name": "stdout",
          "output_type": "stream",
          "text": [
            "<Text: Versión estenográfica Conferencia de prensa de la presidenta...>\n"
          ]
        }
      ],
      "source": [
        "print(shein_text_regex)"
      ]
    },
    {
      "cell_type": "markdown",
      "metadata": {
        "id": "0JstnGezs0SV"
      },
      "source": [
        "### 2.7- Haga todo el texto minúsculas. Haga los mismo que los puntos 1, 2, y 3 usando el tokenizador *TweetTokenizer* ; COMENTE BREVEMENTE DIFERENCIAS. Haga el resto de esta tarea asumiendo haber hecho este punto."
      ]
    },
    {
      "cell_type": "code",
      "execution_count": 65,
      "metadata": {
        "id": "yeftG_gnvYQX"
      },
      "outputs": [],
      "source": [
        "from nltk.tokenize import TweetTokenizer"
      ]
    },
    {
      "cell_type": "code",
      "execution_count": 66,
      "metadata": {
        "id": "dlU1WZebscSB"
      },
      "outputs": [],
      "source": [
        "tweet_tokenizer = TweetTokenizer()\n",
        "amlo_tokens_twitter = tweet_tokenizer.tokenize(amlo_corpus_str_lower)\n",
        "shein_tokens_twitter = tweet_tokenizer.tokenize(shein_corpus_str_lower)"
      ]
    },
    {
      "cell_type": "code",
      "execution_count": 67,
      "metadata": {
        "colab": {
          "base_uri": "https://localhost:8080/"
        },
        "id": "2kq0ZRaAv1xf",
        "outputId": "9ec5d454-2e0d-415b-fa56-e6a28f9ebf69"
      },
      "outputs": [
        {
          "name": "stdout",
          "output_type": "stream",
          "text": [
            "Cantidad de tokens en las conferencias de AMLO: 7775665\n",
            "Cantidad de tokens en las conferencias de Sheinbaum: 1160565\n"
          ]
        }
      ],
      "source": [
        "N_amlo_twitter = len(amlo_tokens_twitter)\n",
        "N_shein_twitter = len(shein_tokens_twitter)\n",
        "print(\"Cantidad de tokens en las conferencias de AMLO:\", N_amlo_twitter)\n",
        "print(\"Cantidad de tokens en las conferencias de Sheinbaum:\", N_shein_twitter)"
      ]
    },
    {
      "cell_type": "code",
      "execution_count": 68,
      "metadata": {
        "colab": {
          "base_uri": "https://localhost:8080/"
        },
        "id": "2lYJpl92v1xv",
        "outputId": "44019b1f-731f-41da-8dcd-1369a6b83e4e"
      },
      "outputs": [
        {
          "name": "stdout",
          "output_type": "stream",
          "text": [
            "Longitud del vocabulario en conferencias de AMLO: 70761\n",
            "Longitud del vocabulario en conferencias de Sheinbaum: 28395\n"
          ]
        }
      ],
      "source": [
        "vocab_amlo_twitter = set(amlo_tokens_twitter)\n",
        "N_vocab_amlo_twitter = len(vocab_amlo_twitter)\n",
        "vocab_shein_twitter = set(shein_tokens_twitter)\n",
        "N_vocab_shein_twitter = len(vocab_shein_twitter)\n",
        "\n",
        "print(\"Longitud del vocabulario en conferencias de AMLO:\", N_vocab_amlo_twitter)\n",
        "print(\"Longitud del vocabulario en conferencias de Sheinbaum:\", N_vocab_shein_twitter)"
      ]
    },
    {
      "cell_type": "code",
      "execution_count": 69,
      "metadata": {
        "id": "uGLwd4JOv1xw"
      },
      "outputs": [],
      "source": [
        "amlo_text_twitter = nltk.Text(amlo_tokens_twitter)\n",
        "shein_text_twitter = nltk.Text(shein_tokens_twitter)"
      ]
    },
    {
      "cell_type": "code",
      "execution_count": 70,
      "metadata": {
        "colab": {
          "base_uri": "https://localhost:8080/"
        },
        "id": "byVGHc7av1xx",
        "outputId": "502d965d-0131-450f-9bfc-41475eb04db5"
      },
      "outputs": [
        {
          "name": "stdout",
          "output_type": "stream",
          "text": [
            "<Text: 05.07 . 22 versión estenográfica de la conferencia...>\n",
            "-------------------------------------------------------------------\n",
            "<Text: versión estenográfica . conferencia de prensa de la...>\n"
          ]
        }
      ],
      "source": [
        "print(amlo_text_twitter)\n",
        "print(\"-------------------------------------------------------------------\")\n",
        "print(shein_text_twitter)"
      ]
    },
    {
      "cell_type": "markdown",
      "metadata": {
        "id": "zt565INyAmXS"
      },
      "source": [
        "Se observa que hay más cantidad de tokens totales en el texto y en el vocabulario usando el tokenizador *TweetTokenizer*, pues se toman en cuenta números, signos de puntuación, URL's, entre otros tokens. Más adelante se observabará que en efecto el dataset cuenta con estos tokens extras en comparación del tokenizador basado en *RegExp* que toma en cuenta secuencias de puras letras."
      ]
    },
    {
      "cell_type": "markdown",
      "metadata": {
        "id": "jZXOSfpUx0Ab"
      },
      "source": [
        "## 3- Funciones NLTK"
      ]
    },
    {
      "cell_type": "markdown",
      "metadata": {
        "id": "ubocIxGwx1vH"
      },
      "source": [
        "### 3.1- Use la función concordance para ver el contexto de 5 palabras que usted elija."
      ]
    },
    {
      "cell_type": "markdown",
      "metadata": {
        "id": "F2IOIoSKDQ5P"
      },
      "source": [
        "AMLO:"
      ]
    },
    {
      "cell_type": "code",
      "execution_count": 71,
      "metadata": {
        "colab": {
          "base_uri": "https://localhost:8080/"
        },
        "id": "am6OvFLMwXiZ",
        "outputId": "81e69ac1-dd60-4c52-b390-7a21beed1d9f"
      },
      "outputs": [
        {
          "name": "stdout",
          "output_type": "stream",
          "text": [
            "\n",
            "Contexto de: calderón\n",
            "Displaying 3 of 2011 matches:\n",
            "ya sea de una vez solucionada esta situación ? y pues dicen : ‘ felipe calderón nos quitó la oportunidad de seguir trabajando para dar estas concesion\n",
            "ola . y si ya queremos llevarlo al detalle , pues recordar que ofreció calderón hacer una refinería ; hicieron toda una alharaca y terminaron cancelan\n",
            " gustó mucho ese planteamiento . pregunta : en el 2007 lo hicieron con calderón también . la paz ( inaudible ) presidente andrés manuel lópez obrador \n",
            "\n",
            "Contexto de: becas\n",
            "Displaying 3 of 601 matches:\n",
            "os apoyos 343 mil 859 personas . los programas son los que vemos aquí : becas ‘ benito juárez ’ , producción para el bienestar , pensión para adultos\n",
            "ndo a 152 jóvenes que trabajan como aprendices . se están entregando 69 becas a estudiantes de nivel superior , los que están estudiando licenciatura\n",
            " niños de madres solteras que están en estancias infantiles también con becas . en el caso de estos apoyos incluyen también a campesinos , 292 campes\n",
            "\n",
            "Contexto de: ['xóchitl', 'gálvez']\n",
            "Displaying 3 of 80 matches:\n",
            "opositores que difunden noticias falsas . esta semana presentamos a xóchitl gálvez que , según sus intereses , son sus conocimientos sobre proyectos c\n",
            " de hidalgo . ¿ podemos ver el video , por favor ? ( inicia video ) xóchitl gálvez ruiz : yo fui personalmente a ver al presidente calderón a los pino\n",
            "amanca , al territorio de vicente fox , que no se hiciera en tula . xóchitl gálvez ruiz : no es cierto , esas son mentiras , no tengo un pelo de tarug\n",
            "\n",
            "Contexto de: ['mafia', 'del', 'poder']\n",
            "Displaying 3 of 90 matches:\n",
            "ratar y hay mil 548 vacantes . esto no lo sabía la gente porque la mafia del poder tenía el control de los medios de información y no se garantizaba \n",
            "ítica en contra de legisladores . los únicos buenos eran los de la mafia del poder económico , esos eran la sociedad civil . nosotros lo que estamos \n",
            " hipocresía . entonces , dije conservador porque ya no puedo decir mafia del poder , ya eso no lo puedo decir , no , eso ya no . y , además , el cons\n",
            "\n",
            "Contexto de: cuba\n",
            "Displaying 3 of 447 matches:\n",
            "o neruda le llamó el titán de las libertades , le dio la independencia a cuba , le dio la independencia a panamá , sacó a los marinos de haití , de ni\n",
            " , yo recordaba … eso sí ponlo , para terminar . una vez llega mandela a cuba y va a ver a fidel . a ver si está el video . y es muy chistoso porque e\n",
            "añol ): y yo he invitado a una gran cantidad de personas y nuestro amigo cuba , quien nos ayudó a entrenar a nuestra gente , que nos dio recursos , qu\n"
          ]
        }
      ],
      "source": [
        "for word in [\"calderón\", \"becas\", [\"xóchitl\", \"gálvez\"], [\"mafia\", \"del\", \"poder\"], \"cuba\"]:\n",
        "  print(\"\\nContexto de:\", word)\n",
        "  amlo_text_twitter.concordance(word, width=150, lines=3)"
      ]
    },
    {
      "cell_type": "markdown",
      "metadata": {
        "id": "ZK_qq0aQDSiA"
      },
      "source": [
        "Sheinbaum:"
      ]
    },
    {
      "cell_type": "code",
      "execution_count": 72,
      "metadata": {
        "colab": {
          "base_uri": "https://localhost:8080/"
        },
        "id": "vs1AEws3DUF-",
        "outputId": "1651ae76-9d62-4cae-8355-63f2d46fe067"
      },
      "outputs": [
        {
          "name": "stdout",
          "output_type": "stream",
          "text": [
            "\n",
            "Contexto de: becas\n",
            "Displaying 3 of 46 matches:\n",
            "eso para los derechos de las mujeres ; el viernes vamos a hablar de las becas , y así vamos a seguir con información y preguntas . pero , además , va\n",
            "stán ? muy buenos días . el día de hoy vamos a presentar el programa de becas para niños y niñas . están aquí — siéntense — mario delgado y julio leó\n",
            "quí — siéntense — mario delgado y julio león , que es el coordinador de becas para el bienestar , y mario delgado , secretario de educación . entonce\n",
            "\n",
            "Contexto de: investigación\n",
            "Displaying 3 of 503 matches:\n",
            "iolencia . voz mujer : el periódico inglés the guardian realizó una investigación y publicó que 325 personas fueron asesinadas ese día . voz hombre :\n",
            "ue vamos a enviar , sobre todo para fortalecer la inteligencia y la investigación . nuestra estrategia consiste en cuatro ejes : es atención a las ca\n",
            "a y la secretaría de seguridad ciudadana en la inteligencia , en la investigación , y que nos permita llevar a la judicialización de casos en la fisc\n",
            "\n",
            "Contexto de: conahcyt\n",
            "Displaying 3 of 18 matches:\n",
            "el imp , ya hay una tecnología para extraer el litio de las arcillas ; conahcyt también desarrolló otra , con los institutos de investigación , otra t\n",
            "a por parte del instituto mexicano del petróleo y de instituciones del conahcyt para poder extraer litio de arcilla . en méxico , el litio está combin\n",
            "ablar de la alimentación sana . a mí me gustaría tocar dos puntos : el conahcyt , que ahora se está transformando en secretaría de estado , tuvo un es\n",
            "\n",
            "Contexto de: covid\n",
            "Displaying 3 of 21 matches:\n",
            "s mayores ? vamos a registrarnos por letra ; como nos vacunamos para el covid , así lo vamos a realizar . también realizamos de esta manera el regist\n",
            "ación , normalmente era de la influenza ; ahora con el advenimiento del covid - 19 , también ya , porque se conoce que son dos enfermedades estaciona\n",
            "tículos internacionales beneficios para curar la pandemia , ¿ no ? , el covid - 19 . entonces sí es parte de lo que se está haciendo . bueno , ya cer\n",
            "\n",
            "Contexto de: ['inteligencia', 'artificial']\n",
            "Displaying 3 of 24 matches:\n",
            "én circularon en redes sociales videos creados o alterados con inteligencia artificial . como cualquier tecnología , esta no es buena ni mala por sí \n",
            "plataforma financiera . mentira . el video está manipulado con inteligencia artificial , el original corresponde a mayo de 2024 , cuando la entonces \n",
            "rdón ’ . el video que circula en redes sociales fue creado con inteligencia artificial y compartido por juan pflüger , responsable nacional de prensa\n"
          ]
        }
      ],
      "source": [
        "for word in [\"becas\", \"investigación\", \"conahcyt\", \"covid\", [\"inteligencia\", \"artificial\"]]:\n",
        "  print(\"\\nContexto de:\", word)\n",
        "  shein_text_twitter.concordance(word, width=150, lines=3)"
      ]
    },
    {
      "cell_type": "markdown",
      "metadata": {
        "id": "rY9xt23B2U30"
      },
      "source": [
        "### 3.2- Elija una palabra que le parezca interesante y muestre palabras con uso similar. Muestre también los contextos comunes. COMENTE al respecto."
      ]
    },
    {
      "cell_type": "markdown",
      "metadata": {
        "id": "YRWnE9FRE_yT"
      },
      "source": [
        "AMLO:"
      ]
    },
    {
      "cell_type": "code",
      "execution_count": 73,
      "metadata": {
        "colab": {
          "base_uri": "https://localhost:8080/"
        },
        "id": "BOb3-T6p2e1E",
        "outputId": "a2d74076-271e-4f35-b3af-0800c5a97321"
      },
      "outputs": [
        {
          "name": "stdout",
          "output_type": "stream",
          "text": [
            "país que estado pueblo presidente trabajo año y tiempo tema caso agua\n",
            "dinero presupuesto día momento bienestar poder tren programa\n"
          ]
        }
      ],
      "source": [
        "amlo_text_twitter.similar(\"gobierno\")"
      ]
    },
    {
      "cell_type": "code",
      "execution_count": 74,
      "metadata": {
        "colab": {
          "base_uri": "https://localhost:8080/"
        },
        "id": "3hQhA7qoUUxa",
        "outputId": "28d11fa7-faa1-4310-dcb6-642a559fe6a8"
      },
      "outputs": [
        {
          "name": "stdout",
          "output_type": "stream",
          "text": [
            "el_de del_de el_del al_de del_del de_y el_y de_de el_no el_que del_y\n",
            "al_y al_del su_y el_anterior el_estaba el_en de_en un_que el_se\n"
          ]
        }
      ],
      "source": [
        "amlo_text_twitter.common_contexts([\"gobierno\", \"presidente\"])"
      ]
    },
    {
      "cell_type": "markdown",
      "metadata": {
        "id": "x7A7bHb0FDFK"
      },
      "source": [
        "Sheinbaum:"
      ]
    },
    {
      "cell_type": "code",
      "execution_count": 75,
      "metadata": {
        "colab": {
          "base_uri": "https://localhost:8080/"
        },
        "id": "-lf1EWvpFE72",
        "outputId": "2df8e8e2-31ba-4417-a8f5-34aee04ec39c"
      },
      "outputs": [
        {
          "name": "stdout",
          "output_type": "stream",
          "text": [
            "salud información seguridad atención violencia ley vivienda que\n",
            "economía familia méxico campaña reforma coordinación corrupción\n",
            "presidenta estrategia comunicación inversión reunión\n"
          ]
        }
      ],
      "source": [
        "shein_text_twitter.similar(\"investigación\")"
      ]
    },
    {
      "cell_type": "code",
      "execution_count": 76,
      "metadata": {
        "colab": {
          "base_uri": "https://localhost:8080/"
        },
        "id": "AH5X8CwUFMNI",
        "outputId": "b0aee787-59f2-4fac-86da-16415469b5b6"
      },
      "outputs": [
        {
          "name": "stdout",
          "output_type": "stream",
          "text": [
            "la_que la_de la_y la_pregunta de_y la_en de_de esta_que la_del una_que\n",
            "esta_y alguna_sobre la_para de_que esta_de la_el la_completa la_es\n",
            "la_no de_en\n"
          ]
        }
      ],
      "source": [
        "shein_text_twitter.common_contexts([\"información\", \"investigación\"])"
      ]
    },
    {
      "cell_type": "markdown",
      "metadata": {
        "id": "0Oasae17V9gq"
      },
      "source": [
        "Estos ejemplos muestran que el método ``.similar()`` sí nos da palabras que suelen ser usados en contextos similares, como lo es \"gobierno\" y \"presidente\", y tambié \"información\" e \"investigación\"."
      ]
    },
    {
      "cell_type": "markdown",
      "metadata": {
        "id": "vux6bT_M2fOS"
      },
      "source": [
        "### 3.3- Haciendo uso de alguna librería time de Python: organice todos los archivos de las conferencias desde la más antigua hasta la más nueva (echando mano del nombre del archivo y fechas), y cárguelos en un objeto Text para generar un dispersion plot de las siguientes palabras: prian, corrupción, mafia, narco, gasolina, pipas, conacyt, conahcyt, ciencia, turismo, pandemia, coronavirus, covid, delta, omicron, vacuna, vacunación y otras cinco palabras de su elección."
      ]
    },
    {
      "cell_type": "markdown",
      "metadata": {
        "id": "PrkY7HdcFrXB"
      },
      "source": [
        "Al cargar nuestro corpus ya tomábamos en cuenta el orden de las fechas usando el orden lexicográfico de las strings \"YYYY-MM-DD\". Pero se hace con la librería *datetime* de la siguiente manera:\n",
        "\n",
        "``\n",
        "conferences_dates.sort(key=lambda date: datetime.datetime.strptime(date, \"%Y-%m-%d\"))\n",
        "``"
      ]
    },
    {
      "cell_type": "markdown",
      "metadata": {
        "id": "6UMTR8-DJR74"
      },
      "source": [
        "AMLO\n",
        "\n"
      ]
    },
    {
      "cell_type": "code",
      "execution_count": 77,
      "metadata": {
        "colab": {
          "base_uri": "https://localhost:8080/",
          "height": 472
        },
        "id": "UkQgboVR22sh",
        "outputId": "6f708a16-d225-4cd9-cd77-0b00bd77db9a"
      },
      "outputs": [
        {
          "data": {
            "image/png": "[encoded data removed]",
            "text/plain": [
              "<Figure size 640x480 with 1 Axes>"
            ]
          },
          "metadata": {},
          "output_type": "display_data"
        }
      ],
      "source": [
        "amlo_text_twitter.dispersion_plot(\n",
        "    [\n",
        "        \"prian\",\n",
        "        \"corrupción\",\n",
        "        \"mafia\",\n",
        "        \"narco\",\n",
        "        \"gasolina\",\n",
        "        \"pipas\",\n",
        "        \"conacyt\",\n",
        "        \"conahcyt\",\n",
        "        \"ciencia\",\n",
        "        \"turismo\",\n",
        "        \"pandemia\",\n",
        "        \"coronavirus\",\n",
        "        \"covid\",\n",
        "        \"delta\",\n",
        "        \"omicron\",\n",
        "        \"vacuna\",\n",
        "        \"vacunación\",\n",
        "        \"investigación\",\n",
        "        \"olimpiadas\",\n",
        "        \"becas\",\n",
        "        \"matemáticas\",\n",
        "        \"inteligencia\"\n",
        "    ]\n",
        ")"
      ]
    },
    {
      "cell_type": "markdown",
      "metadata": {
        "id": "a2q9JzDPJc5A"
      },
      "source": [
        "Sheinbaum"
      ]
    },
    {
      "cell_type": "code",
      "execution_count": 78,
      "metadata": {
        "colab": {
          "base_uri": "https://localhost:8080/",
          "height": 472
        },
        "id": "Sn5Beu1sIrp_",
        "outputId": "189554ce-01be-462d-d5bd-e043f93f6d42"
      },
      "outputs": [
        {
          "data": {
            "image/png": "[encoded data removed]",
            "text/plain": [
              "<Figure size 640x480 with 1 Axes>"
            ]
          },
          "metadata": {},
          "output_type": "display_data"
        }
      ],
      "source": [
        "shein_text_twitter.dispersion_plot(\n",
        "    [\n",
        "        \"prian\",\n",
        "        \"corrupción\",\n",
        "        \"mafia\",\n",
        "        \"narco\",\n",
        "        \"gasolina\",\n",
        "        \"pipas\",\n",
        "        \"conacyt\",\n",
        "        \"conahcyt\",\n",
        "        \"ciencia\",\n",
        "        \"turismo\",\n",
        "        \"pandemia\",\n",
        "        \"coronavirus\",\n",
        "        \"covid\",\n",
        "        \"delta\",\n",
        "        \"omicron\",\n",
        "        \"vacuna\",\n",
        "        \"vacunación\",\n",
        "        \"investigación\",\n",
        "        \"olimpiadas\",\n",
        "        \"becas\",\n",
        "        \"matemáticas\",\n",
        "        \"inteligencia\"\n",
        "    ]\n",
        ")"
      ]
    },
    {
      "cell_type": "markdown",
      "metadata": {
        "id": "PT3Q-PtD2tZh"
      },
      "source": [
        "### 3.4- Muestre 50 colocaciones de todo el corpus."
      ]
    },
    {
      "cell_type": "code",
      "execution_count": 79,
      "metadata": {
        "colab": {
          "base_uri": "https://localhost:8080/"
        },
        "id": "RzncyRwjXbI7",
        "outputId": "cbbdcb20-e090-45c8-d040-1a9cfc3e4cb5"
      },
      "outputs": [
        {
          "name": "stderr",
          "output_type": "stream",
          "text": [
            "[nltk_data] Downloading package stopwords to /root/nltk_data...\n",
            "[nltk_data]   Unzipping corpora/stopwords.zip.\n"
          ]
        },
        {
          "data": {
            "text/plain": [
              "True"
            ]
          },
          "execution_count": 79,
          "metadata": {},
          "output_type": "execute_result"
        }
      ],
      "source": [
        "nltk.download('stopwords') # necessary for collocations method"
      ]
    },
    {
      "cell_type": "markdown",
      "metadata": {
        "id": "oRLfGtdBJzgn"
      },
      "source": [
        "AMLO"
      ]
    },
    {
      "cell_type": "code",
      "execution_count": 80,
      "metadata": {
        "colab": {
          "base_uri": "https://localhost:8080/"
        },
        "id": "Cx7DcPKw26lP",
        "outputId": "b742b998-aac8-46aa-d297-9b61f9a6c71d"
      },
      "outputs": [
        {
          "name": "stdout",
          "output_type": "stream",
          "text": [
            "lópez obrador; andrés manuel; manuel lópez; presidente andrés; estados\n",
            "unidos; por ciento; buenos días; nada más; señor presidente; ramírez\n",
            "cuevas; jesús ramírez; tren maya; todos los; guardia nacional; poder\n",
            "judicial; por eso; por ejemplo; quintana roo; sin embargo; garcía\n",
            "luna; creo que; muchas gracias; baja california; por qué; sobre todo;\n",
            "muy bien; desde luego; mil millones; derechos humanos; todas las; rosa\n",
            "icela; muy importante; que que; los medios; nuestro país; pesos con;\n",
            "redes sociales; los jóvenes; para que; ver con; estamos hablando; del\n",
            "estado; del pueblo; fuerzas armadas; tiene que; muy buenos; comisión\n",
            "federal; seguridad pública; suprema corte; finaliza video\n"
          ]
        }
      ],
      "source": [
        "amlo_text_twitter.collocations(num=50)"
      ]
    },
    {
      "cell_type": "markdown",
      "metadata": {
        "id": "VriwvPn2J2c6"
      },
      "source": [
        "Sheinbaum"
      ]
    },
    {
      "cell_type": "code",
      "execution_count": 81,
      "metadata": {
        "colab": {
          "base_uri": "https://localhost:8080/"
        },
        "id": "Dd1BtBChJ6BQ",
        "outputId": "1243f3a4-c35b-4bc7-f1da-7451de368fb1"
      },
      "outputs": [
        {
          "name": "stdout",
          "output_type": "stream",
          "text": [
            "claudia sheinbaum; sheinbaum pardo; estados unidos; buenos días; por\n",
            "ciento; lópez obrador; poder judicial; muchas gracias; muy importante;\n",
            "todos los; por ejemplo; presidenta claudia; nuestro país; presidente\n",
            "lópez; las mujeres; andrés manuel; baja california; por supuesto;\n",
            "todas las; sin embargo; nada más; tiene que; tren maya; sobre todo;\n",
            "para poder; mil millones; por eso; ver con; director general; las\n",
            "personas; creo que; los mexicanos; manuel lópez; fiscalía general;\n",
            "guardia nacional; del estado; donald trump; los trabajadores; para\n",
            "que; otro lado; cuarta transformación; estamos trabajando; por qué;\n",
            "próximo año; que ver; quiere decir; los estados; presidente trump;\n",
            "garcía luna; rosa icela\n"
          ]
        }
      ],
      "source": [
        "shein_text_twitter.collocations(num=50)"
      ]
    },
    {
      "cell_type": "markdown",
      "metadata": {
        "id": "ucWFg-Xa26xK"
      },
      "source": [
        "### 3.5- Muestre un histograma de longitud en caracteres de las palabras. Muestre en el histograma el top 5 de longitudes más largas."
      ]
    },
    {
      "cell_type": "code",
      "execution_count": 82,
      "metadata": {
        "id": "6BEWQ70O2_mH"
      },
      "outputs": [],
      "source": [
        "from nltk.probability import FreqDist"
      ]
    },
    {
      "cell_type": "code",
      "execution_count": 83,
      "metadata": {
        "id": "o0ZPwVwRM7od"
      },
      "outputs": [],
      "source": [
        "def histogram_word_len(text: nltk.Text) -> None:\n",
        "    len_words = [len(word) for word in text]\n",
        "    len_dist = FreqDist(len_words)\n",
        "\n",
        "    plt.figure(figsize=(12, 5))\n",
        "    plt.bar(len_dist.keys(), len_dist.values(), color='blue', alpha=0.7)\n",
        "    plt.xlabel(\"Longitud de palabras\")\n",
        "    plt.ylabel(\"Conteo\")\n",
        "    plt.title(\"Histograma de longitud de palabras\")\n",
        "    plt.xticks(rotation=90)\n",
        "    plt.show()\n",
        "\n",
        "    print(\"Top 5 de longitudes más largas:\")\n",
        "    len_words_unique = list(len_dist.keys())\n",
        "    len_words_unique.sort()\n",
        "    print(len_words_unique[-5:])\n",
        "\n",
        "    print(\"Algunos ejemplos:\")\n",
        "\n",
        "    for word in text.vocab():\n",
        "      if len(word) in len_words_unique[-5:]:\n",
        "        print(word, len(word))\n"
      ]
    },
    {
      "cell_type": "markdown",
      "metadata": {
        "id": "aHA6gRegKfm3"
      },
      "source": [
        "AMLO"
      ]
    },
    {
      "cell_type": "code",
      "execution_count": 84,
      "metadata": {
        "colab": {
          "base_uri": "https://localhost:8080/",
          "height": 656
        },
        "id": "c9zShNOnYNqp",
        "outputId": "3098056f-e258-42b2-c2df-eeee8bd1fe3c"
      },
      "outputs": [
        {
          "data": {
            "image/png": "[encoded data removed]",
            "text/plain": [
              "<Figure size 1200x500 with 1 Axes>"
            ]
          },
          "metadata": {},
          "output_type": "display_data"
        },
        {
          "name": "stdout",
          "output_type": "stream",
          "text": [
            "Top 5 de longitudes más largas:\n",
            "[38, 40, 41, 43, 48]\n",
            "Algunos ejemplos:\n",
            "fondodepensionesparaelbienestar.gob.mx 38\n",
            "méxico-querétaro-irapuato-guadalajara-manzanillo 48\n",
            "manzanillo-colima-guadalajara-irapuato 38\n",
            "medicosespecialistas.imssbienestar.gob.mx 41\n",
            "medicosespecialistasimssbienestar.gob.mx 40\n",
            "profesionalesdelasalud.imssbienestar.gob.mx 43\n"
          ]
        }
      ],
      "source": [
        "histogram_word_len(amlo_text_twitter)"
      ]
    },
    {
      "cell_type": "markdown",
      "metadata": {
        "id": "9_iDdoi8MxJK"
      },
      "source": [
        "Sheinbaum"
      ]
    },
    {
      "cell_type": "code",
      "execution_count": 85,
      "metadata": {
        "colab": {
          "base_uri": "https://localhost:8080/",
          "height": 656
        },
        "id": "kXg61QZ9OzIn",
        "outputId": "e608be3e-9e80-46b4-db42-d67ecc39f480"
      },
      "outputs": [
        {
          "data": {
            "image/png": "[encoded data removed]",
            "text/plain": [
              "<Figure size 1200x500 with 1 Axes>"
            ]
          },
          "metadata": {},
          "output_type": "display_data"
        },
        {
          "name": "stdout",
          "output_type": "stream",
          "text": [
            "Top 5 de longitudes más largas:\n",
            "[35, 37, 40, 43, 86]\n",
            "Algunos ejemplos:\n",
            "www.registroeleccionjudicial.adyt.gob.mx 40\n",
            "www.jovenesconstruyendoelfuturo.stps.gob.mx 43\n",
            "detectordementiras@infodemia.gob.mx 35\n",
            "reformaindigenatraduccion.inpi.gob.mx 37\n",
            "atencionproveedores@imssbienestar.gob.mx 40\n",
            "https://consulmex.sre.gob.mx/index.php/observatorio-de-leyes-y-medidas-antiinmigrantes 86\n"
          ]
        }
      ],
      "source": [
        "histogram_word_len(shein_text_twitter)"
      ]
    },
    {
      "cell_type": "markdown",
      "metadata": {
        "id": "5O5Z9I6L2_y1"
      },
      "source": [
        "### 3.6- Muestre 50 palabras con longitud mayor a 8 caracteres y frecuencia mayor a 5 en todo el texto usando comprenhension list de python."
      ]
    },
    {
      "cell_type": "code",
      "execution_count": 86,
      "metadata": {
        "id": "oLMexB36PAAu"
      },
      "outputs": [],
      "source": [
        "def exercise_3_6(text: nltk.Text) -> list[str]:\n",
        "  word_count = FreqDist(text)\n",
        "\n",
        "  filtered_words = [word for word in word_count if len(word) > 8 and word_count[word] > 5]\n",
        "\n",
        "  return filtered_words[:50]"
      ]
    },
    {
      "cell_type": "markdown",
      "metadata": {
        "id": "k1Ihc1bGO9Uw"
      },
      "source": [
        "AMLO"
      ]
    },
    {
      "cell_type": "code",
      "execution_count": 87,
      "metadata": {
        "colab": {
          "base_uri": "https://localhost:8080/"
        },
        "id": "a-uKhYCkPtuP",
        "outputId": "341a5766-e7bd-401c-ab83-73e540d8f75a"
      },
      "outputs": [
        {
          "data": {
            "text/plain": [
              "['presidente',\n",
              " 'seguridad',\n",
              " 'importante',\n",
              " 'interlocutor',\n",
              " 'interlocutora',\n",
              " 'información',\n",
              " 'intervención',\n",
              " 'secretaría',\n",
              " 'corrupción',\n",
              " 'trabajadores',\n",
              " 'mexicanos',\n",
              " 'bienestar',\n",
              " 'secretario',\n",
              " 'elementos',\n",
              " 'construcción',\n",
              " 'trabajando',\n",
              " 'investigación',\n",
              " 'inversión',\n",
              " 'presupuesto',\n",
              " 'siguiente',\n",
              " 'comunicación',\n",
              " 'aeropuerto',\n",
              " 'gobernador',\n",
              " 'preguntarle',\n",
              " 'transformación',\n",
              " 'desarrollo',\n",
              " 'situación',\n",
              " 'democracia',\n",
              " 'administración',\n",
              " 'república',\n",
              " 'kilómetros',\n",
              " 'imagínense',\n",
              " 'violencia',\n",
              " 'constitución',\n",
              " 'población',\n",
              " 'hospitales',\n",
              " 'inaudible',\n",
              " 'solamente',\n",
              " 'autoridades',\n",
              " 'protección',\n",
              " 'california',\n",
              " 'municipios',\n",
              " 'gobiernos',\n",
              " 'secretaria',\n",
              " 'precisamente',\n",
              " 'educación',\n",
              " 'electoral',\n",
              " 'instituto',\n",
              " 'internacional',\n",
              " 'diciembre']"
            ]
          },
          "execution_count": 87,
          "metadata": {},
          "output_type": "execute_result"
        }
      ],
      "source": [
        "exercise_3_6(amlo_text_twitter)"
      ]
    },
    {
      "cell_type": "markdown",
      "metadata": {
        "id": "3bvYjHFmP1vp"
      },
      "source": [
        "Sheinbaum"
      ]
    },
    {
      "cell_type": "code",
      "execution_count": 88,
      "metadata": {
        "colab": {
          "base_uri": "https://localhost:8080/"
        },
        "id": "2Dr4gFU0cv5Z",
        "outputId": "014e0479-55de-4ded-845e-1fc7d2706fa8"
      },
      "outputs": [
        {
          "data": {
            "text/plain": [
              "['presidenta',\n",
              " 'sheinbaum',\n",
              " 'importante',\n",
              " 'presidente',\n",
              " 'seguridad',\n",
              " 'secretaría',\n",
              " 'mexicanos',\n",
              " 'bienestar',\n",
              " 'información',\n",
              " 'secretario',\n",
              " 'desarrollo',\n",
              " 'trabajando',\n",
              " 'preguntarle',\n",
              " 'trabajadores',\n",
              " 'estrategia',\n",
              " 'república',\n",
              " 'educación',\n",
              " 'constitución',\n",
              " 'investigación',\n",
              " 'inversión',\n",
              " 'solamente',\n",
              " 'coordinación',\n",
              " 'secretaria',\n",
              " 'violencia',\n",
              " 'programas',\n",
              " 'presentar',\n",
              " 'infonavit',\n",
              " 'particularmente',\n",
              " 'constitucional',\n",
              " 'transformación',\n",
              " 'presupuesto',\n",
              " 'instituto',\n",
              " 'cualquier',\n",
              " 'proyectos',\n",
              " 'corrupción',\n",
              " 'administración',\n",
              " 'particular',\n",
              " 'diciembre',\n",
              " 'servicios',\n",
              " 'protección',\n",
              " 'gobernador',\n",
              " 'producción',\n",
              " 'justamente',\n",
              " 'resultados',\n",
              " 'finalmente',\n",
              " 'comunicación',\n",
              " 'situación',\n",
              " 'población',\n",
              " 'fentanilo',\n",
              " 'infraestructura']"
            ]
          },
          "execution_count": 88,
          "metadata": {},
          "output_type": "execute_result"
        }
      ],
      "source": [
        "exercise_3_6(shein_text_twitter)"
      ]
    },
    {
      "cell_type": "markdown",
      "metadata": {
        "id": "m90lx-aO3Exp"
      },
      "source": [
        "### 3.7- Ver https://www.nltk.org/book/ch02.html en la sección 1.5. Proponga una gráfica usando ConditionalFreqDist como la de la Sección 1.5 para estos datos. Usted elige las palabras."
      ]
    },
    {
      "cell_type": "markdown",
      "metadata": {
        "id": "79NJiSMuWlnk"
      },
      "source": [
        "Propones la visualización de el conteo de palabras dadas a lo largo de los meses."
      ]
    },
    {
      "cell_type": "code",
      "execution_count": 100,
      "metadata": {
        "id": "nLE_qqqqQEC6"
      },
      "outputs": [],
      "source": [
        "def exercise_3_7(corpus: dict[str, str], list_dates: list[str], words_of_interest: list[str]) -> list[str]:\n",
        "    corpus_per_date = {\n",
        "        date: tweet_tokenizer.tokenize(corpus[date].lower())\n",
        "        for date in list_dates\n",
        "    }\n",
        "\n",
        "    cfd = nltk.ConditionalFreqDist(\n",
        "          (target, date[:7]) # consider only year-month in date\n",
        "          for date in list_dates\n",
        "          for w in corpus_per_date[date]\n",
        "          for target in words_of_interest\n",
        "          if w == target\n",
        "          )\n",
        "\n",
        "    plt.figure(figsize=(12, 5))\n",
        "    cfd.plot()\n",
        "    plt.show()"
      ]
    },
    {
      "cell_type": "markdown",
      "metadata": {
        "id": "nlq0KGoiWoPt"
      },
      "source": [
        "AMLO"
      ]
    },
    {
      "cell_type": "code",
      "execution_count": 101,
      "metadata": {
        "colab": {
          "base_uri": "https://localhost:8080/",
          "height": 508
        },
        "id": "Pb2eaBIyWpXl",
        "outputId": "53f4c496-01fd-4c0b-fba1-56dcad0b68bf"
      },
      "outputs": [
        {
          "data": {
            "image/png": "[encoded data removed]",
            "text/plain": [
              "<Figure size 1200x500 with 1 Axes>"
            ]
          },
          "metadata": {},
          "output_type": "display_data"
        }
      ],
      "source": [
        "exercise_3_7(amlo_corpus, conferences_dates, [\"mafia\", \"becas\", \"covid\", \"investigación\"])"
      ]
    },
    {
      "cell_type": "markdown",
      "metadata": {
        "id": "L5YpNpDVX4Bv"
      },
      "source": [
        "Sheinbaum"
      ]
    },
    {
      "cell_type": "code",
      "execution_count": 105,
      "metadata": {
        "colab": {
          "base_uri": "https://localhost:8080/",
          "height": 508
        },
        "id": "0H_4nHtaX7D5",
        "outputId": "a65afce7-34e8-4707-ef78-2095bd235a12"
      },
      "outputs": [
        {
          "data": {
            "image/png": "[encoded data removed]",
            "text/plain": [
              "<Figure size 1200x500 with 1 Axes>"
            ]
          },
          "metadata": {},
          "output_type": "display_data"
        }
      ],
      "source": [
        "exercise_3_7(shein_corpus, conferences_dates_shein, [\"ciencia\", \"becas\", \"unidos\", \"investigación\"])"
      ]
    },
    {
      "cell_type": "markdown",
      "metadata": {
        "id": "aKXohEUn3M2h"
      },
      "source": [
        "### 3.8- Use la lista de stopwords de nltk y obtenga la cantidad de palabras en los datos con y sin stopword. Comente brevemente las diferencias."
      ]
    },
    {
      "cell_type": "code",
      "execution_count": 93,
      "metadata": {
        "id": "XiHoHRYL3Qzp"
      },
      "outputs": [],
      "source": [
        "from nltk.corpus import stopwords"
      ]
    },
    {
      "cell_type": "code",
      "execution_count": 94,
      "metadata": {
        "id": "JXZW1kOG1Ivi"
      },
      "outputs": [],
      "source": [
        "stopwords_es = set(stopwords.words(\"spanish\"))"
      ]
    },
    {
      "cell_type": "markdown",
      "metadata": {
        "id": "C6i9DRakdeqr"
      },
      "source": [
        "AMLO"
      ]
    },
    {
      "cell_type": "code",
      "execution_count": 106,
      "metadata": {
        "colab": {
          "base_uri": "https://localhost:8080/"
        },
        "id": "y25830fv0WK6",
        "outputId": "f87582cf-1b2e-4c1b-e3d1-a8b350f9367e"
      },
      "outputs": [
        {
          "name": "stdout",
          "output_type": "stream",
          "text": [
            "Número de palabras sin stopwords: 4393340\n",
            "Número de palabras en total: 7775665\n",
            "Porcentaje: 56.50%\n"
          ]
        }
      ],
      "source": [
        "amlo_no_stopwords = [word for word in amlo_text_twitter if word not in stopwords_es]\n",
        "\n",
        "print(\"Número de palabras sin stopwords:\", len(amlo_no_stopwords))\n",
        "print(\"Número de palabras en total:\", N_amlo_twitter)\n",
        "print(f\"Porcentaje: {len(amlo_no_stopwords)/N_amlo_twitter*100:.2f}%\")"
      ]
    },
    {
      "cell_type": "markdown",
      "metadata": {
        "id": "gz2Y3UX1dgmV"
      },
      "source": [
        "Sheinbaum"
      ]
    },
    {
      "cell_type": "code",
      "execution_count": 108,
      "metadata": {
        "colab": {
          "base_uri": "https://localhost:8080/"
        },
        "id": "nNAqOW55diGc",
        "outputId": "d704041c-3b25-4744-cba5-7cc029e05f66"
      },
      "outputs": [
        {
          "name": "stdout",
          "output_type": "stream",
          "text": [
            "Número de palabras sin stopwords: 662947\n",
            "Número de palabras en total: 1160565\n",
            "Porcentaje: 57.12%\n"
          ]
        }
      ],
      "source": [
        "shein_no_stopwords = [word for word in shein_text_twitter if word not in stopwords_es]\n",
        "\n",
        "print(\"Número de palabras sin stopwords:\", len(shein_no_stopwords))\n",
        "print(\"Número de palabras en total:\", N_shein_twitter)\n",
        "print(f\"Porcentaje: {len(shein_no_stopwords)/N_shein_twitter*100:.2f}%\")"
      ]
    },
    {
      "cell_type": "markdown",
      "metadata": {
        "id": "zoAPmpQbdmjF"
      },
      "source": [
        "Sabemos que las palabras más frecuentes en un texto son stopwords. Según lo que vimos en el video de ley de Zipf en el lenguaje, cerca de la mitad de las palabras son stopwords como bien lo observamos en estos ejemplos."
      ]
    },
    {
      "cell_type": "markdown",
      "metadata": {
        "id": "HiST7AXb3Q-M"
      },
      "source": [
        "### 3.9- Muestre las 300 palabras más frecuentes en las conferencias, sin tomar en cuenta stop-words. Muéstrelas de la más frecuente a la menos frecuente."
      ]
    },
    {
      "cell_type": "code",
      "execution_count": 110,
      "metadata": {
        "id": "a9wrUGdnerX7"
      },
      "outputs": [],
      "source": [
        "def exercise_3_9(text: list[str]) -> None:\n",
        "    words_count = FreqDist(text)\n",
        "\n",
        "    for word, count in words_count.most_common(300):\n",
        "      print(f\"{word}  ->  {count} veces\")"
      ]
    },
    {
      "cell_type": "markdown",
      "metadata": {
        "id": "PHyHWA4Ee4R9"
      },
      "source": [
        "AMLO"
      ]
    },
    {
      "cell_type": "code",
      "execution_count": 111,
      "metadata": {
        "colab": {
          "base_uri": "https://localhost:8080/"
        },
        "id": "z93-BDs-e5dO",
        "outputId": "b9d43e1f-15c2-43ea-a685-f5f47a375a53"
      },
      "outputs": [
        {
          "name": "stdout",
          "output_type": "stream",
          "text": [
            ",  ->  665306 veces\n",
            ".  ->  264471 veces\n",
            ":  ->  67017 veces\n",
            "presidente  ->  45630 veces\n",
            "¿  ->  35848 veces\n",
            "?  ->  35768 veces\n",
            "lópez  ->  24800 veces\n",
            "manuel  ->  24100 veces\n",
            "obrador  ->  24088 veces\n",
            "andrés  ->  23802 veces\n",
            ";  ->  21859 veces\n",
            "si  ->  20451 veces\n",
            "mil  ->  20065 veces\n",
            "entonces  ->  19775 veces\n",
            "va  ->  17159 veces\n",
            "méxico  ->  17067 veces\n",
            "vamos  ->  16656 veces\n",
            "‘  ->  16051 veces\n",
            "’  ->  15482 veces\n",
            "pues  ->  14008 veces\n",
            "aquí  ->  13733 veces\n",
            "ver  ->  11601 veces\n",
            "bueno  ->  11440 veces\n",
            "ahí  ->  11189 veces\n",
            "dos  ->  11147 veces\n",
            "…  ->  11142 veces\n",
            "gobierno  ->  10988 veces\n",
            "ahora  ->  10866 veces\n",
            "—  ->  10394 veces\n",
            "millones  ->  9941 veces\n",
            "pueblo  ->  9685 veces\n",
            "cómo  ->  9477 veces\n",
            "pesos  ->  9385 veces\n",
            "así  ->  8961 veces\n",
            "caso  ->  8954 veces\n",
            "ciento  ->  8494 veces\n",
            "gente  ->  8267 veces\n",
            "país  ->  7836 veces\n",
            "nacional  ->  7793 veces\n",
            "ser  ->  7574 veces\n",
            "van  ->  7471 veces\n",
            "señor  ->  7451 veces\n",
            "poder  ->  7233 veces\n",
            "usted  ->  7181 veces\n",
            "años  ->  7162 veces\n",
            "hacer  ->  7130 veces\n",
            "tres  ->  7035 veces\n",
            "días  ->  6939 veces\n",
            "bien  ->  6856 veces\n",
            "pregunta  ->  6559 veces\n",
            "año  ->  6219 veces\n",
            "parte  ->  6167 veces\n",
            "hace  ->  6072 veces\n",
            "unidos  ->  6003 veces\n",
            "decir  ->  5875 veces\n",
            "puede  ->  5875 veces\n",
            "además  ->  5844 veces\n",
            "seguridad  ->  5760 veces\n",
            "importante  ->  5755 veces\n",
            "mismo  ->  5612 veces\n",
            "tema  ->  5601 veces\n",
            "hoy  ->  5588 veces\n",
            "tiempo  ->  5571 veces\n",
            "día  ->  5563 veces\n",
            "personas  ->  5552 veces\n",
            "gracias  ->  5467 veces\n",
            "todas  ->  5418 veces\n",
            "voy  ->  5416 veces\n",
            "general  ->  5314 veces\n",
            "interlocutor  ->  5289 veces\n",
            "salud  ->  5180 veces\n",
            "manera  ->  5175 veces\n",
            "interlocutora  ->  5137 veces\n",
            "luego  ->  5063 veces\n",
            "tener  ->  5016 veces\n",
            "información  ->  4861 veces\n",
            "buenos  ->  4697 veces\n",
            "sólo  ->  4676 veces\n",
            "intervención  ->  4523 veces\n",
            "muchas  ->  4318 veces\n",
            "tren  ->  4302 veces\n",
            "reforma  ->  4291 veces\n",
            "siempre  ->  4279 veces\n",
            "creo  ->  4198 veces\n",
            "secretaría  ->  4192 veces\n",
            "trabajo  ->  4191 veces\n",
            "(  ->  4178 veces\n",
            "haciendo  ->  4173 veces\n",
            "ejemplo  ->  4145 veces\n",
            "acuerdo  ->  4072 veces\n",
            "ciudad  ->  4028 veces\n",
            "toda  ->  3928 veces\n",
            "cuatro  ->  3910 veces\n",
            "ayer  ->  3785 veces\n",
            "pública  ->  3779 veces\n",
            "mejor  ->  3749 veces\n",
            "dinero  ->  3731 veces\n",
            "ustedes  ->  3729 veces\n",
            "corrupción  ->  3727 veces\n",
            "cosas  ->  3708 veces\n",
            "vez  ->  3707 veces\n",
            "política  ->  3640 veces\n",
            "dice  ->  3631 veces\n",
            ")  ->  3583 veces\n",
            "medios  ->  3559 veces\n",
            "quién  ->  3553 veces\n",
            "cinco  ->  3536 veces\n",
            "centavos  ->  3482 veces\n",
            "menos  ->  3441 veces\n",
            "hecho  ->  3430 veces\n",
            "jesús  ->  3373 veces\n",
            "federal  ->  3366 veces\n",
            "proceso  ->  3356 veces\n",
            "social  ->  3349 veces\n",
            "cada  ->  3342 veces\n",
            "agua  ->  3295 veces\n",
            "10  ->  3260 veces\n",
            "todavía  ->  3209 veces\n",
            "maya  ->  3201 veces\n",
            "seguir  ->  3173 veces\n",
            "incluso  ->  3159 veces\n",
            "sino  ->  3131 veces\n",
            "jóvenes  ->  3060 veces\n",
            "mundo  ->  3058 veces\n",
            "haber  ->  3040 veces\n",
            "dar  ->  3035 veces\n",
            "ir  ->  3010 veces\n",
            "trabajadores  ->  2994 veces\n",
            "vida  ->  2979 veces\n",
            "semana  ->  2972 veces\n",
            "gran  ->  2951 veces\n",
            "mexicanos  ->  2942 veces\n",
            "después  ->  2921 veces\n",
            "zona  ->  2892 veces\n",
            "ramírez  ->  2864 veces\n",
            "allá  ->  2854 veces\n",
            "sido  ->  2847 veces\n",
            "derecho  ->  2840 veces\n",
            "cuenta  ->  2834 veces\n",
            "atención  ->  2802 veces\n",
            "justicia  ->  2799 veces\n",
            "empresas  ->  2784 veces\n",
            "apoyo  ->  2775 veces\n",
            "quiero  ->  2743 veces\n",
            "nuevo  ->  2742 veces\n",
            "programa  ->  2735 veces\n",
            "seis  ->  2735 veces\n",
            "cabo  ->  2724 veces\n",
            "video  ->  2704 veces\n",
            "guardia  ->  2701 veces\n",
            "judicial  ->  2694 veces\n",
            "pueden  ->  2677 veces\n",
            "problema  ->  2675 veces\n",
            "bienestar  ->  2631 veces\n",
            "momento  ->  2595 veces\n",
            "asunto  ->  2568 veces\n",
            "adelante  ->  2550 veces\n",
            "hizo  ->  2550 veces\n",
            "casos  ->  2537 veces\n",
            "hablando  ->  2534 veces\n",
            "público  ->  2526 veces\n",
            "20  ->  2526 veces\n",
            "secretario  ->  2525 veces\n",
            "empresa  ->  2519 veces\n",
            "da  ->  2518 veces\n",
            "sé  ->  2512 veces\n",
            "fiscalía  ->  2498 veces\n",
            "primera  ->  2444 veces\n",
            "primer  ->  2429 veces\n",
            "primero  ->  2428 veces\n",
            "pasado  ->  2422 veces\n",
            "conocer  ->  2411 veces\n",
            "ah  ->  2404 veces\n",
            "mucha  ->  2383 veces\n",
            "elementos  ->  2380 veces\n",
            "cuevas  ->  2380 veces\n",
            "favor  ->  2374 veces\n",
            "grupo  ->  2354 veces\n",
            "construcción  ->  2345 veces\n",
            "podemos  ->  2335 veces\n",
            "sistema  ->  2327 veces\n",
            "hacia  ->  2320 veces\n",
            "nivel  ->  2318 veces\n",
            "trabajando  ->  2311 veces\n",
            "veces  ->  2310 veces\n",
            "nunca  ->  2309 veces\n",
            "investigación  ->  2291 veces\n",
            "inversión  ->  2289 veces\n",
            "mañana  ->  2283 veces\n",
            "falta  ->  2268 veces\n",
            "precio  ->  2260 veces\n",
            "ley  ->  2256 veces\n",
            "plan  ->  2255 veces\n",
            "informar  ->  2245 veces\n",
            "baja  ->  2235 veces\n",
            "claro  ->  2233 veces\n",
            "iba  ->  2221 veces\n",
            "defensa  ->  2213 veces\n",
            "verdad  ->  2205 veces\n",
            "lugar  ->  2204 veces\n",
            "presupuesto  ->  2202 veces\n",
            "siguiente  ->  2201 veces\n",
            "periodo  ->  2173 veces\n",
            "15  ->  2161 veces\n",
            "garcía  ->  2150 veces\n",
            "servicio  ->  2141 veces\n",
            "comunicación  ->  2141 veces\n",
            "decía  ->  2135 veces\n",
            "través  ->  2096 veces\n",
            "mayoría  ->  2083 veces\n",
            "centro  ->  2068 veces\n",
            "debe  ->  2062 veces\n",
            "médicos  ->  2058 veces\n",
            "dónde  ->  2055 veces\n",
            "aeropuerto  ->  2048 veces\n",
            "gobernador  ->  2042 veces\n",
            "comisión  ->  2025 veces\n",
            "obras  ->  2024 veces\n",
            "preguntarle  ->  2014 veces\n",
            "calderón  ->  2011 veces\n",
            "recursos  ->  2010 veces\n",
            "países  ->  2009 veces\n",
            "transformación  ->  2007 veces\n",
            "quieren  ->  2002 veces\n",
            "dijo  ->  1993 veces\n",
            "san  ->  1992 veces\n",
            "100  ->  1981 veces\n",
            "tipo  ->  1978 veces\n",
            "hicieron  ->  1975 veces\n",
            "historia  ->  1975 veces\n",
            "veracruz  ->  1972 veces\n",
            "total  ->  1964 veces\n",
            "corte  ->  1961 veces\n",
            "mayor  ->  1953 veces\n",
            "buena  ->  1951 veces\n",
            "miren  ->  1942 veces\n",
            "obra  ->  1941 veces\n",
            "desarrollo  ->  1938 veces\n",
            "situación  ->  1937 veces\n",
            "democracia  ->  1934 veces\n",
            "administración  ->  1927 veces\n",
            "república  ->  1925 veces\n",
            "kilómetros  ->  1924 veces\n",
            "pueblos  ->  1921 veces\n",
            "30  ->  1911 veces\n",
            "tan  ->  1909 veces\n",
            "imagínense  ->  1898 veces\n",
            "proyecto  ->  1896 veces\n",
            "digo  ->  1894 veces\n",
            "hacen  ->  1889 veces\n",
            "aunque  ->  1887 veces\n",
            "mes  ->  1884 veces\n",
            "dio  ->  1883 veces\n",
            "dólares  ->  1879 veces\n",
            "violencia  ->  1877 veces\n",
            "constitución  ->  1876 veces\n",
            "informe  ->  1874 veces\n",
            "marina  ->  1873 veces\n",
            "-  ->  1872 veces\n",
            "dicen  ->  1863 veces\n",
            "sonora  ->  1848 veces\n",
            "segundo  ->  1840 veces\n",
            "ningún  ->  1816 veces\n",
            "ocho  ->  1809 veces\n",
            "nadie  ->  1800 veces\n",
            "respeto  ->  1796 veces\n",
            "saben  ->  1790 veces\n",
            "queremos  ->  1789 veces\n",
            "tramo  ->  1786 veces\n",
            "derechos  ->  1781 veces\n",
            "sigue  ->  1778 veces\n",
            "dicho  ->  1778 veces\n",
            "cuanto  ->  1775 veces\n",
            "llegar  ->  1775 veces\n",
            "luis  ->  1773 veces\n",
            "libertad  ->  1762 veces\n",
            "cosa  ->  1761 veces\n",
            "hombre  ->  1748 veces\n",
            "mexicano  ->  1744 veces\n",
            "pemex  ->  1743 veces\n",
            "población  ->  1739 veces\n",
            "hospitales  ->  1730 veces\n",
            "embargo  ->  1728 veces\n",
            "casi  ->  1726 veces\n",
            "!  ->  1725 veces\n",
            "medio  ->  1719 veces\n",
            "viene  ->  1717 veces\n",
            "24  ->  1711 veces\n",
            "llama  ->  1708 veces\n",
            "ejército  ->  1679 veces\n",
            "persona  ->  1673 veces\n",
            "cuál  ->  1671 veces\n",
            "¡  ->  1665 veces\n",
            "meses  ->  1655 veces\n",
            "respecto  ->  1653 veces\n",
            "campaña  ->  1649 veces\n",
            "nueva  ->  1647 veces\n",
            "vemos  ->  1644 veces\n",
            "acciones  ->  1639 veces\n",
            "voz  ->  1637 veces\n"
          ]
        }
      ],
      "source": [
        "exercise_3_9(amlo_no_stopwords)"
      ]
    },
    {
      "cell_type": "markdown",
      "metadata": {
        "id": "2e1ebVoJfAts"
      },
      "source": [
        "Sheinbaum"
      ]
    },
    {
      "cell_type": "code",
      "execution_count": 112,
      "metadata": {
        "colab": {
          "base_uri": "https://localhost:8080/"
        },
        "id": "JHpC8wflfB94",
        "outputId": "49d79c00-29eb-428a-f43e-069d8e982015"
      },
      "outputs": [
        {
          "name": "stdout",
          "output_type": "stream",
          "text": [
            ",  ->  93135 veces\n",
            ".  ->  38716 veces\n",
            ":  ->  11083 veces\n",
            "presidenta  ->  7050 veces\n",
            "méxico  ->  6422 veces\n",
            "¿  ->  5877 veces\n",
            "?  ->  5850 veces\n",
            ";  ->  4784 veces\n",
            "—  ->  4415 veces\n",
            "entonces  ->  4087 veces\n",
            "sheinbaum  ->  3859 veces\n",
            "claudia  ->  3832 veces\n",
            "pardo  ->  3674 veces\n",
            "si  ->  3530 veces\n",
            "pregunta  ->  3297 veces\n",
            "vamos  ->  3259 veces\n",
            "va  ->  2922 veces\n",
            "“  ->  2844 veces\n",
            "”  ->  2813 veces\n",
            "…  ->  2461 veces\n",
            "pues  ->  2085 veces\n",
            "mil  ->  2055 veces\n",
            "ver  ->  1846 veces\n",
            "bueno  ->  1823 veces\n",
            "parte  ->  1819 veces\n",
            "gobierno  ->  1738 veces\n",
            "tema  ->  1735 veces\n",
            "gracias  ->  1694 veces\n",
            "nacional  ->  1611 veces\n",
            "ahora  ->  1574 veces\n",
            "país  ->  1569 veces\n",
            "unidos  ->  1516 veces\n",
            "importante  ->  1499 veces\n",
            "poder  ->  1495 veces\n",
            "ahí  ->  1491 veces\n",
            "aquí  ->  1465 veces\n",
            "caso  ->  1457 veces\n",
            "días  ->  1436 veces\n",
            "cómo  ->  1414 veces\n",
            "hoy  ->  1412 veces\n",
            "ser  ->  1372 veces\n",
            "hacer  ->  1359 veces\n",
            "presidente  ->  1336 veces\n",
            "todas  ->  1307 veces\n",
            "seguridad  ->  1241 veces\n",
            "van  ->  1210 veces\n",
            "personas  ->  1193 veces\n",
            "dos  ->  1156 veces\n",
            "día  ->  1144 veces\n",
            "muchas  ->  1126 veces\n",
            "ciento  ->  1117 veces\n",
            "mujeres  ->  1099 veces\n",
            "además  ->  1087 veces\n",
            "año  ->  1076 veces\n",
            "manera  ->  1075 veces\n",
            "decir  ->  1072 veces\n",
            "secretaría  ->  1062 veces\n",
            "usted  ->  1062 veces\n",
            "pueblo  ->  1037 veces\n",
            "general  ->  1006 veces\n",
            "salud  ->  1003 veces\n",
            "hace  ->  959 veces\n",
            "así  ->  947 veces\n",
            "tener  ->  940 veces\n",
            "millones  ->  926 veces\n",
            "buenos  ->  918 veces\n",
            "pesos  ->  910 veces\n",
            "trabajo  ->  901 veces\n",
            "momento  ->  880 veces\n",
            "años  ->  858 veces\n",
            "ayer  ->  846 veces\n",
            "programa  ->  843 veces\n",
            "mexicanos  ->  797 veces\n",
            "ejemplo  ->  791 veces\n",
            "sino  ->  789 veces\n",
            "reforma  ->  781 veces\n",
            "bien  ->  779 veces\n",
            "puede  ->  775 veces\n",
            "bienestar  ->  761 veces\n",
            "información  ->  741 veces\n",
            "judicial  ->  737 veces\n",
            "secretario  ->  733 veces\n",
            "después  ->  729 veces\n",
            "lópez  ->  726 veces\n",
            "desarrollo  ->  691 veces\n",
            "atención  ->  690 veces\n",
            "ciudad  ->  677 veces\n",
            "plan  ->  676 veces\n",
            "obrador  ->  672 veces\n",
            "trabajando  ->  666 veces\n",
            "tres  ->  653 veces\n",
            "haber  ->  652 veces\n",
            "cada  ->  652 veces\n",
            "incluso  ->  652 veces\n",
            "ley  ->  644 veces\n",
            "acuerdo  ->  643 veces\n",
            "–  ->  635 veces\n",
            "haciendo  ->  629 veces\n",
            "empresas  ->  626 veces\n",
            "tiempo  ->  617 veces\n",
            "preguntarle  ->  612 veces\n",
            "primero  ->  605 veces\n",
            "(  ->  603 veces\n",
            "siempre  ->  600 veces\n",
            "mismo  ->  585 veces\n",
            "temas  ->  578 veces\n",
            "trabajadores  ->  576 veces\n",
            "menos  ->  572 veces\n",
            "dar  ->  568 veces\n",
            "estrategia  ->  566 veces\n",
            ")  ->  558 veces\n",
            "proceso  ->  558 veces\n",
            "república  ->  552 veces\n",
            "pública  ->  546 veces\n",
            "agua  ->  543 veces\n",
            "federal  ->  538 veces\n",
            "educación  ->  531 veces\n",
            "dice  ->  530 veces\n",
            "constitución  ->  526 veces\n",
            "todavía  ->  525 veces\n",
            "vez  ->  525 veces\n",
            "través  ->  524 veces\n",
            "seguir  ->  523 veces\n",
            "solo  ->  520 veces\n",
            "creo  ->  518 veces\n",
            "partir  ->  518 veces\n",
            "’  ->  514 veces\n",
            "apoyo  ->  514 veces\n",
            "recursos  ->  513 veces\n",
            "‘  ->  508 veces\n",
            "derechos  ->  508 veces\n",
            "primera  ->  504 veces\n",
            "hizo  ->  504 veces\n",
            "investigación  ->  503 veces\n",
            "vivienda  ->  497 veces\n",
            "pueden  ->  492 veces\n",
            "hecho  ->  489 veces\n",
            "social  ->  488 veces\n",
            "derecho  ->  487 veces\n",
            "inversión  ->  485 veces\n",
            "solamente  ->  481 veces\n",
            "coordinación  ->  475 veces\n",
            "pueda  ->  464 veces\n",
            "cuál  ->  463 veces\n",
            "fiscalía  ->  461 veces\n",
            "mexicano  ->  459 veces\n",
            "mayor  ->  458 veces\n",
            "ustedes  ->  455 veces\n",
            "economía  ->  454 veces\n",
            "queremos  ->  453 veces\n",
            "semana  ->  448 veces\n",
            "algún  ->  443 veces\n",
            "mujer  ->  442 veces\n",
            "toda  ->  442 veces\n",
            "vida  ->  436 veces\n",
            "casos  ->  430 veces\n",
            "alguna  ->  427 veces\n",
            "nuevo  ->  424 veces\n",
            "primer  ->  422 veces\n",
            "secretaria  ->  421 veces\n",
            "violencia  ->  419 veces\n",
            "jóvenes  ->  418 veces\n",
            "programas  ->  415 veces\n",
            "ir  ->  413 veces\n",
            "gente  ->  411 veces\n",
            "presentar  ->  410 veces\n",
            "viene  ->  408 veces\n",
            "veces  ->  407 veces\n",
            "infonavit  ->  407 veces\n",
            "sido  ->  406 veces\n",
            "particularmente  ->  406 veces\n",
            "saber  ->  401 veces\n",
            "sé  ->  399 veces\n",
            "empresa  ->  399 veces\n",
            "digamos  ->  398 veces\n",
            "justicia  ->  396 veces\n",
            "ello  ->  396 veces\n",
            "puedan  ->  396 veces\n",
            "trump  ->  396 veces\n",
            "quién  ->  395 veces\n",
            "objetivo  ->  394 veces\n",
            "tipo  ->  393 veces\n",
            "gran  ->  386 veces\n",
            "constitucional  ->  386 veces\n",
            "proyecto  ->  382 veces\n",
            "transformación  ->  381 veces\n",
            "presupuesto  ->  381 veces\n",
            "sistema  ->  380 veces\n",
            "acciones  ->  380 veces\n",
            "respecto  ->  379 veces\n",
            "instituto  ->  375 veces\n",
            "luego  ->  373 veces\n",
            "reunión  ->  372 veces\n",
            "cualquier  ->  372 veces\n",
            "segundo  ->  371 veces\n",
            "elección  ->  371 veces\n",
            "mejor  ->  368 veces\n",
            "países  ->  368 veces\n",
            "2024  ->  367 veces\n",
            "video  ->  365 veces\n",
            "relación  ->  365 veces\n",
            "supuesto  ->  365 veces\n",
            "grupo  ->  364 veces\n",
            "proyectos  ->  364 veces\n",
            "tren  ->  363 veces\n",
            "adelante  ->  359 veces\n",
            "corrupción  ->  358 veces\n",
            "nivel  ->  357 veces\n",
            "lado  ->  356 veces\n",
            "administración  ->  356 veces\n",
            "corte  ->  355 veces\n",
            "lugar  ->  355 veces\n",
            "mexicana  ->  353 veces\n",
            "director  ->  352 veces\n",
            "verdad  ->  351 veces\n",
            "público  ->  347 veces\n",
            "10  ->  347 veces\n",
            "podemos  ->  346 veces\n",
            "pasado  ->  344 veces\n",
            "2025  ->  343 veces\n",
            "particular  ->  341 veces\n",
            "da  ->  336 veces\n",
            "mundo  ->  333 veces\n",
            "diciembre  ->  332 veces\n",
            "voy  ->  330 veces\n",
            "defensa  ->  329 veces\n",
            "servicios  ->  329 veces\n",
            "permiso  ->  327 veces\n",
            "historia  ->  326 veces\n",
            "persona  ->  324 veces\n",
            "enero  ->  323 veces\n",
            "pemex  ->  323 veces\n",
            "octubre  ->  318 veces\n",
            "próximo  ->  318 veces\n",
            "hacia  ->  317 veces\n",
            "-  ->  315 veces\n",
            "protección  ->  315 veces\n",
            "jueces  ->  313 veces\n",
            "sonora  ->  312 veces\n",
            "cuatro  ->  311 veces\n",
            "gobernador  ->  309 veces\n",
            "zona  ->  308 veces\n",
            "acá  ->  306 veces\n",
            "allá  ->  306 veces\n",
            "último  ->  306 veces\n",
            "producción  ->  305 veces\n",
            "política  ->  300 veces\n",
            "mes  ->  300 veces\n",
            "justamente  ->  300 veces\n",
            "resultados  ->  300 veces\n",
            "garcía  ->  300 veces\n",
            "medios  ->  297 veces\n",
            "quiere  ->  296 veces\n",
            "gabinete  ->  295 veces\n",
            "acapulco  ->  295 veces\n",
            "finalmente  ->  294 veces\n",
            "periodo  ->  294 veces\n",
            "sector  ->  293 veces\n",
            "dónde  ->  292 veces\n",
            "comisión  ->  291 veces\n",
            "comunicación  ->  291 veces\n",
            "número  ->  290 veces\n",
            "pueblos  ->  289 veces\n",
            "mañana  ->  289 veces\n",
            "dijo  ->  288 veces\n",
            "cierto  ->  287 veces\n",
            "equipo  ->  287 veces\n",
            "familias  ->  285 veces\n",
            "forma  ->  284 veces\n",
            "campaña  ->  282 veces\n",
            "quiero  ->  282 veces\n",
            "tal  ->  278 veces\n",
            "centro  ->  277 veces\n",
            "situación  ->  277 veces\n",
            "trabajar  ->  277 veces\n",
            "población  ->  276 veces\n",
            "llama  ->  276 veces\n",
            "fentanilo  ->  276 veces\n",
            "infraestructura  ->  275 veces\n",
            "idea  ->  274 veces\n",
            "baja  ->  272 veces\n",
            "mexicanas  ->  270 veces\n",
            "varios  ->  270 veces\n",
            "casa  ->  269 veces\n",
            "lugares  ->  269 veces\n",
            "comunidades  ->  269 veces\n",
            "sociales  ->  268 veces\n",
            "construcción  ->  268 veces\n",
            "hablar  ->  266 veces\n",
            "digo  ->  266 veces\n",
            "energía  ->  266 veces\n",
            "problema  ->  265 veces\n",
            "nueva  ->  265 veces\n",
            "mucha  ->  263 veces\n",
            "atender  ->  262 veces\n",
            "precisamente  ->  262 veces\n",
            "sigue  ->  261 veces\n",
            "marina  ->  261 veces\n",
            "cuenta  ->  261 veces\n",
            "doctora  ->  261 veces\n"
          ]
        }
      ],
      "source": [
        "exercise_3_9(shein_no_stopwords)"
      ]
    },
    {
      "cell_type": "markdown",
      "metadata": {
        "id": "xLrJaXlt3ZQl"
      },
      "source": [
        "## 4- Otras librerías en Python"
      ]
    },
    {
      "cell_type": "markdown",
      "metadata": {
        "id": "46K0yDD13biy"
      },
      "source": [
        "### 4.1- Mencione dos librerías en Python además de NLTK para NLP. Ponga una desventaja y ventaja de cada una."
      ]
    },
    {
      "cell_type": "markdown",
      "metadata": {
        "id": "Z6IwnvaI3i74"
      },
      "source": [
        "**TextBlob**\n",
        "\n",
        "*   *Ventaja*: Es una capa de abstracción de NLTK, por lo que provee una interfaz más simple para tareas comunes de NLP, e.g, análisis de sentimiento, en pocas líneas de código.\n",
        "*   *Desventaja*: Para funciones avanzadas es mejor ir directamente a NLTK, pues como TextBlob es un wrapper de NLTK puede ser más complicado implementarlas.\n",
        "\n",
        "\n",
        "**spaCy**\n",
        "\n",
        "*   *Ventaja*: Es muy rápido y eficiente, excelente para procesamiento de texto a gran escala, ya que tiene mucha optimización de memoria detrás usando Cython (librería de Python para correr código en C/C++). Ideal para contextos industriales.\n",
        "*   *Desventaja*: Tiene una curva de aprendizaje muy pronunciada, por lo que no es ideal para principiantes en NLP."
      ]
    },
    {
      "cell_type": "markdown",
      "metadata": {
        "id": "WnFPfA543jEk"
      },
      "source": [
        "### 4.2- Mencione tres alternativas para Text Processing en NLP qué existen en otros lenguajes. De una ventaja y desventaja de cada una."
      ]
    },
    {
      "cell_type": "markdown",
      "metadata": {
        "id": "yOHZijqF3nef"
      },
      "source": [
        "**Quanteda (R)**\n",
        "\n",
        "*   *Ventaja*: Ofrece una interfaz amigable y simple, ideal para principiantes en NLP. Además es considerado más rápido que otras librerías para NLP en R y en Python por su implementación C++ y manejo de hilos.\n",
        "*   *Desventaja*: La adopción de R va en declive. Difícilmente se puede poner en producción código de R.\n",
        "\n",
        "\n",
        "**Apache OpenNLP (Java)**\n",
        "\n",
        "*   *Ventaja*: Es el toolkit de NLP más común en Java. Ofrece las tareas más usuales de NLP como tokenización, segmentación, etc, y además están disponibles desde línea de comandos para experimentos rápidos.\n",
        "\n",
        "**NLP.js (NodeJS, JavaScript)**\n",
        "\n",
        "*   *Ventaja*: NodeJS es el framework para crear backend de aplicaciones, en JavaScript, más usado en el mundo (Statista, 2024). Esta librería permite incluir tareas de NLP a los backend ya existentes."
      ]
    }
  ],
  "metadata": {
    "colab": {
      "provenance": [],
      "toc_visible": true
    },
    "kernelspec": {
      "display_name": ".venv",
      "language": "python",
      "name": "python3"
    },
    "language_info": {
      "codemirror_mode": {
        "name": "ipython",
        "version": 3
      },
      "file_extension": ".py",
      "mimetype": "text/x-python",
      "name": "python",
      "nbconvert_exporter": "python",
      "pygments_lexer": "ipython3",
      "version": "3.9.6"
    }
  },
  "nbformat": 4,
  "nbformat_minor": 0
}
